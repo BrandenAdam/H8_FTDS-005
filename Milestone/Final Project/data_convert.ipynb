{
 "cells": [
  {
   "cell_type": "code",
   "execution_count": 1,
   "metadata": {},
   "outputs": [
    {
     "name": "stdout",
     "output_type": "stream",
     "text": [
      "Note: NumExpr detected 12 cores but \"NUMEXPR_MAX_THREADS\" not set, so enforcing safe limit of 8.\n",
      "NumExpr defaulting to 8 threads.\n"
     ]
    }
   ],
   "source": [
    "import fiftyone as fo\n",
    "import fiftyone.zoo as foz"
   ]
  },
  {
   "cell_type": "code",
   "execution_count": 2,
   "metadata": {},
   "outputs": [],
   "source": [
    "# dataset = foz.load_zoo_dataset(\n",
    "#     \"open-images-v6\",\n",
    "#     split=\"validation\",\n",
    "#     max_samples=100,\n",
    "#     seed=51,\n",
    "#     shuffle=True,\n",
    "# )"
   ]
  },
  {
   "cell_type": "code",
   "execution_count": 3,
   "metadata": {},
   "outputs": [],
   "source": [
    "# if __name__ == \"__main__\":\n",
    "#     # Ensures that the App processes are safely launched on Windows\n",
    "#     session = fo.launch_app(dataset)\n",
    "#     session.wait()"
   ]
  },
  {
   "cell_type": "code",
   "execution_count": 4,
   "metadata": {},
   "outputs": [],
   "source": [
    "dataset1 = fo.Dataset()\n",
    "dataset1.persistent = True"
   ]
  },
  {
   "cell_type": "code",
   "execution_count": 5,
   "metadata": {},
   "outputs": [
    {
     "name": "stdout",
     "output_type": "stream",
     "text": [
      "['./leaf_plant\\\\PlantVillage Dataset (Labeled)\\\\Color Images\\\\Apple___Apple_scab', '2022.01.07.06.08.32', '2022.01.07.12.45.42', '2022.01.07.12.47.16', '2022.01.07.21.36.23', '2022.01.07.22.19.54', '2022.01.07.22.27.21', '2022.01.07.22.27.43', '2022.01.07.22.59.44', '2022.01.07.23.18.23']\n"
     ]
    }
   ],
   "source": [
    "print(fo.list_datasets())"
   ]
  },
  {
   "cell_type": "code",
   "execution_count": 6,
   "metadata": {},
   "outputs": [],
   "source": [
    "# Set default classes\n",
    "# dataset1.default_classes = [\"apple-leaf\"]\n",
    "\n",
    "# Edit the default classes\n",
    "# dataset1.default_classes.append(\"other\")\n",
    "# dataset1.save() # must save after edits"
   ]
  },
  {
   "cell_type": "code",
   "execution_count": 7,
   "metadata": {},
   "outputs": [],
   "source": [
    "dataset1.classes = {\n",
    "    \"ground_truth\": [\"apple-leaf\"],\n",
    "    \"predictions\": [\"apple-leaf\"],\n",
    "}"
   ]
  },
  {
   "cell_type": "code",
   "execution_count": 8,
   "metadata": {},
   "outputs": [],
   "source": [
    "# Importing the os library\n",
    "import os\n",
    " \n",
    "# The path for listing items\n",
    "path = '.'\n",
    " \n",
    "# The list of items\n",
    "files = os.listdir(\"leaf_plant\\PlantVillage_Dataset(Labeled)\\Color_Images\\Apple___Apple_scab\")\n",
    " \n",
    "# Loop to print each filename separately\n",
    "for filename in files:\n",
    "    sample = fo.Sample(\n",
    "        filepath=f\"leaf_plant\\PlantVillage_Dataset(Labeled)\\Color_Images\\Apple___Apple_scab\\{filename}\",\n",
    "        ground_truth=fo.Detections(\n",
    "            detections=[\n",
    "                fo.Detection(label=\"apple-leaf\", bounding_box=[0, 0, 1, 1]),\n",
    "            ]\n",
    "        )   \n",
    "    )\n",
    "    dataset1.add_sample(sample)\n"
   ]
  },
  {
   "cell_type": "code",
   "execution_count": 9,
   "metadata": {},
   "outputs": [],
   "source": [
    "# sample = fo.Sample(\n",
    "#     filepath=\"leaf_plant\\PlantVillage_Dataset(Labeled)\\Color_Images\\Apple___Apple_scab\\\\0a5e9323-dbad-432d-ac58-d291718345d9___FREC_Scab 3417.JPG\",\n",
    "#     ground_truth=fo.Detections(\n",
    "#         detections=[\n",
    "#             fo.Detection(label=\"Apple Leaf\", bounding_box=[0, 0, 1, 1]),\n",
    "#         ]\n",
    "#     )\n",
    "# )"
   ]
  },
  {
   "cell_type": "code",
   "execution_count": 10,
   "metadata": {},
   "outputs": [],
   "source": [
    "# if __name__ == \"__main__\":\n",
    "#     # Ensures that the App processes are safely launched on Windows\n",
    "#     session = fo.launch_app(dataset1)\n",
    "#     session.wait()"
   ]
  },
  {
   "cell_type": "code",
   "execution_count": 11,
   "metadata": {},
   "outputs": [
    {
     "name": "stdout",
     "output_type": "stream",
     "text": [
      "Directory 'leaf_plant_tf_records/test.record' already exists; export will be merged with existing files\n",
      " 100% |█████████████████| 618/618 [2.1s elapsed, 0s remaining, 276.3 samples/s]         \n"
     ]
    }
   ],
   "source": [
    "dataset1.export(\n",
    "    export_dir=\"leaf_plant_tf_records/test.record\",\n",
    "    dataset_type=fo.types.VOCDetectionDataset,\n",
    "    label_field=\"ground_truth\",\n",
    ")"
   ]
  }
 ],
 "metadata": {
  "interpreter": {
   "hash": "c0109413a24b71acf79c0985d11550fce66ae022aff0b08888bf175234bd82f8"
  },
  "kernelspec": {
   "display_name": "Python 3.9.7 64-bit ('hacktiv8': conda)",
   "language": "python",
   "name": "python3"
  },
  "language_info": {
   "codemirror_mode": {
    "name": "ipython",
    "version": 3
   },
   "file_extension": ".py",
   "mimetype": "text/x-python",
   "name": "python",
   "nbconvert_exporter": "python",
   "pygments_lexer": "ipython3",
   "version": "3.9.7"
  },
  "orig_nbformat": 4
 },
 "nbformat": 4,
 "nbformat_minor": 2
}
