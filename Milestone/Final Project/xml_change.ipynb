{
 "cells": [
  {
   "cell_type": "code",
   "execution_count": 2,
   "metadata": {},
   "outputs": [],
   "source": [
    "import os\n",
    "import glob\n",
    "from xml.etree import ElementTree as et"
   ]
  },
  {
   "cell_type": "code",
   "execution_count": 69,
   "metadata": {},
   "outputs": [],
   "source": [
    "folder = \"plant_doc/train/\"\n",
    "pattern = folder + \"*.jpg\"\n",
    "result = glob.glob(pattern)\n",
    "\n",
    "count = 0\n",
    "# for filename in glob.glob(folder + \"*j\"): #os.path.splitext(file)[0]\n",
    "for epoch, filename in enumerate(os.listdir(folder)):\n",
    "    # print(\"epoch %s\"  %epoch)\n",
    "    \n",
    "\n",
    "    if os.path.splitext(filename)[1] == \".jpg\":\n",
    "        newname = folder + \"images_\" + str(count + 1) + \".jpg\"\n",
    "        oldname = folder + filename\n",
    "        # print(newname)\n",
    "        os.rename(oldname, newname)\n",
    "\n",
    "    if os.path.splitext(filename)[1] == \".xml\":\n",
    "        xml_newname = folder + \"images_\" + str(count + 1) + \".xml\"\n",
    "        filexml = folder + os.path.splitext(filename)[0] + \".xml\"\n",
    "        # print(xml_newname)\n",
    "        \n",
    "        tree = et.parse(filexml)\n",
    "        tree.find('.//filename').text = \"images_\" + str(count + 1) + \".jpg\"\n",
    "        tree.find('.//path').text = \"images_\" + str(count + 1) + \".jpg\"\n",
    "        tree.write(filexml)\n",
    "        \n",
    "        os.rename(filexml, xml_newname)\n",
    "\n",
    "        count += 1\n",
    "\n"
   ]
  },
  {
   "cell_type": "code",
   "execution_count": 26,
   "metadata": {},
   "outputs": [],
   "source": [
    "folder = \"plant_doc/test/\"\n",
    "pattern = folder + \"*.xml\"\n",
    "result = glob.glob(pattern)\n",
    "\n",
    "count = 0\n",
    "# for filename in glob.glob(folder + \"*j\"): #os.path.splitext(file)[0]\n",
    "for filename in result:\n",
    "    # print(filexml)\n",
    "    name = os.path.splitext(os.path.basename(filename))[0]\n",
    "    # print(filexml)\n",
    "    filename = folder + name + \".jpg\"\n",
    "    filexml = folder + name + \".xml\"\n",
    "    \n",
    "    \n",
    "    tree = et.parse(filexml)\n",
    "    \n",
    "    try:\n",
    "        tree.find('.//name').text\n",
    "    except AttributeError:\n",
    "        basename = \"None\"\n",
    "    else:\n",
    "        basename = tree.find('.//name').text.split()[0]\n",
    "        elems = tree.findall('.//name')\n",
    "        for elem in elems:\n",
    "            elem.text = \"leaf\"\n",
    "\n",
    "\n",
    "    tree.find('.//filename').text = basename + \"_\" + str(count + 1) + \".jpg\"\n",
    "    tree.find('.//path').text = basename + \"_\" + str(count + 1) + \".jpg\"\n",
    "    tree.write(filexml)\n",
    "\n",
    "    newname = folder + basename + \"_\" + str(count + 1) + \".jpg\"\n",
    "    xml_newname = folder + basename + \"_\" + str(count + 1) + \".xml\"\n",
    "    \n",
    "    # print(newname)\n",
    "    # print(xml_newname)\n",
    "\n",
    "    # newname = folder + \"images_\" + str(count + 1) + \".jpg\"\n",
    "    # oldname = folder + filename\n",
    "    # # print(newname)\n",
    "\n",
    "    # xml_newname = folder + \"images_\" + str(count + 1) + \".xml\"\n",
    "    # filexml = folder + os.path.splitext(filename)[0] + \".xml\"\n",
    "    # # print(xml_newname)\n",
    "    \n",
    "    os.rename(filename, newname)\n",
    "    os.rename(filexml, xml_newname)\n",
    "\n",
    "    count += 1"
   ]
  }
 ],
 "metadata": {
  "interpreter": {
   "hash": "c0109413a24b71acf79c0985d11550fce66ae022aff0b08888bf175234bd82f8"
  },
  "kernelspec": {
   "display_name": "Python 3.9.7 64-bit ('hacktiv8': conda)",
   "language": "python",
   "name": "python3"
  },
  "language_info": {
   "codemirror_mode": {
    "name": "ipython",
    "version": 3
   },
   "file_extension": ".py",
   "mimetype": "text/x-python",
   "name": "python",
   "nbconvert_exporter": "python",
   "pygments_lexer": "ipython3",
   "version": "3.9.7"
  },
  "orig_nbformat": 4
 },
 "nbformat": 4,
 "nbformat_minor": 2
}
