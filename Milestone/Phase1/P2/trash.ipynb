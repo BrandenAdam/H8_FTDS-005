{
 "cells": [
  {
   "cell_type": "code",
   "execution_count": null,
   "metadata": {},
   "outputs": [],
   "source": [
    "# from sklearn.base import TransformerMixin, BaseEstimator\n",
    "# from sklearn.preprocessing import MultiLabelBinarizer\n",
    "# from sklearn.preprocessing import OneHotEncoder, StandardScaler\n",
    "\n",
    "# class PreprocessTransform(TransformerMixin): \n",
    "#     def __init__(self,):\n",
    "#         self.mlb = MultiLabelBinarizer()\n",
    "#         self.mlb2 = MultiLabelBinarizer()\n",
    "#         self.scaler = StandardScaler()\n",
    "#         self.imputer_cat = SimpleImputer(missing_values=np.nan, strategy='constant', fill_value=\"None\")\n",
    "\n",
    "#     def fit(self, df, y=None, **fit_params): \n",
    "#         #  Impute\n",
    "#         categorical = df.select_dtypes([\"object\"]).columns.to_list()\n",
    "#         self.imputer_cat.fit(df[categorical])\n",
    "#         df[categorical] = self.imputer_cat.fit_transform(df[categorical])\n",
    "        \n",
    "#         # Fix Category column\n",
    "#         for i in range(12):\n",
    "#             df[f\"category{i+1}\"] = df[f\"category{i+1}\"].str.lstrip()\n",
    "#         df_category = df[(f\"category{i+1}\" for i in range(12))].apply(lambda x: \",\".join(x), axis=1).str.split(',')\n",
    "        \n",
    "#         self.mlb.fit(df['mechanic'].str.split(', '))\n",
    "#         self.mlb2.fit(df_category)\n",
    "\n",
    "#         # Scaling Numerical column\n",
    "#         numerical_col = [i for i in df if i not in categorical_col]\n",
    "#         self.scaler.fit(df[numerical_col])\n",
    "#         return self \n",
    "\n",
    "#     def transform(self, df, y=None, **fit_params): \n",
    "#         #  Impute\n",
    "#         categorical = df.select_dtypes([\"object\"]).columns.to_list()\n",
    "#         df[categorical] = self.imputer_cat.transform(df[categorical])\n",
    "        \n",
    "#         # Fix Category column\n",
    "#         df_mechanic = pd.DataFrame(self.mlb.transform(df['mechanic'].str.split(', ')),columns=self.mlb.classes_, index=df.index)\n",
    "#         for i in range(12):\n",
    "#             df[f\"category{i+1}\"] = df[f\"category{i+1}\"].str.lstrip()\n",
    "#         df_category = df[(f\"category{i+1}\" for i in range(12))].apply(lambda x: \",\".join(x), axis=1).str.split(',')\n",
    "#         df_category = pd.DataFrame(self.mlb2.transform(df_category),columns=self.mlb2.classes_, index=df.index)\n",
    "        \n",
    "#         # dropping some column\n",
    "#         df = df.drop(columns=[\"mechanic\",])  #\"min_players\", \"max_players\", \"avg_time\", \"min_time\", \"max_time\", \"year\", \"age\"\n",
    "#         df = df.drop(columns=[f\"category{i+1}\" for i in range(12)])\n",
    "\n",
    "#         # Scaling and then combine it to a df\n",
    "#         numerical_col = [i for i in df if i not in categorical_col]\n",
    "#         scaled_df = pd.DataFrame(self.scaler.transform(df[numerical_col]), columns=df[numerical_col].columns)\n",
    "#         scaled_df = pd.concat([scaled_df, df_mechanic, df_category], axis = 1)\n",
    "#         print(scaled_df.shape)\n",
    "#         return scaled_df\n"
   ]
  },
  {
   "cell_type": "code",
   "execution_count": null,
   "metadata": {},
   "outputs": [],
   "source": [
    "# class categoryTransform(BaseEstimator,TransformerMixin): \n",
    "#     def __init__(self,):\n",
    "#         self.mlb = MultiLabelBinarizer()\n",
    "\n",
    "#     def func1(self, df):\n",
    "#         for i in range(12):\n",
    "#             df[f\"category{i+1}\"] = df[f\"category{i+1}\"].str.lstrip()\n",
    "#         df_category = df[(f\"category{i+1}\" for i in range(12))].apply(lambda x: \",\".join(x), axis=1).str.split(',')\n",
    "#         return df_category\n",
    "\n",
    "#     def fit_transform(self, df, y=None, **fit_params):\n",
    "#         df_category = self.func1(df)\n",
    "#         df_category = pd.DataFrame(self.mlb.fit_transform(df_category),columns=self.mlb.classes_, index=df.index)\n",
    "#         return df_category\n",
    "\n",
    "#     def fit(self, df, y=None, **fit_params): \n",
    "#         df_category = self.func1(df)\n",
    "#         pd.DataFrame(self.mlb.fit(df_category),columns=self.mlb.classes_, index=df.index)\n",
    "#         return self\n",
    "    \n",
    "#     def transform(self, df, y=None, **fit_params): \n",
    "#         df_category = self.func1(df)\n",
    "#         return pd.DataFrame(self.mlb.transform(df_category),columns=self.mlb.classes_, index=df.index)"
   ]
  },
  {
   "cell_type": "code",
   "execution_count": null,
   "metadata": {},
   "outputs": [],
   "source": [
    "# from sklearn import set_config\n",
    "# set_config(display=\"diagram\")\n",
    "# gridcv"
   ]
  },
  {
   "cell_type": "code",
   "execution_count": 12,
   "metadata": {},
   "outputs": [],
   "source": [
    "import pandas as pd\n",
    "import numpy as np\n",
    "df = pd.read_csv('train.csv')\n",
    "df = df.drop(columns=[\"game_id\", \"names\", \"designer\", \"geek_rating\", \"min_time\", \"max_time\", \"age\"])"
   ]
  },
  {
   "cell_type": "code",
   "execution_count": 14,
   "metadata": {},
   "outputs": [],
   "source": [
    "from sklearn.preprocessing import MultiLabelBinarizer\n",
    "from sklearn.impute import SimpleImputer\n",
    "\n",
    "cat_col = df.select_dtypes([\"object\"]).columns.to_list()\n",
    "\n",
    "df[cat_col] = SimpleImputer(missing_values=np.nan, strategy='constant', fill_value=\"None\").fit_transform(df[cat_col])\n",
    "\n",
    "mlb = MultiLabelBinarizer()\n",
    "\n",
    "for i in range(12):\n",
    "    df[f\"category{i+1}\"] = df[f\"category{i+1}\"].str.lstrip()\n",
    "df_category = df[(f\"category{i+1}\" for i in range(12))].apply(lambda x: \",\".join(x), axis=1).str.split(',')\n",
    "df_category = pd.DataFrame(mlb.fit_transform(df_category),columns=mlb.classes_, index=df.index)"
   ]
  },
  {
   "cell_type": "code",
   "execution_count": 15,
   "metadata": {},
   "outputs": [
    {
     "data": {
      "text/html": [
       "<div>\n",
       "<style scoped>\n",
       "    .dataframe tbody tr th:only-of-type {\n",
       "        vertical-align: middle;\n",
       "    }\n",
       "\n",
       "    .dataframe tbody tr th {\n",
       "        vertical-align: top;\n",
       "    }\n",
       "\n",
       "    .dataframe thead th {\n",
       "        text-align: right;\n",
       "    }\n",
       "</style>\n",
       "<table border=\"1\" class=\"dataframe\">\n",
       "  <thead>\n",
       "    <tr style=\"text-align: right;\">\n",
       "      <th></th>\n",
       "      <th>Abstract Strategy</th>\n",
       "      <th>Action / Dexterity</th>\n",
       "      <th>Adventure</th>\n",
       "      <th>Age of Reason</th>\n",
       "      <th>American Civil War</th>\n",
       "      <th>American Indian Wars</th>\n",
       "      <th>American Revolutionary War</th>\n",
       "      <th>American West</th>\n",
       "      <th>Ancient</th>\n",
       "      <th>Animals</th>\n",
       "      <th>...</th>\n",
       "      <th>Travel</th>\n",
       "      <th>Trivia</th>\n",
       "      <th>Video Game Theme</th>\n",
       "      <th>Vietnam War</th>\n",
       "      <th>Wargame</th>\n",
       "      <th>Word Game</th>\n",
       "      <th>World War I</th>\n",
       "      <th>World War II</th>\n",
       "      <th>Zombies</th>\n",
       "      <th>none</th>\n",
       "    </tr>\n",
       "  </thead>\n",
       "  <tbody>\n",
       "  </tbody>\n",
       "</table>\n",
       "<p>0 rows × 85 columns</p>\n",
       "</div>"
      ],
      "text/plain": [
       "Empty DataFrame\n",
       "Columns: [Abstract Strategy, Action / Dexterity, Adventure, Age of Reason, American Civil War, American Indian Wars, American Revolutionary War, American West, Ancient, Animals, Arabian, Aviation / Flight, Bluffing, Book, Card Game, Children's Game, City Building, Civil War, Civilization, Collectible Components, Comic Book / Strip, Deduction, Dice, Economic, Educational, Electronic, Environmental, Expansion for Base-game, Exploration, Fantasy, Farming, Fighting, Game System, Horror, Humor, Industry / Manufacturing, Korean War, Mafia, Math, Mature / Adult, Maze, Medical, Medieval, Memory, Miniatures, Modern Warfare, Movies / TV / Radio theme, Murder/Mystery, Music, Mythology, Napoleonic, Nautical, Negotiation, None, Novel-based, Number, Party Game, Pike and Shot, Pirates, Political, Post-Napoleonic, Prehistoric, Print & Play, Puzzle, Racing, Real-time, Religious, Renaissance, Science Fiction, Space Exploration, Spies/Secret Agents, Sports, Territory Building, Trains, Transportation, Travel, Trivia, Video Game Theme, Vietnam War, Wargame, Word Game, World War I, World War II, Zombies, none]\n",
       "Index: []\n",
       "\n",
       "[0 rows x 85 columns]"
      ]
     },
     "execution_count": 15,
     "metadata": {},
     "output_type": "execute_result"
    }
   ],
   "source": [
    "a = df_category[0:0]\n",
    "a"
   ]
  },
  {
   "cell_type": "code",
   "execution_count": 36,
   "metadata": {},
   "outputs": [],
   "source": [
    "check = df[0:1]"
   ]
  },
  {
   "cell_type": "code",
   "execution_count": 34,
   "metadata": {},
   "outputs": [
    {
     "data": {
      "text/plain": [
       "[]"
      ]
     },
     "execution_count": 34,
     "metadata": {},
     "output_type": "execute_result"
    }
   ],
   "source": [
    "list(a[\"Travel\"])"
   ]
  },
  {
   "cell_type": "code",
   "execution_count": 21,
   "metadata": {},
   "outputs": [],
   "source": [
    "text = \"\"\n",
    "for i in range(10):\n",
    "    if(i%2 == 1):\n",
    "        text += f\"{i}\""
   ]
  },
  {
   "cell_type": "code",
   "execution_count": 22,
   "metadata": {},
   "outputs": [
    {
     "data": {
      "text/plain": [
       "'13579'"
      ]
     },
     "execution_count": 22,
     "metadata": {},
     "output_type": "execute_result"
    }
   ],
   "source": [
    "text"
   ]
  }
 ],
 "metadata": {
  "interpreter": {
   "hash": "c0109413a24b71acf79c0985d11550fce66ae022aff0b08888bf175234bd82f8"
  },
  "kernelspec": {
   "display_name": "Python 3.9.7 64-bit ('hacktiv8': conda)",
   "language": "python",
   "name": "python3"
  },
  "language_info": {
   "codemirror_mode": {
    "name": "ipython",
    "version": 3
   },
   "file_extension": ".py",
   "mimetype": "text/x-python",
   "name": "python",
   "nbconvert_exporter": "python",
   "pygments_lexer": "ipython3",
   "version": "3.9.7"
  },
  "orig_nbformat": 4
 },
 "nbformat": 4,
 "nbformat_minor": 2
}
