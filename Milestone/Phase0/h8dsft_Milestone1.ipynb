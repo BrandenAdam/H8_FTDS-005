{
 "cells": [
  {
   "cell_type": "code",
   "execution_count": 2,
   "id": "4c726f8b",
   "metadata": {},
   "outputs": [],
   "source": [
    "import numpy as np\n",
    "import pandas as pd\n",
    "from scipy import stats\n",
    "import plotly.express as px"
   ]
  },
  {
   "cell_type": "code",
   "execution_count": 3,
   "id": "7be52dbd",
   "metadata": {},
   "outputs": [
    {
     "data": {
      "text/html": [
       "<div>\n",
       "<style scoped>\n",
       "    .dataframe tbody tr th:only-of-type {\n",
       "        vertical-align: middle;\n",
       "    }\n",
       "\n",
       "    .dataframe tbody tr th {\n",
       "        vertical-align: top;\n",
       "    }\n",
       "\n",
       "    .dataframe thead th {\n",
       "        text-align: right;\n",
       "    }\n",
       "</style>\n",
       "<table border=\"1\" class=\"dataframe\">\n",
       "  <thead>\n",
       "    <tr style=\"text-align: right;\">\n",
       "      <th></th>\n",
       "      <th>Invoice ID</th>\n",
       "      <th>Branch</th>\n",
       "      <th>City</th>\n",
       "      <th>Customer type</th>\n",
       "      <th>Gender</th>\n",
       "      <th>Product line</th>\n",
       "      <th>Unit price</th>\n",
       "      <th>Quantity</th>\n",
       "      <th>Tax 5%</th>\n",
       "      <th>Total</th>\n",
       "      <th>Date</th>\n",
       "      <th>Time</th>\n",
       "      <th>Payment</th>\n",
       "      <th>cogs</th>\n",
       "      <th>gross margin percentage</th>\n",
       "      <th>gross income</th>\n",
       "      <th>Rating</th>\n",
       "    </tr>\n",
       "  </thead>\n",
       "  <tbody>\n",
       "    <tr>\n",
       "      <th>0</th>\n",
       "      <td>750-67-8428</td>\n",
       "      <td>A</td>\n",
       "      <td>Yangon</td>\n",
       "      <td>Member</td>\n",
       "      <td>Female</td>\n",
       "      <td>Health and beauty</td>\n",
       "      <td>74.69</td>\n",
       "      <td>7</td>\n",
       "      <td>26.1415</td>\n",
       "      <td>548.9715</td>\n",
       "      <td>1/5/2019</td>\n",
       "      <td>13:08</td>\n",
       "      <td>Ewallet</td>\n",
       "      <td>522.83</td>\n",
       "      <td>4.761905</td>\n",
       "      <td>26.1415</td>\n",
       "      <td>9.1</td>\n",
       "    </tr>\n",
       "    <tr>\n",
       "      <th>1</th>\n",
       "      <td>226-31-3081</td>\n",
       "      <td>C</td>\n",
       "      <td>Naypyitaw</td>\n",
       "      <td>Normal</td>\n",
       "      <td>Female</td>\n",
       "      <td>Electronic accessories</td>\n",
       "      <td>15.28</td>\n",
       "      <td>5</td>\n",
       "      <td>3.8200</td>\n",
       "      <td>80.2200</td>\n",
       "      <td>3/8/2019</td>\n",
       "      <td>10:29</td>\n",
       "      <td>Cash</td>\n",
       "      <td>76.40</td>\n",
       "      <td>4.761905</td>\n",
       "      <td>3.8200</td>\n",
       "      <td>9.6</td>\n",
       "    </tr>\n",
       "    <tr>\n",
       "      <th>2</th>\n",
       "      <td>631-41-3108</td>\n",
       "      <td>A</td>\n",
       "      <td>Yangon</td>\n",
       "      <td>Normal</td>\n",
       "      <td>Male</td>\n",
       "      <td>Home and lifestyle</td>\n",
       "      <td>46.33</td>\n",
       "      <td>7</td>\n",
       "      <td>16.2155</td>\n",
       "      <td>340.5255</td>\n",
       "      <td>3/3/2019</td>\n",
       "      <td>13:23</td>\n",
       "      <td>Credit card</td>\n",
       "      <td>324.31</td>\n",
       "      <td>4.761905</td>\n",
       "      <td>16.2155</td>\n",
       "      <td>7.4</td>\n",
       "    </tr>\n",
       "    <tr>\n",
       "      <th>3</th>\n",
       "      <td>123-19-1176</td>\n",
       "      <td>A</td>\n",
       "      <td>Yangon</td>\n",
       "      <td>Member</td>\n",
       "      <td>Male</td>\n",
       "      <td>Health and beauty</td>\n",
       "      <td>58.22</td>\n",
       "      <td>8</td>\n",
       "      <td>23.2880</td>\n",
       "      <td>489.0480</td>\n",
       "      <td>1/27/2019</td>\n",
       "      <td>20:33</td>\n",
       "      <td>Ewallet</td>\n",
       "      <td>465.76</td>\n",
       "      <td>4.761905</td>\n",
       "      <td>23.2880</td>\n",
       "      <td>8.4</td>\n",
       "    </tr>\n",
       "    <tr>\n",
       "      <th>4</th>\n",
       "      <td>373-73-7910</td>\n",
       "      <td>A</td>\n",
       "      <td>Yangon</td>\n",
       "      <td>Normal</td>\n",
       "      <td>Male</td>\n",
       "      <td>Sports and travel</td>\n",
       "      <td>86.31</td>\n",
       "      <td>7</td>\n",
       "      <td>30.2085</td>\n",
       "      <td>634.3785</td>\n",
       "      <td>2/8/2019</td>\n",
       "      <td>10:37</td>\n",
       "      <td>Ewallet</td>\n",
       "      <td>604.17</td>\n",
       "      <td>4.761905</td>\n",
       "      <td>30.2085</td>\n",
       "      <td>5.3</td>\n",
       "    </tr>\n",
       "    <tr>\n",
       "      <th>5</th>\n",
       "      <td>699-14-3026</td>\n",
       "      <td>C</td>\n",
       "      <td>Naypyitaw</td>\n",
       "      <td>Normal</td>\n",
       "      <td>Male</td>\n",
       "      <td>Electronic accessories</td>\n",
       "      <td>85.39</td>\n",
       "      <td>7</td>\n",
       "      <td>29.8865</td>\n",
       "      <td>627.6165</td>\n",
       "      <td>3/25/2019</td>\n",
       "      <td>18:30</td>\n",
       "      <td>Ewallet</td>\n",
       "      <td>597.73</td>\n",
       "      <td>4.761905</td>\n",
       "      <td>29.8865</td>\n",
       "      <td>4.1</td>\n",
       "    </tr>\n",
       "    <tr>\n",
       "      <th>6</th>\n",
       "      <td>355-53-5943</td>\n",
       "      <td>A</td>\n",
       "      <td>Yangon</td>\n",
       "      <td>Member</td>\n",
       "      <td>Female</td>\n",
       "      <td>Electronic accessories</td>\n",
       "      <td>68.84</td>\n",
       "      <td>6</td>\n",
       "      <td>20.6520</td>\n",
       "      <td>433.6920</td>\n",
       "      <td>2/25/2019</td>\n",
       "      <td>14:36</td>\n",
       "      <td>Ewallet</td>\n",
       "      <td>413.04</td>\n",
       "      <td>4.761905</td>\n",
       "      <td>20.6520</td>\n",
       "      <td>5.8</td>\n",
       "    </tr>\n",
       "    <tr>\n",
       "      <th>7</th>\n",
       "      <td>315-22-5665</td>\n",
       "      <td>C</td>\n",
       "      <td>Naypyitaw</td>\n",
       "      <td>Normal</td>\n",
       "      <td>Female</td>\n",
       "      <td>Home and lifestyle</td>\n",
       "      <td>73.56</td>\n",
       "      <td>10</td>\n",
       "      <td>36.7800</td>\n",
       "      <td>772.3800</td>\n",
       "      <td>2/24/2019</td>\n",
       "      <td>11:38</td>\n",
       "      <td>Ewallet</td>\n",
       "      <td>735.60</td>\n",
       "      <td>4.761905</td>\n",
       "      <td>36.7800</td>\n",
       "      <td>8.0</td>\n",
       "    </tr>\n",
       "    <tr>\n",
       "      <th>8</th>\n",
       "      <td>665-32-9167</td>\n",
       "      <td>A</td>\n",
       "      <td>Yangon</td>\n",
       "      <td>Member</td>\n",
       "      <td>Female</td>\n",
       "      <td>Health and beauty</td>\n",
       "      <td>36.26</td>\n",
       "      <td>2</td>\n",
       "      <td>3.6260</td>\n",
       "      <td>76.1460</td>\n",
       "      <td>1/10/2019</td>\n",
       "      <td>17:15</td>\n",
       "      <td>Credit card</td>\n",
       "      <td>72.52</td>\n",
       "      <td>4.761905</td>\n",
       "      <td>3.6260</td>\n",
       "      <td>7.2</td>\n",
       "    </tr>\n",
       "    <tr>\n",
       "      <th>9</th>\n",
       "      <td>692-92-5582</td>\n",
       "      <td>B</td>\n",
       "      <td>Mandalay</td>\n",
       "      <td>Member</td>\n",
       "      <td>Female</td>\n",
       "      <td>Food and beverages</td>\n",
       "      <td>54.84</td>\n",
       "      <td>3</td>\n",
       "      <td>8.2260</td>\n",
       "      <td>172.7460</td>\n",
       "      <td>2/20/2019</td>\n",
       "      <td>13:27</td>\n",
       "      <td>Credit card</td>\n",
       "      <td>164.52</td>\n",
       "      <td>4.761905</td>\n",
       "      <td>8.2260</td>\n",
       "      <td>5.9</td>\n",
       "    </tr>\n",
       "  </tbody>\n",
       "</table>\n",
       "</div>"
      ],
      "text/plain": [
       "    Invoice ID Branch       City Customer type  Gender  \\\n",
       "0  750-67-8428      A     Yangon        Member  Female   \n",
       "1  226-31-3081      C  Naypyitaw        Normal  Female   \n",
       "2  631-41-3108      A     Yangon        Normal    Male   \n",
       "3  123-19-1176      A     Yangon        Member    Male   \n",
       "4  373-73-7910      A     Yangon        Normal    Male   \n",
       "5  699-14-3026      C  Naypyitaw        Normal    Male   \n",
       "6  355-53-5943      A     Yangon        Member  Female   \n",
       "7  315-22-5665      C  Naypyitaw        Normal  Female   \n",
       "8  665-32-9167      A     Yangon        Member  Female   \n",
       "9  692-92-5582      B   Mandalay        Member  Female   \n",
       "\n",
       "             Product line  Unit price  Quantity   Tax 5%     Total       Date  \\\n",
       "0       Health and beauty       74.69         7  26.1415  548.9715   1/5/2019   \n",
       "1  Electronic accessories       15.28         5   3.8200   80.2200   3/8/2019   \n",
       "2      Home and lifestyle       46.33         7  16.2155  340.5255   3/3/2019   \n",
       "3       Health and beauty       58.22         8  23.2880  489.0480  1/27/2019   \n",
       "4       Sports and travel       86.31         7  30.2085  634.3785   2/8/2019   \n",
       "5  Electronic accessories       85.39         7  29.8865  627.6165  3/25/2019   \n",
       "6  Electronic accessories       68.84         6  20.6520  433.6920  2/25/2019   \n",
       "7      Home and lifestyle       73.56        10  36.7800  772.3800  2/24/2019   \n",
       "8       Health and beauty       36.26         2   3.6260   76.1460  1/10/2019   \n",
       "9      Food and beverages       54.84         3   8.2260  172.7460  2/20/2019   \n",
       "\n",
       "    Time      Payment    cogs  gross margin percentage  gross income  Rating  \n",
       "0  13:08      Ewallet  522.83                 4.761905       26.1415     9.1  \n",
       "1  10:29         Cash   76.40                 4.761905        3.8200     9.6  \n",
       "2  13:23  Credit card  324.31                 4.761905       16.2155     7.4  \n",
       "3  20:33      Ewallet  465.76                 4.761905       23.2880     8.4  \n",
       "4  10:37      Ewallet  604.17                 4.761905       30.2085     5.3  \n",
       "5  18:30      Ewallet  597.73                 4.761905       29.8865     4.1  \n",
       "6  14:36      Ewallet  413.04                 4.761905       20.6520     5.8  \n",
       "7  11:38      Ewallet  735.60                 4.761905       36.7800     8.0  \n",
       "8  17:15  Credit card   72.52                 4.761905        3.6260     7.2  \n",
       "9  13:27  Credit card  164.52                 4.761905        8.2260     5.9  "
      ]
     },
     "execution_count": 3,
     "metadata": {},
     "output_type": "execute_result"
    }
   ],
   "source": [
    "df = pd.read_csv(\"./supermarket_sales - Sheet1.csv\")\n",
    "df.head(10)"
   ]
  },
  {
   "cell_type": "code",
   "execution_count": 289,
   "id": "e87454d7",
   "metadata": {},
   "outputs": [
    {
     "data": {
      "text/html": [
       "<div>\n",
       "<style scoped>\n",
       "    .dataframe tbody tr th:only-of-type {\n",
       "        vertical-align: middle;\n",
       "    }\n",
       "\n",
       "    .dataframe tbody tr th {\n",
       "        vertical-align: top;\n",
       "    }\n",
       "\n",
       "    .dataframe thead th {\n",
       "        text-align: right;\n",
       "    }\n",
       "</style>\n",
       "<table border=\"1\" class=\"dataframe\">\n",
       "  <thead>\n",
       "    <tr style=\"text-align: right;\">\n",
       "      <th></th>\n",
       "      <th>Invoice ID</th>\n",
       "      <th>Branch</th>\n",
       "      <th>City</th>\n",
       "      <th>Customer type</th>\n",
       "      <th>Gender</th>\n",
       "      <th>Product line</th>\n",
       "      <th>Unit price</th>\n",
       "      <th>Quantity</th>\n",
       "      <th>Tax 5%</th>\n",
       "      <th>Total</th>\n",
       "      <th>Date</th>\n",
       "      <th>Time</th>\n",
       "      <th>Payment</th>\n",
       "      <th>cogs</th>\n",
       "      <th>gross margin percentage</th>\n",
       "      <th>gross income</th>\n",
       "      <th>Rating</th>\n",
       "    </tr>\n",
       "  </thead>\n",
       "  <tbody>\n",
       "    <tr>\n",
       "      <th>0</th>\n",
       "      <td>750-67-8428</td>\n",
       "      <td>A</td>\n",
       "      <td>Yangon</td>\n",
       "      <td>Member</td>\n",
       "      <td>Female</td>\n",
       "      <td>Health and beauty</td>\n",
       "      <td>74.69</td>\n",
       "      <td>7</td>\n",
       "      <td>26.1415</td>\n",
       "      <td>548.9715</td>\n",
       "      <td>01-05-2019</td>\n",
       "      <td>13:08</td>\n",
       "      <td>Ewallet</td>\n",
       "      <td>522.83</td>\n",
       "      <td>4.761905</td>\n",
       "      <td>26.1415</td>\n",
       "      <td>9.1</td>\n",
       "    </tr>\n",
       "    <tr>\n",
       "      <th>1</th>\n",
       "      <td>226-31-3081</td>\n",
       "      <td>C</td>\n",
       "      <td>Naypyitaw</td>\n",
       "      <td>Normal</td>\n",
       "      <td>Female</td>\n",
       "      <td>Electronic accessories</td>\n",
       "      <td>15.28</td>\n",
       "      <td>5</td>\n",
       "      <td>3.8200</td>\n",
       "      <td>80.2200</td>\n",
       "      <td>03-08-2019</td>\n",
       "      <td>10:29</td>\n",
       "      <td>Cash</td>\n",
       "      <td>76.40</td>\n",
       "      <td>4.761905</td>\n",
       "      <td>3.8200</td>\n",
       "      <td>9.6</td>\n",
       "    </tr>\n",
       "    <tr>\n",
       "      <th>2</th>\n",
       "      <td>631-41-3108</td>\n",
       "      <td>A</td>\n",
       "      <td>Yangon</td>\n",
       "      <td>Normal</td>\n",
       "      <td>Male</td>\n",
       "      <td>Home and lifestyle</td>\n",
       "      <td>46.33</td>\n",
       "      <td>7</td>\n",
       "      <td>16.2155</td>\n",
       "      <td>340.5255</td>\n",
       "      <td>03-03-2019</td>\n",
       "      <td>13:23</td>\n",
       "      <td>Credit card</td>\n",
       "      <td>324.31</td>\n",
       "      <td>4.761905</td>\n",
       "      <td>16.2155</td>\n",
       "      <td>7.4</td>\n",
       "    </tr>\n",
       "    <tr>\n",
       "      <th>3</th>\n",
       "      <td>123-19-1176</td>\n",
       "      <td>A</td>\n",
       "      <td>Yangon</td>\n",
       "      <td>Member</td>\n",
       "      <td>Male</td>\n",
       "      <td>Health and beauty</td>\n",
       "      <td>58.22</td>\n",
       "      <td>8</td>\n",
       "      <td>23.2880</td>\n",
       "      <td>489.0480</td>\n",
       "      <td>01-27-2019</td>\n",
       "      <td>20:33</td>\n",
       "      <td>Ewallet</td>\n",
       "      <td>465.76</td>\n",
       "      <td>4.761905</td>\n",
       "      <td>23.2880</td>\n",
       "      <td>8.4</td>\n",
       "    </tr>\n",
       "    <tr>\n",
       "      <th>4</th>\n",
       "      <td>373-73-7910</td>\n",
       "      <td>A</td>\n",
       "      <td>Yangon</td>\n",
       "      <td>Normal</td>\n",
       "      <td>Male</td>\n",
       "      <td>Sports and travel</td>\n",
       "      <td>86.31</td>\n",
       "      <td>7</td>\n",
       "      <td>30.2085</td>\n",
       "      <td>634.3785</td>\n",
       "      <td>02-08-2019</td>\n",
       "      <td>10:37</td>\n",
       "      <td>Ewallet</td>\n",
       "      <td>604.17</td>\n",
       "      <td>4.761905</td>\n",
       "      <td>30.2085</td>\n",
       "      <td>5.3</td>\n",
       "    </tr>\n",
       "    <tr>\n",
       "      <th>...</th>\n",
       "      <td>...</td>\n",
       "      <td>...</td>\n",
       "      <td>...</td>\n",
       "      <td>...</td>\n",
       "      <td>...</td>\n",
       "      <td>...</td>\n",
       "      <td>...</td>\n",
       "      <td>...</td>\n",
       "      <td>...</td>\n",
       "      <td>...</td>\n",
       "      <td>...</td>\n",
       "      <td>...</td>\n",
       "      <td>...</td>\n",
       "      <td>...</td>\n",
       "      <td>...</td>\n",
       "      <td>...</td>\n",
       "      <td>...</td>\n",
       "    </tr>\n",
       "    <tr>\n",
       "      <th>995</th>\n",
       "      <td>233-67-5758</td>\n",
       "      <td>C</td>\n",
       "      <td>Naypyitaw</td>\n",
       "      <td>Normal</td>\n",
       "      <td>Male</td>\n",
       "      <td>Health and beauty</td>\n",
       "      <td>40.35</td>\n",
       "      <td>1</td>\n",
       "      <td>2.0175</td>\n",
       "      <td>42.3675</td>\n",
       "      <td>01-29-2019</td>\n",
       "      <td>13:46</td>\n",
       "      <td>Ewallet</td>\n",
       "      <td>40.35</td>\n",
       "      <td>4.761905</td>\n",
       "      <td>2.0175</td>\n",
       "      <td>6.2</td>\n",
       "    </tr>\n",
       "    <tr>\n",
       "      <th>996</th>\n",
       "      <td>303-96-2227</td>\n",
       "      <td>B</td>\n",
       "      <td>Mandalay</td>\n",
       "      <td>Normal</td>\n",
       "      <td>Female</td>\n",
       "      <td>Home and lifestyle</td>\n",
       "      <td>97.38</td>\n",
       "      <td>10</td>\n",
       "      <td>48.6900</td>\n",
       "      <td>1022.4900</td>\n",
       "      <td>03-02-2019</td>\n",
       "      <td>17:16</td>\n",
       "      <td>Ewallet</td>\n",
       "      <td>973.80</td>\n",
       "      <td>4.761905</td>\n",
       "      <td>48.6900</td>\n",
       "      <td>4.4</td>\n",
       "    </tr>\n",
       "    <tr>\n",
       "      <th>997</th>\n",
       "      <td>727-02-1313</td>\n",
       "      <td>A</td>\n",
       "      <td>Yangon</td>\n",
       "      <td>Member</td>\n",
       "      <td>Male</td>\n",
       "      <td>Food and beverages</td>\n",
       "      <td>31.84</td>\n",
       "      <td>1</td>\n",
       "      <td>1.5920</td>\n",
       "      <td>33.4320</td>\n",
       "      <td>02-09-2019</td>\n",
       "      <td>13:22</td>\n",
       "      <td>Cash</td>\n",
       "      <td>31.84</td>\n",
       "      <td>4.761905</td>\n",
       "      <td>1.5920</td>\n",
       "      <td>7.7</td>\n",
       "    </tr>\n",
       "    <tr>\n",
       "      <th>998</th>\n",
       "      <td>347-56-2442</td>\n",
       "      <td>A</td>\n",
       "      <td>Yangon</td>\n",
       "      <td>Normal</td>\n",
       "      <td>Male</td>\n",
       "      <td>Home and lifestyle</td>\n",
       "      <td>65.82</td>\n",
       "      <td>1</td>\n",
       "      <td>3.2910</td>\n",
       "      <td>69.1110</td>\n",
       "      <td>02-22-2019</td>\n",
       "      <td>15:33</td>\n",
       "      <td>Cash</td>\n",
       "      <td>65.82</td>\n",
       "      <td>4.761905</td>\n",
       "      <td>3.2910</td>\n",
       "      <td>4.1</td>\n",
       "    </tr>\n",
       "    <tr>\n",
       "      <th>999</th>\n",
       "      <td>849-09-3807</td>\n",
       "      <td>A</td>\n",
       "      <td>Yangon</td>\n",
       "      <td>Member</td>\n",
       "      <td>Female</td>\n",
       "      <td>Fashion accessories</td>\n",
       "      <td>88.34</td>\n",
       "      <td>7</td>\n",
       "      <td>30.9190</td>\n",
       "      <td>649.2990</td>\n",
       "      <td>02-18-2019</td>\n",
       "      <td>13:28</td>\n",
       "      <td>Cash</td>\n",
       "      <td>618.38</td>\n",
       "      <td>4.761905</td>\n",
       "      <td>30.9190</td>\n",
       "      <td>6.6</td>\n",
       "    </tr>\n",
       "  </tbody>\n",
       "</table>\n",
       "<p>1000 rows × 17 columns</p>\n",
       "</div>"
      ],
      "text/plain": [
       "      Invoice ID Branch       City Customer type  Gender  \\\n",
       "0    750-67-8428      A     Yangon        Member  Female   \n",
       "1    226-31-3081      C  Naypyitaw        Normal  Female   \n",
       "2    631-41-3108      A     Yangon        Normal    Male   \n",
       "3    123-19-1176      A     Yangon        Member    Male   \n",
       "4    373-73-7910      A     Yangon        Normal    Male   \n",
       "..           ...    ...        ...           ...     ...   \n",
       "995  233-67-5758      C  Naypyitaw        Normal    Male   \n",
       "996  303-96-2227      B   Mandalay        Normal  Female   \n",
       "997  727-02-1313      A     Yangon        Member    Male   \n",
       "998  347-56-2442      A     Yangon        Normal    Male   \n",
       "999  849-09-3807      A     Yangon        Member  Female   \n",
       "\n",
       "               Product line  Unit price  Quantity   Tax 5%      Total  \\\n",
       "0         Health and beauty       74.69         7  26.1415   548.9715   \n",
       "1    Electronic accessories       15.28         5   3.8200    80.2200   \n",
       "2        Home and lifestyle       46.33         7  16.2155   340.5255   \n",
       "3         Health and beauty       58.22         8  23.2880   489.0480   \n",
       "4         Sports and travel       86.31         7  30.2085   634.3785   \n",
       "..                      ...         ...       ...      ...        ...   \n",
       "995       Health and beauty       40.35         1   2.0175    42.3675   \n",
       "996      Home and lifestyle       97.38        10  48.6900  1022.4900   \n",
       "997      Food and beverages       31.84         1   1.5920    33.4320   \n",
       "998      Home and lifestyle       65.82         1   3.2910    69.1110   \n",
       "999     Fashion accessories       88.34         7  30.9190   649.2990   \n",
       "\n",
       "           Date   Time      Payment    cogs  gross margin percentage  \\\n",
       "0    01-05-2019  13:08      Ewallet  522.83                 4.761905   \n",
       "1    03-08-2019  10:29         Cash   76.40                 4.761905   \n",
       "2    03-03-2019  13:23  Credit card  324.31                 4.761905   \n",
       "3    01-27-2019  20:33      Ewallet  465.76                 4.761905   \n",
       "4    02-08-2019  10:37      Ewallet  604.17                 4.761905   \n",
       "..          ...    ...          ...     ...                      ...   \n",
       "995  01-29-2019  13:46      Ewallet   40.35                 4.761905   \n",
       "996  03-02-2019  17:16      Ewallet  973.80                 4.761905   \n",
       "997  02-09-2019  13:22         Cash   31.84                 4.761905   \n",
       "998  02-22-2019  15:33         Cash   65.82                 4.761905   \n",
       "999  02-18-2019  13:28         Cash  618.38                 4.761905   \n",
       "\n",
       "     gross income  Rating  \n",
       "0         26.1415     9.1  \n",
       "1          3.8200     9.6  \n",
       "2         16.2155     7.4  \n",
       "3         23.2880     8.4  \n",
       "4         30.2085     5.3  \n",
       "..            ...     ...  \n",
       "995        2.0175     6.2  \n",
       "996       48.6900     4.4  \n",
       "997        1.5920     7.7  \n",
       "998        3.2910     4.1  \n",
       "999       30.9190     6.6  \n",
       "\n",
       "[1000 rows x 17 columns]"
      ]
     },
     "execution_count": 289,
     "metadata": {},
     "output_type": "execute_result"
    }
   ],
   "source": [
    "df['Date'] = pd.to_datetime(df['Date'],).dt.strftime('%m-%d-%Y')\n",
    "df"
   ]
  },
  {
   "cell_type": "code",
   "execution_count": 5,
   "id": "d315bbbc",
   "metadata": {},
   "outputs": [],
   "source": [
    "df = df.drop(columns=[\"Invoice ID\",])"
   ]
  },
  {
   "cell_type": "markdown",
   "id": "232955c0",
   "metadata": {},
   "source": [
    "which product line give the most income | product line, gross income, male | x = product line, y = gross income, x divide = gender\n",
    "income rate of the company divided by product | x = date, y = total income that day, divided by = product line | index = date, column = product line, column value = gross income sum\n",
    "city and its most sold product\n",
    "branch and rating"
   ]
  },
  {
   "cell_type": "code",
   "execution_count": 151,
   "id": "686e6444",
   "metadata": {},
   "outputs": [],
   "source": [
    "df2 = df[[\"Date\", \"gross income\", \"Product line\"]].set_index(\"Date\")\n",
    "df2 = df2.pivot_table(values=\"gross income\", index = df2.index, columns=\"Product line\", aggfunc='sum', fill_value=0)"
   ]
  },
  {
   "cell_type": "code",
   "execution_count": 1,
   "id": "cf87812f",
   "metadata": {},
   "outputs": [
    {
     "ename": "NameError",
     "evalue": "name 'px' is not defined",
     "output_type": "error",
     "traceback": [
      "\u001b[1;31m---------------------------------------------------------------------------\u001b[0m",
      "\u001b[1;31mNameError\u001b[0m                                 Traceback (most recent call last)",
      "\u001b[1;32mC:\\Users\\SHINSA~1\\AppData\\Local\\Temp/ipykernel_21252/2048151557.py\u001b[0m in \u001b[0;36m<module>\u001b[1;34m\u001b[0m\n\u001b[1;32m----> 1\u001b[1;33m \u001b[0mfig\u001b[0m \u001b[1;33m=\u001b[0m \u001b[0mpx\u001b[0m\u001b[1;33m.\u001b[0m\u001b[0mpie\u001b[0m\u001b[1;33m(\u001b[0m\u001b[0mdf\u001b[0m\u001b[1;33m,\u001b[0m \u001b[0mnames\u001b[0m\u001b[1;33m=\u001b[0m\u001b[1;34m'Payment'\u001b[0m\u001b[1;33m,\u001b[0m \u001b[0mheight\u001b[0m\u001b[1;33m=\u001b[0m\u001b[1;36m600\u001b[0m\u001b[1;33m)\u001b[0m\u001b[1;33m\u001b[0m\u001b[1;33m\u001b[0m\u001b[0m\n\u001b[0m\u001b[0;32m      2\u001b[0m \u001b[0mfig\u001b[0m\u001b[1;33m.\u001b[0m\u001b[0mupdate_traces\u001b[0m\u001b[1;33m(\u001b[0m\u001b[0mtextposition\u001b[0m\u001b[1;33m=\u001b[0m\u001b[1;34m'inside'\u001b[0m\u001b[1;33m,\u001b[0m \u001b[0mtextinfo\u001b[0m\u001b[1;33m=\u001b[0m\u001b[1;34m'percent+label'\u001b[0m\u001b[1;33m)\u001b[0m\u001b[1;33m\u001b[0m\u001b[1;33m\u001b[0m\u001b[0m\n",
      "\u001b[1;31mNameError\u001b[0m: name 'px' is not defined"
     ]
    }
   ],
   "source": [
    "fig = px.pie(df, names='Payment', height=600)\n",
    "fig.update_traces(textposition='inside', textinfo='percent+label')"
   ]
  },
  {
   "cell_type": "code",
   "execution_count": 6,
   "id": "41876273",
   "metadata": {},
   "outputs": [
    {
     "data": {
      "application/vnd.plotly.v1+json": {
       "config": {
        "plotlyServerURL": "https://plot.ly"
       },
       "data": [
        {
         "domain": {
          "x": [
           0,
           1
          ],
          "y": [
           0,
           1
          ]
         },
         "hovertemplate": "City=%{label}<extra></extra>",
         "labels": [
          "Yangon",
          "Naypyitaw",
          "Yangon",
          "Yangon",
          "Yangon",
          "Naypyitaw",
          "Yangon",
          "Naypyitaw",
          "Yangon",
          "Mandalay",
          "Mandalay",
          "Mandalay",
          "Yangon",
          "Yangon",
          "Yangon",
          "Mandalay",
          "Yangon",
          "Yangon",
          "Yangon",
          "Mandalay",
          "Naypyitaw",
          "Mandalay",
          "Mandalay",
          "Yangon",
          "Yangon",
          "Yangon",
          "Mandalay",
          "Yangon",
          "Mandalay",
          "Yangon",
          "Mandalay",
          "Mandalay",
          "Mandalay",
          "Yangon",
          "Naypyitaw",
          "Naypyitaw",
          "Yangon",
          "Yangon",
          "Naypyitaw",
          "Mandalay",
          "Mandalay",
          "Naypyitaw",
          "Mandalay",
          "Naypyitaw",
          "Naypyitaw",
          "Mandalay",
          "Mandalay",
          "Mandalay",
          "Mandalay",
          "Naypyitaw",
          "Naypyitaw",
          "Yangon",
          "Mandalay",
          "Naypyitaw",
          "Mandalay",
          "Naypyitaw",
          "Yangon",
          "Yangon",
          "Yangon",
          "Naypyitaw",
          "Naypyitaw",
          "Naypyitaw",
          "Mandalay",
          "Yangon",
          "Mandalay",
          "Yangon",
          "Naypyitaw",
          "Mandalay",
          "Yangon",
          "Yangon",
          "Naypyitaw",
          "Naypyitaw",
          "Mandalay",
          "Naypyitaw",
          "Yangon",
          "Naypyitaw",
          "Naypyitaw",
          "Yangon",
          "Naypyitaw",
          "Naypyitaw",
          "Naypyitaw",
          "Mandalay",
          "Naypyitaw",
          "Naypyitaw",
          "Naypyitaw",
          "Naypyitaw",
          "Naypyitaw",
          "Yangon",
          "Yangon",
          "Mandalay",
          "Naypyitaw",
          "Naypyitaw",
          "Yangon",
          "Mandalay",
          "Naypyitaw",
          "Yangon",
          "Mandalay",
          "Naypyitaw",
          "Yangon",
          "Mandalay",
          "Naypyitaw",
          "Naypyitaw",
          "Naypyitaw",
          "Yangon",
          "Mandalay",
          "Yangon",
          "Naypyitaw",
          "Yangon",
          "Naypyitaw",
          "Naypyitaw",
          "Mandalay",
          "Naypyitaw",
          "Mandalay",
          "Yangon",
          "Naypyitaw",
          "Naypyitaw",
          "Mandalay",
          "Mandalay",
          "Yangon",
          "Mandalay",
          "Yangon",
          "Naypyitaw",
          "Mandalay",
          "Naypyitaw",
          "Mandalay",
          "Yangon",
          "Yangon",
          "Naypyitaw",
          "Naypyitaw",
          "Mandalay",
          "Mandalay",
          "Yangon",
          "Mandalay",
          "Mandalay",
          "Naypyitaw",
          "Naypyitaw",
          "Yangon",
          "Yangon",
          "Mandalay",
          "Yangon",
          "Naypyitaw",
          "Naypyitaw",
          "Naypyitaw",
          "Naypyitaw",
          "Yangon",
          "Naypyitaw",
          "Yangon",
          "Naypyitaw",
          "Mandalay",
          "Yangon",
          "Mandalay",
          "Naypyitaw",
          "Yangon",
          "Naypyitaw",
          "Naypyitaw",
          "Yangon",
          "Mandalay",
          "Mandalay",
          "Mandalay",
          "Mandalay",
          "Naypyitaw",
          "Yangon",
          "Yangon",
          "Naypyitaw",
          "Mandalay",
          "Mandalay",
          "Naypyitaw",
          "Yangon",
          "Yangon",
          "Yangon",
          "Yangon",
          "Mandalay",
          "Naypyitaw",
          "Mandalay",
          "Mandalay",
          "Yangon",
          "Yangon",
          "Naypyitaw",
          "Yangon",
          "Naypyitaw",
          "Naypyitaw",
          "Naypyitaw",
          "Yangon",
          "Naypyitaw",
          "Yangon",
          "Mandalay",
          "Mandalay",
          "Mandalay",
          "Yangon",
          "Naypyitaw",
          "Mandalay",
          "Mandalay",
          "Naypyitaw",
          "Mandalay",
          "Yangon",
          "Naypyitaw",
          "Naypyitaw",
          "Yangon",
          "Naypyitaw",
          "Naypyitaw",
          "Naypyitaw",
          "Mandalay",
          "Naypyitaw",
          "Mandalay",
          "Mandalay",
          "Yangon",
          "Naypyitaw",
          "Naypyitaw",
          "Mandalay",
          "Mandalay",
          "Yangon",
          "Naypyitaw",
          "Mandalay",
          "Mandalay",
          "Mandalay",
          "Yangon",
          "Mandalay",
          "Yangon",
          "Mandalay",
          "Mandalay",
          "Mandalay",
          "Mandalay",
          "Naypyitaw",
          "Naypyitaw",
          "Yangon",
          "Naypyitaw",
          "Mandalay",
          "Naypyitaw",
          "Mandalay",
          "Yangon",
          "Mandalay",
          "Mandalay",
          "Mandalay",
          "Mandalay",
          "Yangon",
          "Yangon",
          "Naypyitaw",
          "Naypyitaw",
          "Mandalay",
          "Yangon",
          "Yangon",
          "Yangon",
          "Naypyitaw",
          "Yangon",
          "Mandalay",
          "Yangon",
          "Mandalay",
          "Yangon",
          "Yangon",
          "Mandalay",
          "Mandalay",
          "Naypyitaw",
          "Naypyitaw",
          "Yangon",
          "Yangon",
          "Mandalay",
          "Yangon",
          "Yangon",
          "Yangon",
          "Naypyitaw",
          "Yangon",
          "Naypyitaw",
          "Mandalay",
          "Yangon",
          "Mandalay",
          "Yangon",
          "Naypyitaw",
          "Mandalay",
          "Yangon",
          "Yangon",
          "Mandalay",
          "Naypyitaw",
          "Yangon",
          "Yangon",
          "Mandalay",
          "Mandalay",
          "Naypyitaw",
          "Naypyitaw",
          "Naypyitaw",
          "Yangon",
          "Yangon",
          "Naypyitaw",
          "Yangon",
          "Yangon",
          "Yangon",
          "Mandalay",
          "Naypyitaw",
          "Naypyitaw",
          "Mandalay",
          "Yangon",
          "Mandalay",
          "Naypyitaw",
          "Yangon",
          "Yangon",
          "Mandalay",
          "Naypyitaw",
          "Naypyitaw",
          "Yangon",
          "Yangon",
          "Naypyitaw",
          "Naypyitaw",
          "Mandalay",
          "Naypyitaw",
          "Yangon",
          "Mandalay",
          "Yangon",
          "Yangon",
          "Yangon",
          "Yangon",
          "Yangon",
          "Mandalay",
          "Naypyitaw",
          "Yangon",
          "Yangon",
          "Naypyitaw",
          "Naypyitaw",
          "Naypyitaw",
          "Naypyitaw",
          "Naypyitaw",
          "Naypyitaw",
          "Naypyitaw",
          "Naypyitaw",
          "Yangon",
          "Yangon",
          "Yangon",
          "Mandalay",
          "Yangon",
          "Naypyitaw",
          "Mandalay",
          "Yangon",
          "Mandalay",
          "Yangon",
          "Yangon",
          "Yangon",
          "Naypyitaw",
          "Yangon",
          "Yangon",
          "Mandalay",
          "Naypyitaw",
          "Mandalay",
          "Mandalay",
          "Mandalay",
          "Mandalay",
          "Naypyitaw",
          "Yangon",
          "Yangon",
          "Yangon",
          "Naypyitaw",
          "Yangon",
          "Mandalay",
          "Naypyitaw",
          "Yangon",
          "Mandalay",
          "Mandalay",
          "Naypyitaw",
          "Mandalay",
          "Naypyitaw",
          "Naypyitaw",
          "Mandalay",
          "Mandalay",
          "Yangon",
          "Naypyitaw",
          "Naypyitaw",
          "Yangon",
          "Naypyitaw",
          "Naypyitaw",
          "Naypyitaw",
          "Yangon",
          "Naypyitaw",
          "Yangon",
          "Mandalay",
          "Mandalay",
          "Naypyitaw",
          "Naypyitaw",
          "Yangon",
          "Yangon",
          "Mandalay",
          "Naypyitaw",
          "Naypyitaw",
          "Mandalay",
          "Yangon",
          "Naypyitaw",
          "Mandalay",
          "Naypyitaw",
          "Yangon",
          "Mandalay",
          "Naypyitaw",
          "Yangon",
          "Naypyitaw",
          "Mandalay",
          "Naypyitaw",
          "Mandalay",
          "Yangon",
          "Yangon",
          "Yangon",
          "Yangon",
          "Yangon",
          "Mandalay",
          "Mandalay",
          "Mandalay",
          "Naypyitaw",
          "Naypyitaw",
          "Naypyitaw",
          "Mandalay",
          "Naypyitaw",
          "Yangon",
          "Yangon",
          "Mandalay",
          "Yangon",
          "Naypyitaw",
          "Mandalay",
          "Mandalay",
          "Yangon",
          "Yangon",
          "Yangon",
          "Mandalay",
          "Naypyitaw",
          "Naypyitaw",
          "Mandalay",
          "Yangon",
          "Naypyitaw",
          "Naypyitaw",
          "Naypyitaw",
          "Mandalay",
          "Naypyitaw",
          "Mandalay",
          "Yangon",
          "Mandalay",
          "Mandalay",
          "Yangon",
          "Mandalay",
          "Naypyitaw",
          "Yangon",
          "Mandalay",
          "Mandalay",
          "Naypyitaw",
          "Naypyitaw",
          "Yangon",
          "Naypyitaw",
          "Naypyitaw",
          "Naypyitaw",
          "Mandalay",
          "Yangon",
          "Naypyitaw",
          "Yangon",
          "Mandalay",
          "Naypyitaw",
          "Naypyitaw",
          "Mandalay",
          "Mandalay",
          "Mandalay",
          "Mandalay",
          "Yangon",
          "Yangon",
          "Yangon",
          "Mandalay",
          "Mandalay",
          "Mandalay",
          "Naypyitaw",
          "Naypyitaw",
          "Naypyitaw",
          "Mandalay",
          "Naypyitaw",
          "Naypyitaw",
          "Yangon",
          "Naypyitaw",
          "Naypyitaw",
          "Mandalay",
          "Naypyitaw",
          "Naypyitaw",
          "Naypyitaw",
          "Yangon",
          "Yangon",
          "Mandalay",
          "Yangon",
          "Yangon",
          "Yangon",
          "Naypyitaw",
          "Mandalay",
          "Yangon",
          "Naypyitaw",
          "Naypyitaw",
          "Yangon",
          "Mandalay",
          "Naypyitaw",
          "Mandalay",
          "Mandalay",
          "Yangon",
          "Naypyitaw",
          "Mandalay",
          "Mandalay",
          "Yangon",
          "Mandalay",
          "Naypyitaw",
          "Mandalay",
          "Mandalay",
          "Naypyitaw",
          "Naypyitaw",
          "Mandalay",
          "Yangon",
          "Mandalay",
          "Naypyitaw",
          "Naypyitaw",
          "Mandalay",
          "Mandalay",
          "Yangon",
          "Mandalay",
          "Mandalay",
          "Mandalay",
          "Naypyitaw",
          "Mandalay",
          "Yangon",
          "Yangon",
          "Yangon",
          "Naypyitaw",
          "Naypyitaw",
          "Mandalay",
          "Naypyitaw",
          "Yangon",
          "Naypyitaw",
          "Mandalay",
          "Naypyitaw",
          "Yangon",
          "Naypyitaw",
          "Yangon",
          "Yangon",
          "Mandalay",
          "Mandalay",
          "Mandalay",
          "Yangon",
          "Yangon",
          "Yangon",
          "Mandalay",
          "Naypyitaw",
          "Yangon",
          "Naypyitaw",
          "Mandalay",
          "Yangon",
          "Yangon",
          "Naypyitaw",
          "Yangon",
          "Naypyitaw",
          "Mandalay",
          "Naypyitaw",
          "Mandalay",
          "Mandalay",
          "Yangon",
          "Yangon",
          "Mandalay",
          "Yangon",
          "Mandalay",
          "Mandalay",
          "Mandalay",
          "Naypyitaw",
          "Yangon",
          "Mandalay",
          "Mandalay",
          "Naypyitaw",
          "Yangon",
          "Yangon",
          "Mandalay",
          "Naypyitaw",
          "Mandalay",
          "Yangon",
          "Mandalay",
          "Yangon",
          "Naypyitaw",
          "Yangon",
          "Mandalay",
          "Naypyitaw",
          "Mandalay",
          "Mandalay",
          "Yangon",
          "Mandalay",
          "Yangon",
          "Mandalay",
          "Mandalay",
          "Naypyitaw",
          "Yangon",
          "Mandalay",
          "Naypyitaw",
          "Yangon",
          "Naypyitaw",
          "Mandalay",
          "Mandalay",
          "Yangon",
          "Yangon",
          "Yangon",
          "Naypyitaw",
          "Yangon",
          "Naypyitaw",
          "Naypyitaw",
          "Yangon",
          "Yangon",
          "Mandalay",
          "Mandalay",
          "Yangon",
          "Naypyitaw",
          "Naypyitaw",
          "Yangon",
          "Naypyitaw",
          "Naypyitaw",
          "Naypyitaw",
          "Mandalay",
          "Naypyitaw",
          "Mandalay",
          "Yangon",
          "Naypyitaw",
          "Yangon",
          "Mandalay",
          "Yangon",
          "Naypyitaw",
          "Mandalay",
          "Naypyitaw",
          "Yangon",
          "Yangon",
          "Mandalay",
          "Naypyitaw",
          "Yangon",
          "Naypyitaw",
          "Yangon",
          "Yangon",
          "Mandalay",
          "Mandalay",
          "Mandalay",
          "Mandalay",
          "Yangon",
          "Mandalay",
          "Yangon",
          "Yangon",
          "Yangon",
          "Yangon",
          "Yangon",
          "Mandalay",
          "Mandalay",
          "Mandalay",
          "Yangon",
          "Naypyitaw",
          "Mandalay",
          "Mandalay",
          "Mandalay",
          "Naypyitaw",
          "Mandalay",
          "Naypyitaw",
          "Naypyitaw",
          "Yangon",
          "Naypyitaw",
          "Mandalay",
          "Naypyitaw",
          "Naypyitaw",
          "Mandalay",
          "Mandalay",
          "Yangon",
          "Mandalay",
          "Mandalay",
          "Yangon",
          "Naypyitaw",
          "Yangon",
          "Yangon",
          "Yangon",
          "Mandalay",
          "Naypyitaw",
          "Mandalay",
          "Naypyitaw",
          "Naypyitaw",
          "Yangon",
          "Mandalay",
          "Mandalay",
          "Naypyitaw",
          "Mandalay",
          "Yangon",
          "Mandalay",
          "Mandalay",
          "Naypyitaw",
          "Yangon",
          "Mandalay",
          "Mandalay",
          "Yangon",
          "Naypyitaw",
          "Yangon",
          "Mandalay",
          "Mandalay",
          "Naypyitaw",
          "Yangon",
          "Mandalay",
          "Mandalay",
          "Mandalay",
          "Yangon",
          "Naypyitaw",
          "Yangon",
          "Naypyitaw",
          "Naypyitaw",
          "Yangon",
          "Naypyitaw",
          "Naypyitaw",
          "Yangon",
          "Yangon",
          "Mandalay",
          "Yangon",
          "Naypyitaw",
          "Naypyitaw",
          "Mandalay",
          "Mandalay",
          "Mandalay",
          "Mandalay",
          "Mandalay",
          "Mandalay",
          "Naypyitaw",
          "Naypyitaw",
          "Yangon",
          "Yangon",
          "Naypyitaw",
          "Naypyitaw",
          "Naypyitaw",
          "Naypyitaw",
          "Yangon",
          "Yangon",
          "Yangon",
          "Yangon",
          "Mandalay",
          "Mandalay",
          "Naypyitaw",
          "Mandalay",
          "Naypyitaw",
          "Mandalay",
          "Naypyitaw",
          "Naypyitaw",
          "Mandalay",
          "Naypyitaw",
          "Mandalay",
          "Yangon",
          "Yangon",
          "Yangon",
          "Mandalay",
          "Mandalay",
          "Naypyitaw",
          "Naypyitaw",
          "Naypyitaw",
          "Mandalay",
          "Yangon",
          "Naypyitaw",
          "Naypyitaw",
          "Yangon",
          "Yangon",
          "Naypyitaw",
          "Naypyitaw",
          "Mandalay",
          "Naypyitaw",
          "Mandalay",
          "Naypyitaw",
          "Mandalay",
          "Yangon",
          "Yangon",
          "Mandalay",
          "Naypyitaw",
          "Yangon",
          "Mandalay",
          "Yangon",
          "Yangon",
          "Yangon",
          "Mandalay",
          "Mandalay",
          "Yangon",
          "Yangon",
          "Yangon",
          "Mandalay",
          "Naypyitaw",
          "Mandalay",
          "Mandalay",
          "Yangon",
          "Mandalay",
          "Naypyitaw",
          "Naypyitaw",
          "Naypyitaw",
          "Naypyitaw",
          "Mandalay",
          "Naypyitaw",
          "Mandalay",
          "Naypyitaw",
          "Mandalay",
          "Naypyitaw",
          "Yangon",
          "Yangon",
          "Naypyitaw",
          "Naypyitaw",
          "Yangon",
          "Naypyitaw",
          "Naypyitaw",
          "Naypyitaw",
          "Yangon",
          "Yangon",
          "Naypyitaw",
          "Mandalay",
          "Yangon",
          "Yangon",
          "Mandalay",
          "Naypyitaw",
          "Yangon",
          "Mandalay",
          "Naypyitaw",
          "Mandalay",
          "Naypyitaw",
          "Naypyitaw",
          "Yangon",
          "Mandalay",
          "Yangon",
          "Yangon",
          "Yangon",
          "Mandalay",
          "Naypyitaw",
          "Mandalay",
          "Yangon",
          "Naypyitaw",
          "Yangon",
          "Yangon",
          "Mandalay",
          "Naypyitaw",
          "Yangon",
          "Mandalay",
          "Mandalay",
          "Mandalay",
          "Yangon",
          "Naypyitaw",
          "Yangon",
          "Mandalay",
          "Yangon",
          "Mandalay",
          "Yangon",
          "Naypyitaw",
          "Yangon",
          "Yangon",
          "Mandalay",
          "Mandalay",
          "Yangon",
          "Mandalay",
          "Yangon",
          "Yangon",
          "Mandalay",
          "Naypyitaw",
          "Naypyitaw",
          "Yangon",
          "Mandalay",
          "Yangon",
          "Naypyitaw",
          "Yangon",
          "Yangon",
          "Yangon",
          "Naypyitaw",
          "Naypyitaw",
          "Yangon",
          "Yangon",
          "Yangon",
          "Naypyitaw",
          "Mandalay",
          "Yangon",
          "Mandalay",
          "Mandalay",
          "Yangon",
          "Mandalay",
          "Yangon",
          "Naypyitaw",
          "Yangon",
          "Mandalay",
          "Mandalay",
          "Yangon",
          "Naypyitaw",
          "Mandalay",
          "Naypyitaw",
          "Naypyitaw",
          "Yangon",
          "Yangon",
          "Naypyitaw",
          "Mandalay",
          "Yangon",
          "Yangon",
          "Naypyitaw",
          "Naypyitaw",
          "Mandalay",
          "Yangon",
          "Mandalay",
          "Mandalay",
          "Naypyitaw",
          "Mandalay",
          "Yangon",
          "Yangon",
          "Yangon",
          "Yangon",
          "Yangon",
          "Naypyitaw",
          "Yangon",
          "Naypyitaw",
          "Mandalay",
          "Naypyitaw",
          "Mandalay",
          "Mandalay",
          "Mandalay",
          "Naypyitaw",
          "Naypyitaw",
          "Naypyitaw",
          "Yangon",
          "Naypyitaw",
          "Mandalay",
          "Yangon",
          "Yangon",
          "Naypyitaw",
          "Naypyitaw",
          "Naypyitaw",
          "Mandalay",
          "Yangon",
          "Mandalay",
          "Mandalay",
          "Naypyitaw",
          "Yangon",
          "Yangon",
          "Yangon",
          "Naypyitaw",
          "Naypyitaw",
          "Yangon",
          "Mandalay",
          "Mandalay",
          "Naypyitaw",
          "Mandalay",
          "Naypyitaw",
          "Naypyitaw",
          "Naypyitaw",
          "Mandalay",
          "Mandalay",
          "Yangon",
          "Mandalay",
          "Mandalay",
          "Mandalay",
          "Naypyitaw",
          "Yangon",
          "Naypyitaw",
          "Mandalay",
          "Naypyitaw",
          "Naypyitaw",
          "Yangon",
          "Yangon",
          "Naypyitaw",
          "Yangon",
          "Naypyitaw",
          "Yangon",
          "Yangon",
          "Yangon",
          "Yangon",
          "Naypyitaw",
          "Mandalay",
          "Naypyitaw",
          "Mandalay",
          "Mandalay",
          "Mandalay",
          "Mandalay",
          "Naypyitaw",
          "Mandalay",
          "Yangon",
          "Naypyitaw",
          "Mandalay",
          "Naypyitaw",
          "Yangon",
          "Naypyitaw",
          "Yangon",
          "Yangon",
          "Naypyitaw",
          "Mandalay",
          "Mandalay",
          "Yangon",
          "Yangon",
          "Yangon",
          "Mandalay",
          "Mandalay",
          "Mandalay",
          "Mandalay",
          "Yangon",
          "Naypyitaw",
          "Mandalay",
          "Yangon",
          "Mandalay",
          "Mandalay",
          "Mandalay",
          "Naypyitaw",
          "Yangon",
          "Yangon",
          "Naypyitaw",
          "Naypyitaw",
          "Mandalay",
          "Mandalay",
          "Mandalay",
          "Naypyitaw",
          "Mandalay",
          "Yangon",
          "Mandalay",
          "Yangon",
          "Mandalay",
          "Naypyitaw",
          "Naypyitaw",
          "Mandalay",
          "Yangon",
          "Yangon",
          "Yangon"
         ],
         "legendgroup": "",
         "name": "",
         "showlegend": true,
         "textinfo": "percent+label",
         "textposition": "inside",
         "title": {
          "text": "Customer stratification rating"
         },
         "type": "pie"
        }
       ],
       "layout": {
        "height": 600,
        "legend": {
         "tracegroupgap": 0
        },
        "margin": {
         "t": 60
        },
        "template": {
         "data": {
          "bar": [
           {
            "error_x": {
             "color": "#2a3f5f"
            },
            "error_y": {
             "color": "#2a3f5f"
            },
            "marker": {
             "line": {
              "color": "#E5ECF6",
              "width": 0.5
             },
             "pattern": {
              "fillmode": "overlay",
              "size": 10,
              "solidity": 0.2
             }
            },
            "type": "bar"
           }
          ],
          "barpolar": [
           {
            "marker": {
             "line": {
              "color": "#E5ECF6",
              "width": 0.5
             },
             "pattern": {
              "fillmode": "overlay",
              "size": 10,
              "solidity": 0.2
             }
            },
            "type": "barpolar"
           }
          ],
          "carpet": [
           {
            "aaxis": {
             "endlinecolor": "#2a3f5f",
             "gridcolor": "white",
             "linecolor": "white",
             "minorgridcolor": "white",
             "startlinecolor": "#2a3f5f"
            },
            "baxis": {
             "endlinecolor": "#2a3f5f",
             "gridcolor": "white",
             "linecolor": "white",
             "minorgridcolor": "white",
             "startlinecolor": "#2a3f5f"
            },
            "type": "carpet"
           }
          ],
          "choropleth": [
           {
            "colorbar": {
             "outlinewidth": 0,
             "ticks": ""
            },
            "type": "choropleth"
           }
          ],
          "contour": [
           {
            "colorbar": {
             "outlinewidth": 0,
             "ticks": ""
            },
            "colorscale": [
             [
              0,
              "#0d0887"
             ],
             [
              0.1111111111111111,
              "#46039f"
             ],
             [
              0.2222222222222222,
              "#7201a8"
             ],
             [
              0.3333333333333333,
              "#9c179e"
             ],
             [
              0.4444444444444444,
              "#bd3786"
             ],
             [
              0.5555555555555556,
              "#d8576b"
             ],
             [
              0.6666666666666666,
              "#ed7953"
             ],
             [
              0.7777777777777778,
              "#fb9f3a"
             ],
             [
              0.8888888888888888,
              "#fdca26"
             ],
             [
              1,
              "#f0f921"
             ]
            ],
            "type": "contour"
           }
          ],
          "contourcarpet": [
           {
            "colorbar": {
             "outlinewidth": 0,
             "ticks": ""
            },
            "type": "contourcarpet"
           }
          ],
          "heatmap": [
           {
            "colorbar": {
             "outlinewidth": 0,
             "ticks": ""
            },
            "colorscale": [
             [
              0,
              "#0d0887"
             ],
             [
              0.1111111111111111,
              "#46039f"
             ],
             [
              0.2222222222222222,
              "#7201a8"
             ],
             [
              0.3333333333333333,
              "#9c179e"
             ],
             [
              0.4444444444444444,
              "#bd3786"
             ],
             [
              0.5555555555555556,
              "#d8576b"
             ],
             [
              0.6666666666666666,
              "#ed7953"
             ],
             [
              0.7777777777777778,
              "#fb9f3a"
             ],
             [
              0.8888888888888888,
              "#fdca26"
             ],
             [
              1,
              "#f0f921"
             ]
            ],
            "type": "heatmap"
           }
          ],
          "heatmapgl": [
           {
            "colorbar": {
             "outlinewidth": 0,
             "ticks": ""
            },
            "colorscale": [
             [
              0,
              "#0d0887"
             ],
             [
              0.1111111111111111,
              "#46039f"
             ],
             [
              0.2222222222222222,
              "#7201a8"
             ],
             [
              0.3333333333333333,
              "#9c179e"
             ],
             [
              0.4444444444444444,
              "#bd3786"
             ],
             [
              0.5555555555555556,
              "#d8576b"
             ],
             [
              0.6666666666666666,
              "#ed7953"
             ],
             [
              0.7777777777777778,
              "#fb9f3a"
             ],
             [
              0.8888888888888888,
              "#fdca26"
             ],
             [
              1,
              "#f0f921"
             ]
            ],
            "type": "heatmapgl"
           }
          ],
          "histogram": [
           {
            "marker": {
             "pattern": {
              "fillmode": "overlay",
              "size": 10,
              "solidity": 0.2
             }
            },
            "type": "histogram"
           }
          ],
          "histogram2d": [
           {
            "colorbar": {
             "outlinewidth": 0,
             "ticks": ""
            },
            "colorscale": [
             [
              0,
              "#0d0887"
             ],
             [
              0.1111111111111111,
              "#46039f"
             ],
             [
              0.2222222222222222,
              "#7201a8"
             ],
             [
              0.3333333333333333,
              "#9c179e"
             ],
             [
              0.4444444444444444,
              "#bd3786"
             ],
             [
              0.5555555555555556,
              "#d8576b"
             ],
             [
              0.6666666666666666,
              "#ed7953"
             ],
             [
              0.7777777777777778,
              "#fb9f3a"
             ],
             [
              0.8888888888888888,
              "#fdca26"
             ],
             [
              1,
              "#f0f921"
             ]
            ],
            "type": "histogram2d"
           }
          ],
          "histogram2dcontour": [
           {
            "colorbar": {
             "outlinewidth": 0,
             "ticks": ""
            },
            "colorscale": [
             [
              0,
              "#0d0887"
             ],
             [
              0.1111111111111111,
              "#46039f"
             ],
             [
              0.2222222222222222,
              "#7201a8"
             ],
             [
              0.3333333333333333,
              "#9c179e"
             ],
             [
              0.4444444444444444,
              "#bd3786"
             ],
             [
              0.5555555555555556,
              "#d8576b"
             ],
             [
              0.6666666666666666,
              "#ed7953"
             ],
             [
              0.7777777777777778,
              "#fb9f3a"
             ],
             [
              0.8888888888888888,
              "#fdca26"
             ],
             [
              1,
              "#f0f921"
             ]
            ],
            "type": "histogram2dcontour"
           }
          ],
          "mesh3d": [
           {
            "colorbar": {
             "outlinewidth": 0,
             "ticks": ""
            },
            "type": "mesh3d"
           }
          ],
          "parcoords": [
           {
            "line": {
             "colorbar": {
              "outlinewidth": 0,
              "ticks": ""
             }
            },
            "type": "parcoords"
           }
          ],
          "pie": [
           {
            "automargin": true,
            "type": "pie"
           }
          ],
          "scatter": [
           {
            "marker": {
             "colorbar": {
              "outlinewidth": 0,
              "ticks": ""
             }
            },
            "type": "scatter"
           }
          ],
          "scatter3d": [
           {
            "line": {
             "colorbar": {
              "outlinewidth": 0,
              "ticks": ""
             }
            },
            "marker": {
             "colorbar": {
              "outlinewidth": 0,
              "ticks": ""
             }
            },
            "type": "scatter3d"
           }
          ],
          "scattercarpet": [
           {
            "marker": {
             "colorbar": {
              "outlinewidth": 0,
              "ticks": ""
             }
            },
            "type": "scattercarpet"
           }
          ],
          "scattergeo": [
           {
            "marker": {
             "colorbar": {
              "outlinewidth": 0,
              "ticks": ""
             }
            },
            "type": "scattergeo"
           }
          ],
          "scattergl": [
           {
            "marker": {
             "colorbar": {
              "outlinewidth": 0,
              "ticks": ""
             }
            },
            "type": "scattergl"
           }
          ],
          "scattermapbox": [
           {
            "marker": {
             "colorbar": {
              "outlinewidth": 0,
              "ticks": ""
             }
            },
            "type": "scattermapbox"
           }
          ],
          "scatterpolar": [
           {
            "marker": {
             "colorbar": {
              "outlinewidth": 0,
              "ticks": ""
             }
            },
            "type": "scatterpolar"
           }
          ],
          "scatterpolargl": [
           {
            "marker": {
             "colorbar": {
              "outlinewidth": 0,
              "ticks": ""
             }
            },
            "type": "scatterpolargl"
           }
          ],
          "scatterternary": [
           {
            "marker": {
             "colorbar": {
              "outlinewidth": 0,
              "ticks": ""
             }
            },
            "type": "scatterternary"
           }
          ],
          "surface": [
           {
            "colorbar": {
             "outlinewidth": 0,
             "ticks": ""
            },
            "colorscale": [
             [
              0,
              "#0d0887"
             ],
             [
              0.1111111111111111,
              "#46039f"
             ],
             [
              0.2222222222222222,
              "#7201a8"
             ],
             [
              0.3333333333333333,
              "#9c179e"
             ],
             [
              0.4444444444444444,
              "#bd3786"
             ],
             [
              0.5555555555555556,
              "#d8576b"
             ],
             [
              0.6666666666666666,
              "#ed7953"
             ],
             [
              0.7777777777777778,
              "#fb9f3a"
             ],
             [
              0.8888888888888888,
              "#fdca26"
             ],
             [
              1,
              "#f0f921"
             ]
            ],
            "type": "surface"
           }
          ],
          "table": [
           {
            "cells": {
             "fill": {
              "color": "#EBF0F8"
             },
             "line": {
              "color": "white"
             }
            },
            "header": {
             "fill": {
              "color": "#C8D4E3"
             },
             "line": {
              "color": "white"
             }
            },
            "type": "table"
           }
          ]
         },
         "layout": {
          "annotationdefaults": {
           "arrowcolor": "#2a3f5f",
           "arrowhead": 0,
           "arrowwidth": 1
          },
          "autotypenumbers": "strict",
          "coloraxis": {
           "colorbar": {
            "outlinewidth": 0,
            "ticks": ""
           }
          },
          "colorscale": {
           "diverging": [
            [
             0,
             "#8e0152"
            ],
            [
             0.1,
             "#c51b7d"
            ],
            [
             0.2,
             "#de77ae"
            ],
            [
             0.3,
             "#f1b6da"
            ],
            [
             0.4,
             "#fde0ef"
            ],
            [
             0.5,
             "#f7f7f7"
            ],
            [
             0.6,
             "#e6f5d0"
            ],
            [
             0.7,
             "#b8e186"
            ],
            [
             0.8,
             "#7fbc41"
            ],
            [
             0.9,
             "#4d9221"
            ],
            [
             1,
             "#276419"
            ]
           ],
           "sequential": [
            [
             0,
             "#0d0887"
            ],
            [
             0.1111111111111111,
             "#46039f"
            ],
            [
             0.2222222222222222,
             "#7201a8"
            ],
            [
             0.3333333333333333,
             "#9c179e"
            ],
            [
             0.4444444444444444,
             "#bd3786"
            ],
            [
             0.5555555555555556,
             "#d8576b"
            ],
            [
             0.6666666666666666,
             "#ed7953"
            ],
            [
             0.7777777777777778,
             "#fb9f3a"
            ],
            [
             0.8888888888888888,
             "#fdca26"
            ],
            [
             1,
             "#f0f921"
            ]
           ],
           "sequentialminus": [
            [
             0,
             "#0d0887"
            ],
            [
             0.1111111111111111,
             "#46039f"
            ],
            [
             0.2222222222222222,
             "#7201a8"
            ],
            [
             0.3333333333333333,
             "#9c179e"
            ],
            [
             0.4444444444444444,
             "#bd3786"
            ],
            [
             0.5555555555555556,
             "#d8576b"
            ],
            [
             0.6666666666666666,
             "#ed7953"
            ],
            [
             0.7777777777777778,
             "#fb9f3a"
            ],
            [
             0.8888888888888888,
             "#fdca26"
            ],
            [
             1,
             "#f0f921"
            ]
           ]
          },
          "colorway": [
           "#636efa",
           "#EF553B",
           "#00cc96",
           "#ab63fa",
           "#FFA15A",
           "#19d3f3",
           "#FF6692",
           "#B6E880",
           "#FF97FF",
           "#FECB52"
          ],
          "font": {
           "color": "#2a3f5f"
          },
          "geo": {
           "bgcolor": "white",
           "lakecolor": "white",
           "landcolor": "#E5ECF6",
           "showlakes": true,
           "showland": true,
           "subunitcolor": "white"
          },
          "hoverlabel": {
           "align": "left"
          },
          "hovermode": "closest",
          "mapbox": {
           "style": "light"
          },
          "paper_bgcolor": "white",
          "plot_bgcolor": "#E5ECF6",
          "polar": {
           "angularaxis": {
            "gridcolor": "white",
            "linecolor": "white",
            "ticks": ""
           },
           "bgcolor": "#E5ECF6",
           "radialaxis": {
            "gridcolor": "white",
            "linecolor": "white",
            "ticks": ""
           }
          },
          "scene": {
           "xaxis": {
            "backgroundcolor": "#E5ECF6",
            "gridcolor": "white",
            "gridwidth": 2,
            "linecolor": "white",
            "showbackground": true,
            "ticks": "",
            "zerolinecolor": "white"
           },
           "yaxis": {
            "backgroundcolor": "#E5ECF6",
            "gridcolor": "white",
            "gridwidth": 2,
            "linecolor": "white",
            "showbackground": true,
            "ticks": "",
            "zerolinecolor": "white"
           },
           "zaxis": {
            "backgroundcolor": "#E5ECF6",
            "gridcolor": "white",
            "gridwidth": 2,
            "linecolor": "white",
            "showbackground": true,
            "ticks": "",
            "zerolinecolor": "white"
           }
          },
          "shapedefaults": {
           "line": {
            "color": "#2a3f5f"
           }
          },
          "ternary": {
           "aaxis": {
            "gridcolor": "white",
            "linecolor": "white",
            "ticks": ""
           },
           "baxis": {
            "gridcolor": "white",
            "linecolor": "white",
            "ticks": ""
           },
           "bgcolor": "#E5ECF6",
           "caxis": {
            "gridcolor": "white",
            "linecolor": "white",
            "ticks": ""
           }
          },
          "title": {
           "x": 0.05
          },
          "xaxis": {
           "automargin": true,
           "gridcolor": "white",
           "linecolor": "white",
           "ticks": "",
           "title": {
            "standoff": 15
           },
           "zerolinecolor": "white",
           "zerolinewidth": 2
          },
          "yaxis": {
           "automargin": true,
           "gridcolor": "white",
           "linecolor": "white",
           "ticks": "",
           "title": {
            "standoff": 15
           },
           "zerolinecolor": "white",
           "zerolinewidth": 2
          }
         }
        }
       }
      }
     },
     "metadata": {},
     "output_type": "display_data"
    }
   ],
   "source": [
    "fig = px.pie(df, names='City', height=600)\n",
    "fig.update_traces(textposition='inside', textinfo='percent+label', )"
   ]
  },
  {
   "cell_type": "code",
   "execution_count": 351,
   "id": "85cb6c5c",
   "metadata": {},
   "outputs": [
    {
     "data": {
      "text/plain": [
       "array([13, 10, 20, 18, 14, 11, 17, 16, 19, 15, 12], dtype=int64)"
      ]
     },
     "execution_count": 351,
     "metadata": {},
     "output_type": "execute_result"
    }
   ],
   "source": [
    "df[\"Hour\"].unique()"
   ]
  },
  {
   "cell_type": "code",
   "execution_count": 270,
   "id": "8415add4",
   "metadata": {},
   "outputs": [
    {
     "data": {
      "application/vnd.plotly.v1+json": {
       "config": {
        "plotlyServerURL": "https://plot.ly"
       },
       "data": [
        {
         "alignmentgroup": "True",
         "boxpoints": "all",
         "hovertemplate": "Gender=Female<br>Branch=%{x}<br>Rating=%{y}<extra></extra>",
         "legendgroup": "Female",
         "marker": {
          "color": "#636efa"
         },
         "name": "Female",
         "notched": false,
         "offsetgroup": "Female",
         "orientation": "v",
         "showlegend": true,
         "type": "box",
         "x": [
          "A",
          "C",
          "A",
          "C",
          "A",
          "B",
          "B",
          "A",
          "A",
          "B",
          "A",
          "B",
          "A",
          "A",
          "B",
          "C",
          "C",
          "A",
          "C",
          "B",
          "B",
          "C",
          "B",
          "B",
          "C",
          "A",
          "B",
          "C",
          "A",
          "C",
          "B",
          "C",
          "B",
          "A",
          "B",
          "C",
          "C",
          "A",
          "C",
          "C",
          "C",
          "B",
          "C",
          "C",
          "B",
          "C",
          "C",
          "A",
          "C",
          "C",
          "C",
          "B",
          "C",
          "B",
          "C",
          "C",
          "A",
          "A",
          "B",
          "A",
          "A",
          "C",
          "C",
          "B",
          "B",
          "A",
          "B",
          "C",
          "A",
          "A",
          "C",
          "C",
          "C",
          "A",
          "C",
          "A",
          "B",
          "C",
          "C",
          "C",
          "C",
          "A",
          "B",
          "C",
          "B",
          "B",
          "C",
          "C",
          "A",
          "C",
          "C",
          "B",
          "A",
          "C",
          "C",
          "B",
          "B",
          "C",
          "B",
          "B",
          "A",
          "B",
          "C",
          "C",
          "B",
          "A",
          "B",
          "B",
          "B",
          "A",
          "C",
          "B",
          "B",
          "C",
          "A",
          "C",
          "B",
          "A",
          "A",
          "B",
          "A",
          "B",
          "C",
          "A",
          "A",
          "B",
          "C",
          "C",
          "A",
          "A",
          "A",
          "C",
          "B",
          "A",
          "A",
          "A",
          "C",
          "C",
          "A",
          "B",
          "A",
          "A",
          "A",
          "A",
          "A",
          "A",
          "C",
          "C",
          "C",
          "C",
          "C",
          "A",
          "A",
          "B",
          "C",
          "B",
          "B",
          "B",
          "C",
          "A",
          "C",
          "B",
          "C",
          "B",
          "C",
          "B",
          "C",
          "C",
          "C",
          "C",
          "C",
          "C",
          "C",
          "B",
          "B",
          "C",
          "A",
          "A",
          "B",
          "B",
          "C",
          "B",
          "C",
          "A",
          "A",
          "C",
          "C",
          "B",
          "A",
          "A",
          "A",
          "A",
          "B",
          "C",
          "B",
          "C",
          "B",
          "A",
          "C",
          "B",
          "C",
          "C",
          "B",
          "A",
          "C",
          "C",
          "C",
          "B",
          "A",
          "A",
          "B",
          "C",
          "B",
          "A",
          "A",
          "B",
          "B",
          "B",
          "B",
          "A",
          "B",
          "B",
          "C",
          "B",
          "C",
          "C",
          "C",
          "C",
          "C",
          "C",
          "A",
          "A",
          "A",
          "C",
          "C",
          "B",
          "B",
          "B",
          "B",
          "A",
          "B",
          "C",
          "C",
          "C",
          "B",
          "A",
          "C",
          "B",
          "B",
          "B",
          "C",
          "B",
          "A",
          "A",
          "C",
          "B",
          "C",
          "A",
          "A",
          "B",
          "C",
          "A",
          "B",
          "A",
          "C",
          "B",
          "B",
          "A",
          "B",
          "A",
          "B",
          "B",
          "B",
          "C",
          "A",
          "B",
          "A",
          "C",
          "A",
          "B",
          "C",
          "B",
          "A",
          "A",
          "C",
          "B",
          "A",
          "A",
          "C",
          "A",
          "A",
          "C",
          "C",
          "A",
          "C",
          "B",
          "C",
          "A",
          "C",
          "A",
          "C",
          "A",
          "C",
          "A",
          "A",
          "B",
          "B",
          "B",
          "A",
          "C",
          "B",
          "B",
          "C",
          "C",
          "C",
          "B",
          "A",
          "C",
          "A",
          "A",
          "B",
          "B",
          "C",
          "C",
          "A",
          "B",
          "C",
          "B",
          "B",
          "A",
          "B",
          "A",
          "B",
          "B",
          "C",
          "B",
          "B",
          "B",
          "A",
          "C",
          "C",
          "C",
          "A",
          "A",
          "C",
          "B",
          "B",
          "B",
          "C",
          "C",
          "C",
          "A",
          "A",
          "B",
          "B",
          "C",
          "C",
          "C",
          "B",
          "A",
          "C",
          "A",
          "C",
          "C",
          "C",
          "B",
          "B",
          "A",
          "A",
          "C",
          "A",
          "B",
          "A",
          "A",
          "B",
          "A",
          "A",
          "B",
          "C",
          "B",
          "A",
          "B",
          "C",
          "C",
          "C",
          "B",
          "A",
          "A",
          "C",
          "C",
          "C",
          "B",
          "A",
          "C",
          "A",
          "C",
          "A",
          "B",
          "A",
          "A",
          "A",
          "B",
          "C",
          "A",
          "C",
          "A",
          "B",
          "C",
          "A",
          "A",
          "B",
          "A",
          "B",
          "A",
          "B",
          "B",
          "C",
          "A",
          "C",
          "C",
          "C",
          "A",
          "A",
          "B",
          "A",
          "B",
          "A",
          "A",
          "C",
          "B",
          "B",
          "A",
          "C",
          "B",
          "A",
          "B",
          "B",
          "C",
          "A",
          "A",
          "A",
          "C",
          "C",
          "B",
          "C",
          "C",
          "C",
          "A",
          "C",
          "C",
          "B",
          "A",
          "B",
          "B",
          "C",
          "A",
          "A",
          "C",
          "A",
          "B",
          "C",
          "B",
          "C",
          "C",
          "C",
          "B",
          "A",
          "B",
          "C",
          "A",
          "B",
          "C",
          "A",
          "A",
          "C",
          "A",
          "A",
          "B",
          "B",
          "B",
          "C",
          "A",
          "C",
          "A",
          "A",
          "B",
          "A",
          "A",
          "B",
          "B",
          "A",
          "B",
          "B",
          "A",
          "B",
          "B",
          "A",
          "B",
          "C",
          "B",
          "A"
         ],
         "x0": " ",
         "xaxis": "x",
         "y": [
          9.1,
          9.6,
          5.8,
          8,
          7.2,
          5.9,
          4.5,
          7.1,
          5.7,
          4.5,
          4.6,
          4.4,
          8.5,
          7.7,
          9.6,
          7.5,
          6.8,
          4.7,
          7.6,
          7.9,
          5.6,
          7.6,
          9.5,
          4.1,
          7.9,
          8.5,
          6.5,
          8.2,
          5.4,
          10,
          10,
          6.7,
          9.9,
          4.3,
          4,
          8.7,
          5.4,
          5.7,
          6.6,
          6,
          5.5,
          6.4,
          8.3,
          4,
          6.1,
          7.1,
          8.2,
          5.1,
          4.1,
          4.9,
          4.2,
          4.6,
          7.8,
          8.4,
          9.5,
          7.1,
          6,
          5.2,
          7.3,
          4.5,
          9,
          5.9,
          8.5,
          7.2,
          7.5,
          8.3,
          7.4,
          5.3,
          8.8,
          9.8,
          5.4,
          9.1,
          8.4,
          8,
          9.5,
          9.2,
          4.8,
          9.9,
          9.3,
          8.3,
          4.8,
          6.7,
          7.5,
          5.9,
          7.2,
          4.6,
          9.2,
          5,
          6.1,
          5.5,
          6.8,
          6.6,
          7.9,
          9.7,
          7.8,
          5.1,
          6.5,
          8.8,
          6.5,
          8.5,
          5.5,
          7.9,
          8.2,
          9.7,
          5.3,
          7.4,
          6.5,
          8.7,
          8,
          4.1,
          8.6,
          4.3,
          4.8,
          7.2,
          6.2,
          5.6,
          5.7,
          4.2,
          8.7,
          9.5,
          7,
          6.3,
          9.7,
          8.8,
          5.1,
          7.9,
          7.1,
          6.4,
          6.4,
          6.5,
          9.1,
          9.5,
          5.2,
          4.2,
          4.7,
          7.1,
          7.5,
          7.7,
          4.7,
          8.6,
          9.6,
          4.1,
          4.7,
          7.8,
          4.4,
          5,
          4.4,
          7.3,
          8.1,
          5.5,
          8.4,
          6.7,
          9.1,
          5.2,
          9.5,
          8.9,
          8.9,
          7.7,
          9.3,
          7.6,
          4.7,
          4.8,
          6.6,
          8.5,
          8.4,
          7.8,
          9.3,
          5.2,
          9.1,
          7.1,
          9.1,
          5.6,
          5.4,
          9.9,
          4.9,
          5.2,
          9.1,
          7,
          9.6,
          4,
          4.2,
          9.9,
          4.2,
          9.9,
          10,
          9.5,
          8.1,
          9.7,
          6.2,
          7.3,
          4.3,
          4.6,
          8.3,
          9.4,
          9.6,
          4.9,
          4.1,
          5.5,
          5.4,
          5.1,
          8.7,
          9.2,
          8.3,
          8.2,
          7.5,
          9.8,
          8.7,
          8,
          7.3,
          6.4,
          6.8,
          6.5,
          4.3,
          6.5,
          9.7,
          9.5,
          5.3,
          9.6,
          6.7,
          4.8,
          6.9,
          4.5,
          7.6,
          8.7,
          6.1,
          6.4,
          7.1,
          7.7,
          8.4,
          5.4,
          9.7,
          6.6,
          4.2,
          6.2,
          7,
          6.6,
          7.3,
          9.8,
          8.2,
          7.2,
          8.7,
          8.4,
          8.5,
          6.2,
          8.9,
          9.6,
          9.1,
          6.3,
          6.7,
          7.7,
          5.1,
          6.2,
          6.1,
          9.3,
          8.5,
          7.7,
          7.3,
          5.9,
          7.1,
          6.1,
          8.4,
          6.2,
          5,
          4.9,
          5.1,
          5,
          9.2,
          8.9,
          4.2,
          7.3,
          8.9,
          9.7,
          9.5,
          4.5,
          8.2,
          5.7,
          6.3,
          9.4,
          7.7,
          5.5,
          4.1,
          7.6,
          7.7,
          8.4,
          8,
          9.5,
          9.2,
          7.7,
          9.4,
          9.8,
          4.8,
          5.3,
          9.2,
          9.6,
          4.5,
          7.8,
          4.5,
          5.2,
          6.4,
          6.2,
          6.7,
          4.2,
          8.5,
          9.2,
          9.8,
          4.9,
          4.4,
          9.1,
          8.2,
          6.3,
          8.5,
          6.4,
          4.7,
          4,
          6.3,
          9.9,
          5.8,
          8,
          7.9,
          5.9,
          9.3,
          5.9,
          9.9,
          7.7,
          7.6,
          6.4,
          4.4,
          4.1,
          4,
          4.8,
          7.3,
          6,
          6.5,
          7,
          7.1,
          4.9,
          6.4,
          8,
          7.5,
          6.7,
          9.5,
          7.6,
          6.6,
          6.9,
          9.6,
          5,
          6.3,
          7.6,
          8.3,
          7.2,
          6,
          6.6,
          4.5,
          6.1,
          7.1,
          5.1,
          7.4,
          6.6,
          9.3,
          4.4,
          8.1,
          8.8,
          5.6,
          8.6,
          5.8,
          8,
          4.1,
          8.6,
          7,
          7.4,
          6.2,
          4.9,
          4.5,
          8,
          5.6,
          9.9,
          7.6,
          4.7,
          9.8,
          7.9,
          7.7,
          4.5,
          8,
          5.7,
          6.3,
          8,
          7.8,
          4.1,
          8.8,
          4.1,
          9.3,
          4.9,
          6.6,
          5.5,
          8.1,
          5.1,
          8,
          8,
          4.2,
          8.5,
          9,
          8.6,
          6,
          5,
          6.5,
          5,
          5,
          9.2,
          4.1,
          8.7,
          4.5,
          6.6,
          7.7,
          4.3,
          4.1,
          5.4,
          5,
          5,
          8.9,
          8.6,
          4,
          4.2,
          9.2,
          10,
          8.8,
          4.2,
          8.2,
          5,
          7,
          4.3,
          7,
          6.6,
          4.9,
          6.2,
          4.5,
          8.6,
          6,
          9.5,
          7.5,
          7.6,
          9.5,
          6.8,
          7.2,
          8.1,
          8.6,
          8.8,
          7.5,
          4.2,
          6,
          7.9,
          6.6,
          6.2,
          4.2,
          7.3,
          8.6,
          6.8,
          5.8,
          4.1,
          6.8,
          6.3,
          5.1,
          7,
          5.2,
          6.6,
          6.5,
          9,
          6.8,
          7.6,
          9.5,
          5.1,
          9.8,
          7.5,
          7.4,
          4.2,
          5.9,
          5.7,
          7.3,
          8.9,
          4.7,
          8.7,
          7.6,
          6.8,
          7.8,
          8.4,
          7.4,
          5.8,
          7.2,
          9.5,
          9,
          9,
          8.5,
          5.1,
          6.5,
          7.4,
          8.5,
          4.3,
          4.5,
          6,
          5.9,
          4.4,
          6.6
         ],
         "y0": " ",
         "yaxis": "y"
        },
        {
         "alignmentgroup": "True",
         "boxpoints": "all",
         "hovertemplate": "Gender=Male<br>Branch=%{x}<br>Rating=%{y}<extra></extra>",
         "legendgroup": "Male",
         "marker": {
          "color": "#EF553B"
         },
         "name": "Male",
         "notched": false,
         "offsetgroup": "Male",
         "orientation": "v",
         "showlegend": true,
         "type": "box",
         "x": [
          "A",
          "A",
          "A",
          "C",
          "B",
          "A",
          "A",
          "A",
          "C",
          "B",
          "B",
          "A",
          "A",
          "B",
          "A",
          "B",
          "B",
          "B",
          "A",
          "A",
          "B",
          "C",
          "C",
          "B",
          "B",
          "C",
          "C",
          "B",
          "A",
          "A",
          "C",
          "C",
          "A",
          "B",
          "A",
          "A",
          "C",
          "C",
          "A",
          "C",
          "C",
          "C",
          "C",
          "A",
          "A",
          "B",
          "C",
          "A",
          "B",
          "A",
          "B",
          "C",
          "C",
          "A",
          "B",
          "A",
          "C",
          "A",
          "C",
          "A",
          "B",
          "B",
          "B",
          "C",
          "B",
          "C",
          "B",
          "C",
          "B",
          "A",
          "C",
          "C",
          "B",
          "A",
          "C",
          "A",
          "A",
          "B",
          "B",
          "B",
          "B",
          "A",
          "A",
          "C",
          "B",
          "B",
          "C",
          "A",
          "A",
          "A",
          "A",
          "B",
          "C",
          "B",
          "B",
          "A",
          "A",
          "A",
          "C",
          "C",
          "C",
          "A",
          "C",
          "B",
          "B",
          "A",
          "B",
          "A",
          "C",
          "C",
          "C",
          "B",
          "B",
          "A",
          "B",
          "B",
          "A",
          "B",
          "B",
          "B",
          "C",
          "A",
          "B",
          "C",
          "B",
          "A",
          "C",
          "A",
          "A",
          "A",
          "C",
          "A",
          "B",
          "A",
          "A",
          "A",
          "B",
          "B",
          "C",
          "A",
          "A",
          "B",
          "A",
          "A",
          "A",
          "C",
          "B",
          "C",
          "A",
          "B",
          "C",
          "A",
          "C",
          "A",
          "B",
          "C",
          "B",
          "C",
          "B",
          "C",
          "A",
          "A",
          "C",
          "B",
          "C",
          "A",
          "B",
          "C",
          "C",
          "C",
          "C",
          "A",
          "A",
          "B",
          "A",
          "C",
          "B",
          "A",
          "B",
          "A",
          "A",
          "A",
          "C",
          "A",
          "B",
          "A",
          "A",
          "A",
          "A",
          "B",
          "B",
          "B",
          "A",
          "C",
          "A",
          "A",
          "A",
          "C",
          "C",
          "C",
          "A",
          "B",
          "C",
          "B",
          "A",
          "B",
          "B",
          "C",
          "C",
          "A",
          "A",
          "B",
          "A",
          "A",
          "A",
          "B",
          "B",
          "C",
          "B",
          "A",
          "B",
          "B",
          "C",
          "B",
          "C",
          "C",
          "A",
          "C",
          "C",
          "C",
          "C",
          "C",
          "B",
          "A",
          "A",
          "B",
          "C",
          "C",
          "A",
          "B",
          "C",
          "A",
          "B",
          "A",
          "C",
          "B",
          "A",
          "C",
          "A",
          "B",
          "A",
          "C",
          "B",
          "B",
          "B",
          "C",
          "B",
          "A",
          "B",
          "A",
          "C",
          "B",
          "C",
          "A",
          "C",
          "C",
          "A",
          "B",
          "B",
          "A",
          "A",
          "A",
          "B",
          "C",
          "A",
          "A",
          "C",
          "C",
          "B",
          "A",
          "B",
          "C",
          "A",
          "B",
          "A",
          "B",
          "C",
          "A",
          "B",
          "B",
          "A",
          "B",
          "A",
          "B",
          "B",
          "C",
          "B",
          "C",
          "B",
          "A",
          "C",
          "A",
          "C",
          "B",
          "B",
          "A",
          "C",
          "C",
          "B",
          "A",
          "B",
          "B",
          "C",
          "A",
          "B",
          "C",
          "A",
          "B",
          "A",
          "B",
          "A",
          "A",
          "A",
          "A",
          "B",
          "B",
          "B",
          "A",
          "B",
          "B",
          "C",
          "A",
          "C",
          "B",
          "C",
          "B",
          "A",
          "B",
          "B",
          "A",
          "C",
          "B",
          "A",
          "B",
          "C",
          "B",
          "C",
          "A",
          "A",
          "A",
          "C",
          "C",
          "A",
          "B",
          "A",
          "C",
          "B",
          "B",
          "B",
          "C",
          "C",
          "A",
          "A",
          "C",
          "A",
          "A",
          "B",
          "B",
          "C",
          "B",
          "C",
          "A",
          "A",
          "B",
          "B",
          "C",
          "C",
          "B",
          "A",
          "C",
          "C",
          "A",
          "B",
          "C",
          "B",
          "A",
          "B",
          "A",
          "B",
          "C",
          "C",
          "B",
          "C",
          "B",
          "C",
          "A",
          "C",
          "C",
          "A",
          "A",
          "C",
          "A",
          "B",
          "B",
          "C",
          "B",
          "C",
          "B",
          "A",
          "A",
          "B",
          "B",
          "B",
          "C",
          "A",
          "C",
          "A",
          "B",
          "A",
          "A",
          "A",
          "B",
          "C",
          "A",
          "B",
          "A",
          "A",
          "A",
          "A",
          "C",
          "B",
          "B",
          "A",
          "C",
          "B",
          "C",
          "A",
          "A",
          "C",
          "A",
          "A",
          "C",
          "C",
          "B",
          "B",
          "A",
          "A",
          "A",
          "B",
          "B",
          "B",
          "C",
          "C",
          "A",
          "B",
          "A",
          "C",
          "A",
          "C",
          "B",
          "B",
          "B",
          "B",
          "C",
          "C",
          "A",
          "C",
          "A",
          "A",
          "C",
          "B",
          "C",
          "B",
          "B",
          "C",
          "B",
          "C",
          "A",
          "C",
          "B",
          "A",
          "B",
          "B",
          "A",
          "C",
          "B",
          "B",
          "C",
          "A",
          "C",
          "C",
          "B",
          "C",
          "B",
          "A",
          "B",
          "C",
          "A",
          "A"
         ],
         "x0": " ",
         "xaxis": "x",
         "y": [
          7.4,
          8.4,
          5.3,
          4.1,
          6.8,
          8.2,
          6.9,
          8.6,
          4.8,
          5.1,
          4.4,
          9.9,
          6,
          6.7,
          7.4,
          4.8,
          4.5,
          5.1,
          5.1,
          7,
          7.7,
          6.3,
          7.2,
          8.4,
          8.1,
          9.5,
          6.1,
          6.5,
          5.8,
          6.6,
          9.3,
          7,
          8.6,
          7.6,
          5.8,
          6.4,
          9.6,
          5.9,
          9.4,
          8.6,
          6.6,
          6.6,
          9.9,
          7.3,
          5.7,
          8.6,
          6.6,
          7.2,
          5.1,
          9.3,
          7.4,
          4.1,
          7.2,
          9.9,
          8,
          7.3,
          7.9,
          7.4,
          9.2,
          4.3,
          5.3,
          5.2,
          4.1,
          6.5,
          4.2,
          4.6,
          8.8,
          6.2,
          8.2,
          9.2,
          8.1,
          5.6,
          6.2,
          4.9,
          7.3,
          7.4,
          9,
          6.1,
          9.7,
          6,
          10,
          6,
          7,
          6.5,
          5.9,
          5.6,
          4.8,
          8.7,
          6.5,
          8.5,
          5.5,
          9.4,
          6.3,
          9.8,
          8.7,
          8.8,
          9.6,
          4.4,
          9.9,
          5.7,
          7.7,
          8,
          5.7,
          8,
          7,
          9.9,
          5.7,
          9.9,
          4.9,
          8.2,
          9.8,
          8.7,
          5.4,
          5.9,
          4.9,
          4.4,
          8.3,
          8.7,
          6.1,
          5.4,
          9.4,
          6.2,
          4,
          9.7,
          6.7,
          6.5,
          4.9,
          4.9,
          5.6,
          5.8,
          6,
          4.2,
          8.3,
          5.7,
          6.8,
          8.8,
          4.2,
          6.4,
          8.4,
          5.2,
          8.9,
          9,
          9.7,
          8.7,
          6.5,
          6.9,
          7.9,
          6.9,
          4.4,
          6.2,
          5.7,
          9.6,
          7.9,
          8.5,
          7.6,
          6.9,
          7,
          6,
          5.9,
          6.4,
          5.8,
          4.5,
          6.7,
          4.7,
          4.4,
          4.3,
          5.5,
          9.7,
          5.2,
          4.9,
          8.4,
          9.8,
          9.4,
          6.4,
          5.4,
          8.6,
          4,
          7.6,
          6.8,
          9.1,
          5.5,
          7.9,
          8.5,
          7.5,
          7.8,
          6.2,
          7.3,
          5.1,
          5.5,
          4.8,
          6.5,
          5.6,
          7.4,
          8,
          7.2,
          6,
          7.8,
          8.9,
          8.7,
          9.4,
          7.5,
          5.8,
          6,
          6.6,
          7.2,
          5.8,
          8,
          6.2,
          9.8,
          8,
          7.8,
          6.9,
          7.8,
          6.6,
          9.2,
          7.8,
          6.7,
          5,
          7,
          8.9,
          6.9,
          6.9,
          5.7,
          9.6,
          9,
          9.6,
          7.7,
          7,
          8.1,
          9.5,
          8.9,
          6.5,
          7.6,
          5.5,
          4.7,
          6.2,
          7.9,
          4.5,
          9.1,
          4.5,
          7.2,
          5.5,
          4.6,
          6.3,
          4.4,
          6.7,
          6.7,
          8.4,
          5,
          6,
          8.3,
          4.3,
          7.1,
          5.5,
          5.4,
          9,
          9.5,
          9.8,
          7,
          7.6,
          8.2,
          9.8,
          8.7,
          9.7,
          4.3,
          5,
          8,
          9,
          6.7,
          9.3,
          7,
          7.2,
          8.2,
          7.4,
          6.9,
          9.1,
          7.1,
          5.5,
          4.9,
          6,
          6.5,
          8.6,
          6.9,
          7.7,
          5.6,
          7.3,
          4.4,
          5,
          9,
          8.6,
          8.3,
          8.1,
          8.6,
          6.3,
          5.8,
          6.2,
          8.1,
          7.3,
          7,
          9.8,
          5.3,
          4.4,
          4.3,
          5.3,
          8.7,
          9.5,
          6.4,
          6.9,
          8.6,
          5.2,
          8.9,
          7.2,
          9,
          4.2,
          6.9,
          4.4,
          4,
          6.8,
          8.7,
          5,
          7.5,
          6.7,
          5.4,
          7,
          4.7,
          5,
          5,
          6,
          7.5,
          6,
          5.5,
          8.7,
          7.4,
          5.6,
          7.1,
          7.8,
          7.3,
          5.1,
          9.4,
          4.9,
          7.9,
          7.7,
          4.4,
          5.5,
          9.3,
          4.6,
          8.1,
          9.4,
          6.6,
          4.3,
          6.1,
          5.2,
          8.8,
          4.3,
          7.8,
          8,
          4.3,
          9.2,
          8.9,
          4.8,
          9.1,
          6.1,
          9.1,
          8.5,
          8.1,
          7.2,
          7.9,
          7.4,
          5.9,
          8.9,
          6.8,
          4.8,
          9.5,
          8.9,
          6.4,
          6,
          9,
          6,
          9.8,
          8.5,
          8.8,
          9.5,
          5.2,
          9,
          8.4,
          5.6,
          4.2,
          6.6,
          6.3,
          6,
          4.2,
          9.6,
          6.1,
          5.6,
          8.3,
          9,
          5.5,
          5.6,
          9.7,
          4,
          9.2,
          9.3,
          4.3,
          9.8,
          9.4,
          7.9,
          6.9,
          6.2,
          6,
          9.6,
          8.4,
          6,
          6.7,
          5.9,
          8.5,
          5.2,
          7.6,
          9.5,
          9.2,
          5.8,
          5.6,
          5.1,
          5.8,
          7.9,
          6,
          5.9,
          5.9,
          9.7,
          9.2,
          5,
          6.3,
          5.1,
          7.8,
          7.3,
          6.5,
          4.3,
          9.3,
          7.1,
          9.6,
          9.9,
          5.9,
          6.3,
          4,
          6.1,
          9.9,
          5,
          6.7,
          5.6,
          9.4,
          8.9,
          4.2,
          5,
          5.3,
          4.6,
          5.1,
          8.1,
          8.8,
          7.6,
          9.3,
          8.7,
          5.2,
          7.2,
          7.1,
          7.6,
          5.1,
          6.9,
          6.6,
          5.3,
          4.2,
          5.3,
          4.7,
          7.9,
          9.3,
          5.7,
          5.4,
          7.1,
          9.8,
          9.8,
          6.7,
          6.4,
          9.3,
          6.7,
          5.5,
          5.4,
          8.2,
          7,
          4.9,
          9.8,
          8.4,
          6.1,
          6,
          6.2,
          4.3,
          8.4,
          8.8,
          6.6,
          6.2,
          7.7,
          4.1
         ],
         "y0": " ",
         "yaxis": "y"
        }
       ],
       "layout": {
        "boxmode": "group",
        "legend": {
         "title": {
          "text": "Gender"
         },
         "tracegroupgap": 0
        },
        "template": {
         "data": {
          "bar": [
           {
            "error_x": {
             "color": "#2a3f5f"
            },
            "error_y": {
             "color": "#2a3f5f"
            },
            "marker": {
             "line": {
              "color": "#E5ECF6",
              "width": 0.5
             },
             "pattern": {
              "fillmode": "overlay",
              "size": 10,
              "solidity": 0.2
             }
            },
            "type": "bar"
           }
          ],
          "barpolar": [
           {
            "marker": {
             "line": {
              "color": "#E5ECF6",
              "width": 0.5
             },
             "pattern": {
              "fillmode": "overlay",
              "size": 10,
              "solidity": 0.2
             }
            },
            "type": "barpolar"
           }
          ],
          "carpet": [
           {
            "aaxis": {
             "endlinecolor": "#2a3f5f",
             "gridcolor": "white",
             "linecolor": "white",
             "minorgridcolor": "white",
             "startlinecolor": "#2a3f5f"
            },
            "baxis": {
             "endlinecolor": "#2a3f5f",
             "gridcolor": "white",
             "linecolor": "white",
             "minorgridcolor": "white",
             "startlinecolor": "#2a3f5f"
            },
            "type": "carpet"
           }
          ],
          "choropleth": [
           {
            "colorbar": {
             "outlinewidth": 0,
             "ticks": ""
            },
            "type": "choropleth"
           }
          ],
          "contour": [
           {
            "colorbar": {
             "outlinewidth": 0,
             "ticks": ""
            },
            "colorscale": [
             [
              0,
              "#0d0887"
             ],
             [
              0.1111111111111111,
              "#46039f"
             ],
             [
              0.2222222222222222,
              "#7201a8"
             ],
             [
              0.3333333333333333,
              "#9c179e"
             ],
             [
              0.4444444444444444,
              "#bd3786"
             ],
             [
              0.5555555555555556,
              "#d8576b"
             ],
             [
              0.6666666666666666,
              "#ed7953"
             ],
             [
              0.7777777777777778,
              "#fb9f3a"
             ],
             [
              0.8888888888888888,
              "#fdca26"
             ],
             [
              1,
              "#f0f921"
             ]
            ],
            "type": "contour"
           }
          ],
          "contourcarpet": [
           {
            "colorbar": {
             "outlinewidth": 0,
             "ticks": ""
            },
            "type": "contourcarpet"
           }
          ],
          "heatmap": [
           {
            "colorbar": {
             "outlinewidth": 0,
             "ticks": ""
            },
            "colorscale": [
             [
              0,
              "#0d0887"
             ],
             [
              0.1111111111111111,
              "#46039f"
             ],
             [
              0.2222222222222222,
              "#7201a8"
             ],
             [
              0.3333333333333333,
              "#9c179e"
             ],
             [
              0.4444444444444444,
              "#bd3786"
             ],
             [
              0.5555555555555556,
              "#d8576b"
             ],
             [
              0.6666666666666666,
              "#ed7953"
             ],
             [
              0.7777777777777778,
              "#fb9f3a"
             ],
             [
              0.8888888888888888,
              "#fdca26"
             ],
             [
              1,
              "#f0f921"
             ]
            ],
            "type": "heatmap"
           }
          ],
          "heatmapgl": [
           {
            "colorbar": {
             "outlinewidth": 0,
             "ticks": ""
            },
            "colorscale": [
             [
              0,
              "#0d0887"
             ],
             [
              0.1111111111111111,
              "#46039f"
             ],
             [
              0.2222222222222222,
              "#7201a8"
             ],
             [
              0.3333333333333333,
              "#9c179e"
             ],
             [
              0.4444444444444444,
              "#bd3786"
             ],
             [
              0.5555555555555556,
              "#d8576b"
             ],
             [
              0.6666666666666666,
              "#ed7953"
             ],
             [
              0.7777777777777778,
              "#fb9f3a"
             ],
             [
              0.8888888888888888,
              "#fdca26"
             ],
             [
              1,
              "#f0f921"
             ]
            ],
            "type": "heatmapgl"
           }
          ],
          "histogram": [
           {
            "marker": {
             "pattern": {
              "fillmode": "overlay",
              "size": 10,
              "solidity": 0.2
             }
            },
            "type": "histogram"
           }
          ],
          "histogram2d": [
           {
            "colorbar": {
             "outlinewidth": 0,
             "ticks": ""
            },
            "colorscale": [
             [
              0,
              "#0d0887"
             ],
             [
              0.1111111111111111,
              "#46039f"
             ],
             [
              0.2222222222222222,
              "#7201a8"
             ],
             [
              0.3333333333333333,
              "#9c179e"
             ],
             [
              0.4444444444444444,
              "#bd3786"
             ],
             [
              0.5555555555555556,
              "#d8576b"
             ],
             [
              0.6666666666666666,
              "#ed7953"
             ],
             [
              0.7777777777777778,
              "#fb9f3a"
             ],
             [
              0.8888888888888888,
              "#fdca26"
             ],
             [
              1,
              "#f0f921"
             ]
            ],
            "type": "histogram2d"
           }
          ],
          "histogram2dcontour": [
           {
            "colorbar": {
             "outlinewidth": 0,
             "ticks": ""
            },
            "colorscale": [
             [
              0,
              "#0d0887"
             ],
             [
              0.1111111111111111,
              "#46039f"
             ],
             [
              0.2222222222222222,
              "#7201a8"
             ],
             [
              0.3333333333333333,
              "#9c179e"
             ],
             [
              0.4444444444444444,
              "#bd3786"
             ],
             [
              0.5555555555555556,
              "#d8576b"
             ],
             [
              0.6666666666666666,
              "#ed7953"
             ],
             [
              0.7777777777777778,
              "#fb9f3a"
             ],
             [
              0.8888888888888888,
              "#fdca26"
             ],
             [
              1,
              "#f0f921"
             ]
            ],
            "type": "histogram2dcontour"
           }
          ],
          "mesh3d": [
           {
            "colorbar": {
             "outlinewidth": 0,
             "ticks": ""
            },
            "type": "mesh3d"
           }
          ],
          "parcoords": [
           {
            "line": {
             "colorbar": {
              "outlinewidth": 0,
              "ticks": ""
             }
            },
            "type": "parcoords"
           }
          ],
          "pie": [
           {
            "automargin": true,
            "type": "pie"
           }
          ],
          "scatter": [
           {
            "marker": {
             "colorbar": {
              "outlinewidth": 0,
              "ticks": ""
             }
            },
            "type": "scatter"
           }
          ],
          "scatter3d": [
           {
            "line": {
             "colorbar": {
              "outlinewidth": 0,
              "ticks": ""
             }
            },
            "marker": {
             "colorbar": {
              "outlinewidth": 0,
              "ticks": ""
             }
            },
            "type": "scatter3d"
           }
          ],
          "scattercarpet": [
           {
            "marker": {
             "colorbar": {
              "outlinewidth": 0,
              "ticks": ""
             }
            },
            "type": "scattercarpet"
           }
          ],
          "scattergeo": [
           {
            "marker": {
             "colorbar": {
              "outlinewidth": 0,
              "ticks": ""
             }
            },
            "type": "scattergeo"
           }
          ],
          "scattergl": [
           {
            "marker": {
             "colorbar": {
              "outlinewidth": 0,
              "ticks": ""
             }
            },
            "type": "scattergl"
           }
          ],
          "scattermapbox": [
           {
            "marker": {
             "colorbar": {
              "outlinewidth": 0,
              "ticks": ""
             }
            },
            "type": "scattermapbox"
           }
          ],
          "scatterpolar": [
           {
            "marker": {
             "colorbar": {
              "outlinewidth": 0,
              "ticks": ""
             }
            },
            "type": "scatterpolar"
           }
          ],
          "scatterpolargl": [
           {
            "marker": {
             "colorbar": {
              "outlinewidth": 0,
              "ticks": ""
             }
            },
            "type": "scatterpolargl"
           }
          ],
          "scatterternary": [
           {
            "marker": {
             "colorbar": {
              "outlinewidth": 0,
              "ticks": ""
             }
            },
            "type": "scatterternary"
           }
          ],
          "surface": [
           {
            "colorbar": {
             "outlinewidth": 0,
             "ticks": ""
            },
            "colorscale": [
             [
              0,
              "#0d0887"
             ],
             [
              0.1111111111111111,
              "#46039f"
             ],
             [
              0.2222222222222222,
              "#7201a8"
             ],
             [
              0.3333333333333333,
              "#9c179e"
             ],
             [
              0.4444444444444444,
              "#bd3786"
             ],
             [
              0.5555555555555556,
              "#d8576b"
             ],
             [
              0.6666666666666666,
              "#ed7953"
             ],
             [
              0.7777777777777778,
              "#fb9f3a"
             ],
             [
              0.8888888888888888,
              "#fdca26"
             ],
             [
              1,
              "#f0f921"
             ]
            ],
            "type": "surface"
           }
          ],
          "table": [
           {
            "cells": {
             "fill": {
              "color": "#EBF0F8"
             },
             "line": {
              "color": "white"
             }
            },
            "header": {
             "fill": {
              "color": "#C8D4E3"
             },
             "line": {
              "color": "white"
             }
            },
            "type": "table"
           }
          ]
         },
         "layout": {
          "annotationdefaults": {
           "arrowcolor": "#2a3f5f",
           "arrowhead": 0,
           "arrowwidth": 1
          },
          "autotypenumbers": "strict",
          "coloraxis": {
           "colorbar": {
            "outlinewidth": 0,
            "ticks": ""
           }
          },
          "colorscale": {
           "diverging": [
            [
             0,
             "#8e0152"
            ],
            [
             0.1,
             "#c51b7d"
            ],
            [
             0.2,
             "#de77ae"
            ],
            [
             0.3,
             "#f1b6da"
            ],
            [
             0.4,
             "#fde0ef"
            ],
            [
             0.5,
             "#f7f7f7"
            ],
            [
             0.6,
             "#e6f5d0"
            ],
            [
             0.7,
             "#b8e186"
            ],
            [
             0.8,
             "#7fbc41"
            ],
            [
             0.9,
             "#4d9221"
            ],
            [
             1,
             "#276419"
            ]
           ],
           "sequential": [
            [
             0,
             "#0d0887"
            ],
            [
             0.1111111111111111,
             "#46039f"
            ],
            [
             0.2222222222222222,
             "#7201a8"
            ],
            [
             0.3333333333333333,
             "#9c179e"
            ],
            [
             0.4444444444444444,
             "#bd3786"
            ],
            [
             0.5555555555555556,
             "#d8576b"
            ],
            [
             0.6666666666666666,
             "#ed7953"
            ],
            [
             0.7777777777777778,
             "#fb9f3a"
            ],
            [
             0.8888888888888888,
             "#fdca26"
            ],
            [
             1,
             "#f0f921"
            ]
           ],
           "sequentialminus": [
            [
             0,
             "#0d0887"
            ],
            [
             0.1111111111111111,
             "#46039f"
            ],
            [
             0.2222222222222222,
             "#7201a8"
            ],
            [
             0.3333333333333333,
             "#9c179e"
            ],
            [
             0.4444444444444444,
             "#bd3786"
            ],
            [
             0.5555555555555556,
             "#d8576b"
            ],
            [
             0.6666666666666666,
             "#ed7953"
            ],
            [
             0.7777777777777778,
             "#fb9f3a"
            ],
            [
             0.8888888888888888,
             "#fdca26"
            ],
            [
             1,
             "#f0f921"
            ]
           ]
          },
          "colorway": [
           "#636efa",
           "#EF553B",
           "#00cc96",
           "#ab63fa",
           "#FFA15A",
           "#19d3f3",
           "#FF6692",
           "#B6E880",
           "#FF97FF",
           "#FECB52"
          ],
          "font": {
           "color": "#2a3f5f"
          },
          "geo": {
           "bgcolor": "white",
           "lakecolor": "white",
           "landcolor": "#E5ECF6",
           "showlakes": true,
           "showland": true,
           "subunitcolor": "white"
          },
          "hoverlabel": {
           "align": "left"
          },
          "hovermode": "closest",
          "mapbox": {
           "style": "light"
          },
          "paper_bgcolor": "white",
          "plot_bgcolor": "#E5ECF6",
          "polar": {
           "angularaxis": {
            "gridcolor": "white",
            "linecolor": "white",
            "ticks": ""
           },
           "bgcolor": "#E5ECF6",
           "radialaxis": {
            "gridcolor": "white",
            "linecolor": "white",
            "ticks": ""
           }
          },
          "scene": {
           "xaxis": {
            "backgroundcolor": "#E5ECF6",
            "gridcolor": "white",
            "gridwidth": 2,
            "linecolor": "white",
            "showbackground": true,
            "ticks": "",
            "zerolinecolor": "white"
           },
           "yaxis": {
            "backgroundcolor": "#E5ECF6",
            "gridcolor": "white",
            "gridwidth": 2,
            "linecolor": "white",
            "showbackground": true,
            "ticks": "",
            "zerolinecolor": "white"
           },
           "zaxis": {
            "backgroundcolor": "#E5ECF6",
            "gridcolor": "white",
            "gridwidth": 2,
            "linecolor": "white",
            "showbackground": true,
            "ticks": "",
            "zerolinecolor": "white"
           }
          },
          "shapedefaults": {
           "line": {
            "color": "#2a3f5f"
           }
          },
          "ternary": {
           "aaxis": {
            "gridcolor": "white",
            "linecolor": "white",
            "ticks": ""
           },
           "baxis": {
            "gridcolor": "white",
            "linecolor": "white",
            "ticks": ""
           },
           "bgcolor": "#E5ECF6",
           "caxis": {
            "gridcolor": "white",
            "linecolor": "white",
            "ticks": ""
           }
          },
          "title": {
           "x": 0.05
          },
          "xaxis": {
           "automargin": true,
           "gridcolor": "white",
           "linecolor": "white",
           "ticks": "",
           "title": {
            "standoff": 15
           },
           "zerolinecolor": "white",
           "zerolinewidth": 2
          },
          "yaxis": {
           "automargin": true,
           "gridcolor": "white",
           "linecolor": "white",
           "ticks": "",
           "title": {
            "standoff": 15
           },
           "zerolinecolor": "white",
           "zerolinewidth": 2
          }
         }
        },
        "title": {
         "text": "Customer stratification rating"
        },
        "xaxis": {
         "anchor": "y",
         "domain": [
          0,
          1
         ],
         "title": {
          "text": "Branch"
         }
        },
        "yaxis": {
         "anchor": "x",
         "domain": [
          0,
          1
         ],
         "title": {
          "text": "Rating"
         }
        }
       }
      }
     },
     "metadata": {},
     "output_type": "display_data"
    }
   ],
   "source": [
    "px.box(df, x=\"Branch\", y=\"Rating\", color=\"Gender\" , points = \"all\",\n",
    "                title=\"Customer stratification rating\")"
   ]
  },
  {
   "cell_type": "code",
   "execution_count": 342,
   "id": "9211c708",
   "metadata": {},
   "outputs": [
    {
     "data": {
      "application/vnd.plotly.v1+json": {
       "config": {
        "plotlyServerURL": "https://plot.ly"
       },
       "data": [
        {
         "hovertemplate": "Product line=Electronic accessories<br>Date=%{x}<br>value=%{y}<extra></extra>",
         "legendgroup": "Electronic accessories",
         "line": {
          "color": "#636efa",
          "dash": "solid",
          "shape": "spline"
         },
         "marker": {
          "symbol": "circle"
         },
         "mode": "lines",
         "name": "Electronic accessories",
         "orientation": "v",
         "showlegend": true,
         "type": "scatter",
         "x": [
          "2019-01-06T00:00:00",
          "2019-01-13T00:00:00",
          "2019-01-20T00:00:00",
          "2019-01-27T00:00:00",
          "2019-02-03T00:00:00",
          "2019-02-10T00:00:00",
          "2019-02-17T00:00:00",
          "2019-02-24T00:00:00",
          "2019-03-03T00:00:00",
          "2019-03-10T00:00:00",
          "2019-03-17T00:00:00",
          "2019-03-24T00:00:00",
          "2019-03-31T00:00:00"
         ],
         "xaxis": "x",
         "y": [
          23.151166666666665,
          28.7905,
          22.317,
          27.754357142857142,
          33.715357142857144,
          34.682,
          25.716714285714286,
          28.0825,
          47.773785714285715,
          17.797714285714285,
          21.678,
          33.71378571428571,
          32.40708333333333
         ],
         "yaxis": "y"
        },
        {
         "hovertemplate": "Product line=Fashion accessories<br>Date=%{x}<br>value=%{y}<extra></extra>",
         "legendgroup": "Fashion accessories",
         "line": {
          "color": "#EF553B",
          "dash": "solid",
          "shape": "spline"
         },
         "marker": {
          "symbol": "circle"
         },
         "mode": "lines",
         "name": "Fashion accessories",
         "orientation": "v",
         "showlegend": true,
         "type": "scatter",
         "x": [
          "2019-01-06T00:00:00",
          "2019-01-13T00:00:00",
          "2019-01-20T00:00:00",
          "2019-01-27T00:00:00",
          "2019-02-03T00:00:00",
          "2019-02-10T00:00:00",
          "2019-02-17T00:00:00",
          "2019-02-24T00:00:00",
          "2019-03-03T00:00:00",
          "2019-03-10T00:00:00",
          "2019-03-17T00:00:00",
          "2019-03-24T00:00:00",
          "2019-03-31T00:00:00"
         ],
         "xaxis": "x",
         "y": [
          21.288833333333333,
          37.963,
          24.9755,
          27.474071428571428,
          34.34985714285714,
          42.970928571428566,
          37.895071428571434,
          17.651714285714284,
          33.35707142857143,
          28.663928571428574,
          20.11207142857143,
          30.205071428571426,
          18.155666666666665
         ],
         "yaxis": "y"
        },
        {
         "hovertemplate": "Product line=Food and beverages<br>Date=%{x}<br>value=%{y}<extra></extra>",
         "legendgroup": "Food and beverages",
         "line": {
          "color": "#00cc96",
          "dash": "solid",
          "shape": "spline"
         },
         "marker": {
          "symbol": "circle"
         },
         "mode": "lines",
         "name": "Food and beverages",
         "orientation": "v",
         "showlegend": true,
         "type": "scatter",
         "x": [
          "2019-01-06T00:00:00",
          "2019-01-13T00:00:00",
          "2019-01-20T00:00:00",
          "2019-01-27T00:00:00",
          "2019-02-03T00:00:00",
          "2019-02-10T00:00:00",
          "2019-02-17T00:00:00",
          "2019-02-24T00:00:00",
          "2019-03-03T00:00:00",
          "2019-03-10T00:00:00",
          "2019-03-17T00:00:00",
          "2019-03-24T00:00:00",
          "2019-03-31T00:00:00"
         ],
         "xaxis": "x",
         "y": [
          20.299333333333333,
          30.84742857142857,
          36.92342857142857,
          33.28142857142857,
          40.25157142857143,
          23.411214285714287,
          38.36892857142857,
          26.298,
          33.317,
          33.63021428571429,
          28.67092857142857,
          15.578714285714286,
          27.95266666666667
         ],
         "yaxis": "y"
        },
        {
         "hovertemplate": "Product line=Health and beauty<br>Date=%{x}<br>value=%{y}<extra></extra>",
         "legendgroup": "Health and beauty",
         "line": {
          "color": "#ab63fa",
          "dash": "solid",
          "shape": "spline"
         },
         "marker": {
          "symbol": "circle"
         },
         "mode": "lines",
         "name": "Health and beauty",
         "orientation": "v",
         "showlegend": true,
         "type": "scatter",
         "x": [
          "2019-01-06T00:00:00",
          "2019-01-13T00:00:00",
          "2019-01-20T00:00:00",
          "2019-01-27T00:00:00",
          "2019-02-03T00:00:00",
          "2019-02-10T00:00:00",
          "2019-02-17T00:00:00",
          "2019-02-24T00:00:00",
          "2019-03-03T00:00:00",
          "2019-03-10T00:00:00",
          "2019-03-17T00:00:00",
          "2019-03-24T00:00:00",
          "2019-03-31T00:00:00"
         ],
         "xaxis": "x",
         "y": [
          29.528499999999998,
          4.075785714285714,
          18.860142857142854,
          45.6885,
          19.865928571428572,
          34.742714285714285,
          25.011,
          13.938999999999998,
          34.075857142857146,
          38.97942857142857,
          25.549714285714284,
          9.5055,
          45.555499999999995
         ],
         "yaxis": "y"
        },
        {
         "hovertemplate": "Product line=Home and lifestyle<br>Date=%{x}<br>value=%{y}<extra></extra>",
         "legendgroup": "Home and lifestyle",
         "line": {
          "color": "#FFA15A",
          "dash": "solid",
          "shape": "spline"
         },
         "marker": {
          "symbol": "circle"
         },
         "mode": "lines",
         "name": "Home and lifestyle",
         "orientation": "v",
         "showlegend": true,
         "type": "scatter",
         "x": [
          "2019-01-06T00:00:00",
          "2019-01-13T00:00:00",
          "2019-01-20T00:00:00",
          "2019-01-27T00:00:00",
          "2019-02-03T00:00:00",
          "2019-02-10T00:00:00",
          "2019-02-17T00:00:00",
          "2019-02-24T00:00:00",
          "2019-03-03T00:00:00",
          "2019-03-10T00:00:00",
          "2019-03-17T00:00:00",
          "2019-03-24T00:00:00",
          "2019-03-31T00:00:00"
         ],
         "xaxis": "x",
         "y": [
          26.974666666666664,
          26.479357142857143,
          51.526,
          32.6385,
          26.95678571428571,
          26.790428571428574,
          20.48185714285714,
          13.08357142857143,
          29.751714285714286,
          39.05228571428571,
          24.93257142857143,
          47.142857142857146,
          5.1922500000000005
         ],
         "yaxis": "y"
        },
        {
         "hovertemplate": "Product line=Sports and travel<br>Date=%{x}<br>value=%{y}<extra></extra>",
         "legendgroup": "Sports and travel",
         "line": {
          "color": "#19d3f3",
          "dash": "solid",
          "shape": "spline"
         },
         "marker": {
          "symbol": "circle"
         },
         "mode": "lines",
         "name": "Sports and travel",
         "orientation": "v",
         "showlegend": true,
         "type": "scatter",
         "x": [
          "2019-01-06T00:00:00",
          "2019-01-13T00:00:00",
          "2019-01-20T00:00:00",
          "2019-01-27T00:00:00",
          "2019-02-03T00:00:00",
          "2019-02-10T00:00:00",
          "2019-02-17T00:00:00",
          "2019-02-24T00:00:00",
          "2019-03-03T00:00:00",
          "2019-03-10T00:00:00",
          "2019-03-17T00:00:00",
          "2019-03-24T00:00:00",
          "2019-03-31T00:00:00"
         ],
         "xaxis": "x",
         "y": [
          17.990750000000002,
          38.24664285714285,
          40.59085714285714,
          32.39364285714286,
          37.78871428571428,
          21.76892857142857,
          26.428428571428572,
          18.827285714285715,
          20.498142857142856,
          35.20185714285714,
          42.2555,
          34.7425,
          12.625750000000002
         ],
         "yaxis": "y"
        },
        {
         "hovertemplate": "Product line=Total_gross_income<br>Date=%{x}<br>value=%{y}<extra></extra>",
         "legendgroup": "Total_gross_income",
         "line": {
          "color": "#FF6692",
          "dash": "solid",
          "shape": "spline"
         },
         "marker": {
          "symbol": "circle"
         },
         "mode": "lines",
         "name": "Total_gross_income",
         "orientation": "v",
         "showlegend": true,
         "type": "scatter",
         "x": [
          "2019-01-06T00:00:00",
          "2019-01-13T00:00:00",
          "2019-01-20T00:00:00",
          "2019-01-27T00:00:00",
          "2019-02-03T00:00:00",
          "2019-02-10T00:00:00",
          "2019-02-17T00:00:00",
          "2019-02-24T00:00:00",
          "2019-03-03T00:00:00",
          "2019-03-10T00:00:00",
          "2019-03-17T00:00:00",
          "2019-03-24T00:00:00",
          "2019-03-31T00:00:00"
         ],
         "xaxis": "x",
         "y": [
          139.23325,
          166.40271428571427,
          195.19292857142858,
          199.23050000000003,
          192.9282142857143,
          184.36621428571428,
          173.90200000000002,
          117.88207142857141,
          198.77357142857142,
          193.32542857142857,
          163.19878571428575,
          170.8884285714286,
          141.88891666666666
         ],
         "yaxis": "y"
        }
       ],
       "layout": {
        "legend": {
         "title": {
          "text": "Product line"
         },
         "tracegroupgap": 0
        },
        "template": {
         "data": {
          "bar": [
           {
            "error_x": {
             "color": "#2a3f5f"
            },
            "error_y": {
             "color": "#2a3f5f"
            },
            "marker": {
             "line": {
              "color": "#E5ECF6",
              "width": 0.5
             },
             "pattern": {
              "fillmode": "overlay",
              "size": 10,
              "solidity": 0.2
             }
            },
            "type": "bar"
           }
          ],
          "barpolar": [
           {
            "marker": {
             "line": {
              "color": "#E5ECF6",
              "width": 0.5
             },
             "pattern": {
              "fillmode": "overlay",
              "size": 10,
              "solidity": 0.2
             }
            },
            "type": "barpolar"
           }
          ],
          "carpet": [
           {
            "aaxis": {
             "endlinecolor": "#2a3f5f",
             "gridcolor": "white",
             "linecolor": "white",
             "minorgridcolor": "white",
             "startlinecolor": "#2a3f5f"
            },
            "baxis": {
             "endlinecolor": "#2a3f5f",
             "gridcolor": "white",
             "linecolor": "white",
             "minorgridcolor": "white",
             "startlinecolor": "#2a3f5f"
            },
            "type": "carpet"
           }
          ],
          "choropleth": [
           {
            "colorbar": {
             "outlinewidth": 0,
             "ticks": ""
            },
            "type": "choropleth"
           }
          ],
          "contour": [
           {
            "colorbar": {
             "outlinewidth": 0,
             "ticks": ""
            },
            "colorscale": [
             [
              0,
              "#0d0887"
             ],
             [
              0.1111111111111111,
              "#46039f"
             ],
             [
              0.2222222222222222,
              "#7201a8"
             ],
             [
              0.3333333333333333,
              "#9c179e"
             ],
             [
              0.4444444444444444,
              "#bd3786"
             ],
             [
              0.5555555555555556,
              "#d8576b"
             ],
             [
              0.6666666666666666,
              "#ed7953"
             ],
             [
              0.7777777777777778,
              "#fb9f3a"
             ],
             [
              0.8888888888888888,
              "#fdca26"
             ],
             [
              1,
              "#f0f921"
             ]
            ],
            "type": "contour"
           }
          ],
          "contourcarpet": [
           {
            "colorbar": {
             "outlinewidth": 0,
             "ticks": ""
            },
            "type": "contourcarpet"
           }
          ],
          "heatmap": [
           {
            "colorbar": {
             "outlinewidth": 0,
             "ticks": ""
            },
            "colorscale": [
             [
              0,
              "#0d0887"
             ],
             [
              0.1111111111111111,
              "#46039f"
             ],
             [
              0.2222222222222222,
              "#7201a8"
             ],
             [
              0.3333333333333333,
              "#9c179e"
             ],
             [
              0.4444444444444444,
              "#bd3786"
             ],
             [
              0.5555555555555556,
              "#d8576b"
             ],
             [
              0.6666666666666666,
              "#ed7953"
             ],
             [
              0.7777777777777778,
              "#fb9f3a"
             ],
             [
              0.8888888888888888,
              "#fdca26"
             ],
             [
              1,
              "#f0f921"
             ]
            ],
            "type": "heatmap"
           }
          ],
          "heatmapgl": [
           {
            "colorbar": {
             "outlinewidth": 0,
             "ticks": ""
            },
            "colorscale": [
             [
              0,
              "#0d0887"
             ],
             [
              0.1111111111111111,
              "#46039f"
             ],
             [
              0.2222222222222222,
              "#7201a8"
             ],
             [
              0.3333333333333333,
              "#9c179e"
             ],
             [
              0.4444444444444444,
              "#bd3786"
             ],
             [
              0.5555555555555556,
              "#d8576b"
             ],
             [
              0.6666666666666666,
              "#ed7953"
             ],
             [
              0.7777777777777778,
              "#fb9f3a"
             ],
             [
              0.8888888888888888,
              "#fdca26"
             ],
             [
              1,
              "#f0f921"
             ]
            ],
            "type": "heatmapgl"
           }
          ],
          "histogram": [
           {
            "marker": {
             "pattern": {
              "fillmode": "overlay",
              "size": 10,
              "solidity": 0.2
             }
            },
            "type": "histogram"
           }
          ],
          "histogram2d": [
           {
            "colorbar": {
             "outlinewidth": 0,
             "ticks": ""
            },
            "colorscale": [
             [
              0,
              "#0d0887"
             ],
             [
              0.1111111111111111,
              "#46039f"
             ],
             [
              0.2222222222222222,
              "#7201a8"
             ],
             [
              0.3333333333333333,
              "#9c179e"
             ],
             [
              0.4444444444444444,
              "#bd3786"
             ],
             [
              0.5555555555555556,
              "#d8576b"
             ],
             [
              0.6666666666666666,
              "#ed7953"
             ],
             [
              0.7777777777777778,
              "#fb9f3a"
             ],
             [
              0.8888888888888888,
              "#fdca26"
             ],
             [
              1,
              "#f0f921"
             ]
            ],
            "type": "histogram2d"
           }
          ],
          "histogram2dcontour": [
           {
            "colorbar": {
             "outlinewidth": 0,
             "ticks": ""
            },
            "colorscale": [
             [
              0,
              "#0d0887"
             ],
             [
              0.1111111111111111,
              "#46039f"
             ],
             [
              0.2222222222222222,
              "#7201a8"
             ],
             [
              0.3333333333333333,
              "#9c179e"
             ],
             [
              0.4444444444444444,
              "#bd3786"
             ],
             [
              0.5555555555555556,
              "#d8576b"
             ],
             [
              0.6666666666666666,
              "#ed7953"
             ],
             [
              0.7777777777777778,
              "#fb9f3a"
             ],
             [
              0.8888888888888888,
              "#fdca26"
             ],
             [
              1,
              "#f0f921"
             ]
            ],
            "type": "histogram2dcontour"
           }
          ],
          "mesh3d": [
           {
            "colorbar": {
             "outlinewidth": 0,
             "ticks": ""
            },
            "type": "mesh3d"
           }
          ],
          "parcoords": [
           {
            "line": {
             "colorbar": {
              "outlinewidth": 0,
              "ticks": ""
             }
            },
            "type": "parcoords"
           }
          ],
          "pie": [
           {
            "automargin": true,
            "type": "pie"
           }
          ],
          "scatter": [
           {
            "marker": {
             "colorbar": {
              "outlinewidth": 0,
              "ticks": ""
             }
            },
            "type": "scatter"
           }
          ],
          "scatter3d": [
           {
            "line": {
             "colorbar": {
              "outlinewidth": 0,
              "ticks": ""
             }
            },
            "marker": {
             "colorbar": {
              "outlinewidth": 0,
              "ticks": ""
             }
            },
            "type": "scatter3d"
           }
          ],
          "scattercarpet": [
           {
            "marker": {
             "colorbar": {
              "outlinewidth": 0,
              "ticks": ""
             }
            },
            "type": "scattercarpet"
           }
          ],
          "scattergeo": [
           {
            "marker": {
             "colorbar": {
              "outlinewidth": 0,
              "ticks": ""
             }
            },
            "type": "scattergeo"
           }
          ],
          "scattergl": [
           {
            "marker": {
             "colorbar": {
              "outlinewidth": 0,
              "ticks": ""
             }
            },
            "type": "scattergl"
           }
          ],
          "scattermapbox": [
           {
            "marker": {
             "colorbar": {
              "outlinewidth": 0,
              "ticks": ""
             }
            },
            "type": "scattermapbox"
           }
          ],
          "scatterpolar": [
           {
            "marker": {
             "colorbar": {
              "outlinewidth": 0,
              "ticks": ""
             }
            },
            "type": "scatterpolar"
           }
          ],
          "scatterpolargl": [
           {
            "marker": {
             "colorbar": {
              "outlinewidth": 0,
              "ticks": ""
             }
            },
            "type": "scatterpolargl"
           }
          ],
          "scatterternary": [
           {
            "marker": {
             "colorbar": {
              "outlinewidth": 0,
              "ticks": ""
             }
            },
            "type": "scatterternary"
           }
          ],
          "surface": [
           {
            "colorbar": {
             "outlinewidth": 0,
             "ticks": ""
            },
            "colorscale": [
             [
              0,
              "#0d0887"
             ],
             [
              0.1111111111111111,
              "#46039f"
             ],
             [
              0.2222222222222222,
              "#7201a8"
             ],
             [
              0.3333333333333333,
              "#9c179e"
             ],
             [
              0.4444444444444444,
              "#bd3786"
             ],
             [
              0.5555555555555556,
              "#d8576b"
             ],
             [
              0.6666666666666666,
              "#ed7953"
             ],
             [
              0.7777777777777778,
              "#fb9f3a"
             ],
             [
              0.8888888888888888,
              "#fdca26"
             ],
             [
              1,
              "#f0f921"
             ]
            ],
            "type": "surface"
           }
          ],
          "table": [
           {
            "cells": {
             "fill": {
              "color": "#EBF0F8"
             },
             "line": {
              "color": "white"
             }
            },
            "header": {
             "fill": {
              "color": "#C8D4E3"
             },
             "line": {
              "color": "white"
             }
            },
            "type": "table"
           }
          ]
         },
         "layout": {
          "annotationdefaults": {
           "arrowcolor": "#2a3f5f",
           "arrowhead": 0,
           "arrowwidth": 1
          },
          "autotypenumbers": "strict",
          "coloraxis": {
           "colorbar": {
            "outlinewidth": 0,
            "ticks": ""
           }
          },
          "colorscale": {
           "diverging": [
            [
             0,
             "#8e0152"
            ],
            [
             0.1,
             "#c51b7d"
            ],
            [
             0.2,
             "#de77ae"
            ],
            [
             0.3,
             "#f1b6da"
            ],
            [
             0.4,
             "#fde0ef"
            ],
            [
             0.5,
             "#f7f7f7"
            ],
            [
             0.6,
             "#e6f5d0"
            ],
            [
             0.7,
             "#b8e186"
            ],
            [
             0.8,
             "#7fbc41"
            ],
            [
             0.9,
             "#4d9221"
            ],
            [
             1,
             "#276419"
            ]
           ],
           "sequential": [
            [
             0,
             "#0d0887"
            ],
            [
             0.1111111111111111,
             "#46039f"
            ],
            [
             0.2222222222222222,
             "#7201a8"
            ],
            [
             0.3333333333333333,
             "#9c179e"
            ],
            [
             0.4444444444444444,
             "#bd3786"
            ],
            [
             0.5555555555555556,
             "#d8576b"
            ],
            [
             0.6666666666666666,
             "#ed7953"
            ],
            [
             0.7777777777777778,
             "#fb9f3a"
            ],
            [
             0.8888888888888888,
             "#fdca26"
            ],
            [
             1,
             "#f0f921"
            ]
           ],
           "sequentialminus": [
            [
             0,
             "#0d0887"
            ],
            [
             0.1111111111111111,
             "#46039f"
            ],
            [
             0.2222222222222222,
             "#7201a8"
            ],
            [
             0.3333333333333333,
             "#9c179e"
            ],
            [
             0.4444444444444444,
             "#bd3786"
            ],
            [
             0.5555555555555556,
             "#d8576b"
            ],
            [
             0.6666666666666666,
             "#ed7953"
            ],
            [
             0.7777777777777778,
             "#fb9f3a"
            ],
            [
             0.8888888888888888,
             "#fdca26"
            ],
            [
             1,
             "#f0f921"
            ]
           ]
          },
          "colorway": [
           "#636efa",
           "#EF553B",
           "#00cc96",
           "#ab63fa",
           "#FFA15A",
           "#19d3f3",
           "#FF6692",
           "#B6E880",
           "#FF97FF",
           "#FECB52"
          ],
          "font": {
           "color": "#2a3f5f"
          },
          "geo": {
           "bgcolor": "white",
           "lakecolor": "white",
           "landcolor": "#E5ECF6",
           "showlakes": true,
           "showland": true,
           "subunitcolor": "white"
          },
          "hoverlabel": {
           "align": "left"
          },
          "hovermode": "closest",
          "mapbox": {
           "style": "light"
          },
          "paper_bgcolor": "white",
          "plot_bgcolor": "#E5ECF6",
          "polar": {
           "angularaxis": {
            "gridcolor": "white",
            "linecolor": "white",
            "ticks": ""
           },
           "bgcolor": "#E5ECF6",
           "radialaxis": {
            "gridcolor": "white",
            "linecolor": "white",
            "ticks": ""
           }
          },
          "scene": {
           "xaxis": {
            "backgroundcolor": "#E5ECF6",
            "gridcolor": "white",
            "gridwidth": 2,
            "linecolor": "white",
            "showbackground": true,
            "ticks": "",
            "zerolinecolor": "white"
           },
           "yaxis": {
            "backgroundcolor": "#E5ECF6",
            "gridcolor": "white",
            "gridwidth": 2,
            "linecolor": "white",
            "showbackground": true,
            "ticks": "",
            "zerolinecolor": "white"
           },
           "zaxis": {
            "backgroundcolor": "#E5ECF6",
            "gridcolor": "white",
            "gridwidth": 2,
            "linecolor": "white",
            "showbackground": true,
            "ticks": "",
            "zerolinecolor": "white"
           }
          },
          "shapedefaults": {
           "line": {
            "color": "#2a3f5f"
           }
          },
          "ternary": {
           "aaxis": {
            "gridcolor": "white",
            "linecolor": "white",
            "ticks": ""
           },
           "baxis": {
            "gridcolor": "white",
            "linecolor": "white",
            "ticks": ""
           },
           "bgcolor": "#E5ECF6",
           "caxis": {
            "gridcolor": "white",
            "linecolor": "white",
            "ticks": ""
           }
          },
          "title": {
           "x": 0.05
          },
          "xaxis": {
           "automargin": true,
           "gridcolor": "white",
           "linecolor": "white",
           "ticks": "",
           "title": {
            "standoff": 15
           },
           "zerolinecolor": "white",
           "zerolinewidth": 2
          },
          "yaxis": {
           "automargin": true,
           "gridcolor": "white",
           "linecolor": "white",
           "ticks": "",
           "title": {
            "standoff": 15
           },
           "zerolinecolor": "white",
           "zerolinewidth": 2
          }
         }
        },
        "title": {
         "text": "Weekly total gross income(in usd)"
        },
        "xaxis": {
         "anchor": "y",
         "domain": [
          0,
          1
         ],
         "title": {
          "text": "Date"
         }
        },
        "yaxis": {
         "anchor": "x",
         "domain": [
          0,
          1
         ],
         "title": {
          "text": "value"
         }
        }
       }
      }
     },
     "metadata": {},
     "output_type": "display_data"
    }
   ],
   "source": [
    "fig1 = df[[\"Date\", \"gross income\", \"Product line\"]].set_index(\"Date\")\n",
    "fig1 = fig1.pivot_table(values=\"gross income\", index = fig1.index, columns=\"Product line\", aggfunc='sum', fill_value=0)\n",
    "fig1[\"Total_gross_income\"] = fig1.sum(axis=1)\n",
    "fig1 = fig1.sort_index(ascending=True, )\n",
    "fig1.index = pd.to_datetime(fig1.index)\n",
    "weekly = fig1.resample('W').mean()\n",
    "\n",
    "weekly\n",
    "fig = px.line(weekly,  line_shape = \"spline\", \n",
    "             title=\"Weekly total gross income(in usd)\")\n",
    "fig.show()\n"
   ]
  },
  {
   "cell_type": "code",
   "execution_count": 352,
   "id": "be1e8faa",
   "metadata": {},
   "outputs": [
    {
     "data": {
      "application/vnd.plotly.v1+json": {
       "config": {
        "plotlyServerURL": "https://plot.ly"
       },
       "data": [
        {
         "alignmentgroup": "True",
         "bingroup": "x",
         "histfunc": "sum",
         "hovertemplate": "Gender=Female<br>Product line=%{x}<br>sum of Quantity=%{y}<extra></extra>",
         "legendgroup": "Female",
         "marker": {
          "color": "#636efa",
          "pattern": {
           "shape": ""
          }
         },
         "name": "Female",
         "offsetgroup": "Female",
         "orientation": "v",
         "showlegend": true,
         "type": "histogram",
         "x": [
          "Health and beauty",
          "Electronic accessories",
          "Electronic accessories",
          "Home and lifestyle",
          "Health and beauty",
          "Food and beverages",
          "Fashion accessories",
          "Electronic accessories",
          "Health and beauty",
          "Sports and travel",
          "Health and beauty",
          "Home and lifestyle",
          "Home and lifestyle",
          "Fashion accessories",
          "Food and beverages",
          "Food and beverages",
          "Sports and travel",
          "Electronic accessories",
          "Health and beauty",
          "Home and lifestyle",
          "Sports and travel",
          "Food and beverages",
          "Electronic accessories",
          "Food and beverages",
          "Fashion accessories",
          "Food and beverages",
          "Fashion accessories",
          "Electronic accessories",
          "Home and lifestyle",
          "Sports and travel",
          "Sports and travel",
          "Health and beauty",
          "Fashion accessories",
          "Health and beauty",
          "Food and beverages",
          "Electronic accessories",
          "Electronic accessories",
          "Fashion accessories",
          "Food and beverages",
          "Health and beauty",
          "Health and beauty",
          "Food and beverages",
          "Food and beverages",
          "Sports and travel",
          "Health and beauty",
          "Home and lifestyle",
          "Sports and travel",
          "Sports and travel",
          "Electronic accessories",
          "Electronic accessories",
          "Food and beverages",
          "Sports and travel",
          "Health and beauty",
          "Fashion accessories",
          "Home and lifestyle",
          "Fashion accessories",
          "Food and beverages",
          "Electronic accessories",
          "Fashion accessories",
          "Home and lifestyle",
          "Sports and travel",
          "Fashion accessories",
          "Food and beverages",
          "Sports and travel",
          "Fashion accessories",
          "Sports and travel",
          "Sports and travel",
          "Health and beauty",
          "Electronic accessories",
          "Home and lifestyle",
          "Sports and travel",
          "Health and beauty",
          "Food and beverages",
          "Home and lifestyle",
          "Health and beauty",
          "Fashion accessories",
          "Fashion accessories",
          "Food and beverages",
          "Sports and travel",
          "Food and beverages",
          "Fashion accessories",
          "Sports and travel",
          "Home and lifestyle",
          "Home and lifestyle",
          "Home and lifestyle",
          "Fashion accessories",
          "Food and beverages",
          "Fashion accessories",
          "Home and lifestyle",
          "Food and beverages",
          "Sports and travel",
          "Electronic accessories",
          "Health and beauty",
          "Electronic accessories",
          "Home and lifestyle",
          "Fashion accessories",
          "Electronic accessories",
          "Food and beverages",
          "Sports and travel",
          "Sports and travel",
          "Electronic accessories",
          "Food and beverages",
          "Fashion accessories",
          "Sports and travel",
          "Electronic accessories",
          "Home and lifestyle",
          "Fashion accessories",
          "Electronic accessories",
          "Health and beauty",
          "Sports and travel",
          "Fashion accessories",
          "Electronic accessories",
          "Electronic accessories",
          "Sports and travel",
          "Electronic accessories",
          "Fashion accessories",
          "Fashion accessories",
          "Sports and travel",
          "Sports and travel",
          "Food and beverages",
          "Home and lifestyle",
          "Sports and travel",
          "Health and beauty",
          "Home and lifestyle",
          "Home and lifestyle",
          "Health and beauty",
          "Home and lifestyle",
          "Fashion accessories",
          "Home and lifestyle",
          "Sports and travel",
          "Health and beauty",
          "Sports and travel",
          "Food and beverages",
          "Home and lifestyle",
          "Electronic accessories",
          "Food and beverages",
          "Electronic accessories",
          "Home and lifestyle",
          "Electronic accessories",
          "Electronic accessories",
          "Sports and travel",
          "Home and lifestyle",
          "Electronic accessories",
          "Fashion accessories",
          "Food and beverages",
          "Health and beauty",
          "Electronic accessories",
          "Food and beverages",
          "Health and beauty",
          "Food and beverages",
          "Health and beauty",
          "Fashion accessories",
          "Electronic accessories",
          "Sports and travel",
          "Electronic accessories",
          "Food and beverages",
          "Health and beauty",
          "Health and beauty",
          "Food and beverages",
          "Fashion accessories",
          "Home and lifestyle",
          "Health and beauty",
          "Fashion accessories",
          "Fashion accessories",
          "Electronic accessories",
          "Food and beverages",
          "Fashion accessories",
          "Sports and travel",
          "Food and beverages",
          "Food and beverages",
          "Fashion accessories",
          "Electronic accessories",
          "Sports and travel",
          "Electronic accessories",
          "Fashion accessories",
          "Home and lifestyle",
          "Home and lifestyle",
          "Fashion accessories",
          "Home and lifestyle",
          "Electronic accessories",
          "Electronic accessories",
          "Food and beverages",
          "Food and beverages",
          "Food and beverages",
          "Health and beauty",
          "Fashion accessories",
          "Fashion accessories",
          "Fashion accessories",
          "Sports and travel",
          "Health and beauty",
          "Health and beauty",
          "Food and beverages",
          "Health and beauty",
          "Food and beverages",
          "Fashion accessories",
          "Fashion accessories",
          "Fashion accessories",
          "Home and lifestyle",
          "Fashion accessories",
          "Health and beauty",
          "Home and lifestyle",
          "Health and beauty",
          "Health and beauty",
          "Electronic accessories",
          "Food and beverages",
          "Electronic accessories",
          "Fashion accessories",
          "Food and beverages",
          "Home and lifestyle",
          "Electronic accessories",
          "Fashion accessories",
          "Electronic accessories",
          "Sports and travel",
          "Home and lifestyle",
          "Sports and travel",
          "Health and beauty",
          "Health and beauty",
          "Sports and travel",
          "Electronic accessories",
          "Food and beverages",
          "Fashion accessories",
          "Food and beverages",
          "Electronic accessories",
          "Food and beverages",
          "Sports and travel",
          "Food and beverages",
          "Sports and travel",
          "Health and beauty",
          "Electronic accessories",
          "Home and lifestyle",
          "Sports and travel",
          "Electronic accessories",
          "Sports and travel",
          "Electronic accessories",
          "Sports and travel",
          "Sports and travel",
          "Fashion accessories",
          "Home and lifestyle",
          "Fashion accessories",
          "Fashion accessories",
          "Health and beauty",
          "Home and lifestyle",
          "Electronic accessories",
          "Food and beverages",
          "Sports and travel",
          "Sports and travel",
          "Fashion accessories",
          "Sports and travel",
          "Sports and travel",
          "Food and beverages",
          "Home and lifestyle",
          "Sports and travel",
          "Home and lifestyle",
          "Fashion accessories",
          "Fashion accessories",
          "Electronic accessories",
          "Home and lifestyle",
          "Home and lifestyle",
          "Sports and travel",
          "Food and beverages",
          "Food and beverages",
          "Home and lifestyle",
          "Fashion accessories",
          "Fashion accessories",
          "Food and beverages",
          "Sports and travel",
          "Food and beverages",
          "Fashion accessories",
          "Sports and travel",
          "Electronic accessories",
          "Fashion accessories",
          "Health and beauty",
          "Fashion accessories",
          "Food and beverages",
          "Home and lifestyle",
          "Electronic accessories",
          "Food and beverages",
          "Sports and travel",
          "Fashion accessories",
          "Fashion accessories",
          "Sports and travel",
          "Home and lifestyle",
          "Health and beauty",
          "Health and beauty",
          "Fashion accessories",
          "Fashion accessories",
          "Food and beverages",
          "Sports and travel",
          "Home and lifestyle",
          "Sports and travel",
          "Sports and travel",
          "Sports and travel",
          "Fashion accessories",
          "Home and lifestyle",
          "Fashion accessories",
          "Sports and travel",
          "Fashion accessories",
          "Fashion accessories",
          "Food and beverages",
          "Electronic accessories",
          "Food and beverages",
          "Sports and travel",
          "Fashion accessories",
          "Food and beverages",
          "Food and beverages",
          "Home and lifestyle",
          "Fashion accessories",
          "Food and beverages",
          "Fashion accessories",
          "Electronic accessories",
          "Food and beverages",
          "Food and beverages",
          "Electronic accessories",
          "Food and beverages",
          "Sports and travel",
          "Health and beauty",
          "Electronic accessories",
          "Electronic accessories",
          "Fashion accessories",
          "Sports and travel",
          "Sports and travel",
          "Fashion accessories",
          "Food and beverages",
          "Sports and travel",
          "Fashion accessories",
          "Health and beauty",
          "Health and beauty",
          "Sports and travel",
          "Health and beauty",
          "Electronic accessories",
          "Sports and travel",
          "Food and beverages",
          "Electronic accessories",
          "Sports and travel",
          "Fashion accessories",
          "Sports and travel",
          "Home and lifestyle",
          "Sports and travel",
          "Food and beverages",
          "Sports and travel",
          "Fashion accessories",
          "Food and beverages",
          "Home and lifestyle",
          "Sports and travel",
          "Fashion accessories",
          "Fashion accessories",
          "Home and lifestyle",
          "Electronic accessories",
          "Home and lifestyle",
          "Electronic accessories",
          "Health and beauty",
          "Health and beauty",
          "Fashion accessories",
          "Fashion accessories",
          "Fashion accessories",
          "Sports and travel",
          "Food and beverages",
          "Health and beauty",
          "Home and lifestyle",
          "Fashion accessories",
          "Home and lifestyle",
          "Sports and travel",
          "Sports and travel",
          "Food and beverages",
          "Home and lifestyle",
          "Home and lifestyle",
          "Fashion accessories",
          "Food and beverages",
          "Electronic accessories",
          "Fashion accessories",
          "Fashion accessories",
          "Electronic accessories",
          "Home and lifestyle",
          "Food and beverages",
          "Food and beverages",
          "Fashion accessories",
          "Health and beauty",
          "Home and lifestyle",
          "Fashion accessories",
          "Electronic accessories",
          "Home and lifestyle",
          "Sports and travel",
          "Health and beauty",
          "Sports and travel",
          "Food and beverages",
          "Food and beverages",
          "Sports and travel",
          "Fashion accessories",
          "Home and lifestyle",
          "Health and beauty",
          "Health and beauty",
          "Home and lifestyle",
          "Electronic accessories",
          "Home and lifestyle",
          "Sports and travel",
          "Electronic accessories",
          "Fashion accessories",
          "Electronic accessories",
          "Home and lifestyle",
          "Sports and travel",
          "Electronic accessories",
          "Health and beauty",
          "Fashion accessories",
          "Electronic accessories",
          "Sports and travel",
          "Electronic accessories",
          "Food and beverages",
          "Fashion accessories",
          "Home and lifestyle",
          "Health and beauty",
          "Sports and travel",
          "Sports and travel",
          "Health and beauty",
          "Electronic accessories",
          "Sports and travel",
          "Home and lifestyle",
          "Sports and travel",
          "Sports and travel",
          "Food and beverages",
          "Sports and travel",
          "Food and beverages",
          "Fashion accessories",
          "Fashion accessories",
          "Electronic accessories",
          "Health and beauty",
          "Fashion accessories",
          "Home and lifestyle",
          "Food and beverages",
          "Home and lifestyle",
          "Home and lifestyle",
          "Home and lifestyle",
          "Electronic accessories",
          "Health and beauty",
          "Electronic accessories",
          "Electronic accessories",
          "Electronic accessories",
          "Food and beverages",
          "Fashion accessories",
          "Home and lifestyle",
          "Food and beverages",
          "Electronic accessories",
          "Fashion accessories",
          "Health and beauty",
          "Electronic accessories",
          "Fashion accessories",
          "Food and beverages",
          "Electronic accessories",
          "Health and beauty",
          "Health and beauty",
          "Home and lifestyle",
          "Health and beauty",
          "Food and beverages",
          "Home and lifestyle",
          "Food and beverages",
          "Electronic accessories",
          "Home and lifestyle",
          "Food and beverages",
          "Electronic accessories",
          "Fashion accessories",
          "Electronic accessories",
          "Home and lifestyle",
          "Home and lifestyle",
          "Home and lifestyle",
          "Sports and travel",
          "Sports and travel",
          "Electronic accessories",
          "Health and beauty",
          "Electronic accessories",
          "Fashion accessories",
          "Food and beverages",
          "Home and lifestyle",
          "Health and beauty",
          "Sports and travel",
          "Health and beauty",
          "Food and beverages",
          "Home and lifestyle",
          "Electronic accessories",
          "Food and beverages",
          "Home and lifestyle",
          "Food and beverages",
          "Food and beverages",
          "Fashion accessories",
          "Home and lifestyle",
          "Food and beverages",
          "Fashion accessories",
          "Electronic accessories",
          "Home and lifestyle",
          "Health and beauty",
          "Electronic accessories",
          "Food and beverages",
          "Food and beverages",
          "Electronic accessories",
          "Food and beverages",
          "Sports and travel",
          "Fashion accessories",
          "Health and beauty",
          "Food and beverages",
          "Sports and travel",
          "Electronic accessories",
          "Home and lifestyle",
          "Fashion accessories"
         ],
         "xaxis": "x",
         "y": [
          7,
          5,
          6,
          10,
          2,
          3,
          4,
          5,
          10,
          6,
          7,
          2,
          8,
          2,
          5,
          4,
          1,
          9,
          8,
          1,
          6,
          8,
          4,
          9,
          10,
          5,
          4,
          8,
          10,
          3,
          9,
          2,
          6,
          1,
          3,
          6,
          10,
          9,
          10,
          5,
          6,
          3,
          4,
          7,
          6,
          4,
          10,
          7,
          6,
          9,
          9,
          2,
          3,
          7,
          9,
          3,
          10,
          8,
          8,
          7,
          5,
          9,
          8,
          9,
          7,
          6,
          4,
          6,
          5,
          6,
          10,
          10,
          1,
          6,
          6,
          10,
          4,
          6,
          8,
          8,
          7,
          7,
          8,
          4,
          3,
          2,
          9,
          1,
          1,
          5,
          6,
          4,
          9,
          9,
          10,
          3,
          9,
          9,
          7,
          5,
          3,
          3,
          1,
          2,
          6,
          8,
          2,
          3,
          9,
          2,
          5,
          5,
          3,
          2,
          9,
          4,
          4,
          10,
          7,
          10,
          10,
          5,
          2,
          9,
          2,
          6,
          10,
          4,
          8,
          1,
          4,
          9,
          7,
          7,
          1,
          2,
          5,
          1,
          4,
          8,
          7,
          8,
          3,
          2,
          5,
          9,
          10,
          3,
          7,
          9,
          1,
          5,
          5,
          6,
          3,
          9,
          7,
          7,
          5,
          9,
          8,
          10,
          10,
          7,
          1,
          4,
          10,
          10,
          8,
          4,
          4,
          9,
          10,
          7,
          2,
          6,
          5,
          5,
          9,
          4,
          2,
          5,
          4,
          5,
          10,
          9,
          3,
          10,
          10,
          1,
          5,
          5,
          6,
          6,
          5,
          7,
          4,
          4,
          5,
          10,
          4,
          1,
          2,
          7,
          3,
          3,
          10,
          3,
          10,
          6,
          1,
          8,
          8,
          9,
          7,
          1,
          1,
          1,
          6,
          5,
          5,
          9,
          10,
          10,
          4,
          1,
          10,
          7,
          1,
          6,
          4,
          5,
          5,
          10,
          10,
          4,
          10,
          9,
          2,
          10,
          8,
          10,
          2,
          6,
          1,
          8,
          1,
          2,
          3,
          6,
          6,
          7,
          5,
          7,
          1,
          3,
          6,
          6,
          5,
          10,
          9,
          5,
          1,
          4,
          6,
          4,
          1,
          10,
          5,
          6,
          9,
          9,
          2,
          10,
          3,
          8,
          10,
          10,
          9,
          7,
          7,
          5,
          4,
          4,
          2,
          4,
          3,
          5,
          7,
          1,
          3,
          9,
          5,
          2,
          1,
          6,
          7,
          7,
          4,
          1,
          9,
          9,
          6,
          3,
          1,
          7,
          10,
          2,
          1,
          1,
          5,
          3,
          8,
          8,
          2,
          6,
          3,
          1,
          3,
          5,
          3,
          6,
          10,
          2,
          4,
          4,
          6,
          2,
          3,
          10,
          7,
          4,
          1,
          1,
          6,
          6,
          2,
          2,
          3,
          9,
          7,
          9,
          5,
          4,
          8,
          10,
          9,
          4,
          4,
          9,
          9,
          5,
          7,
          6,
          7,
          9,
          7,
          8,
          7,
          4,
          7,
          2,
          8,
          1,
          5,
          9,
          4,
          5,
          10,
          3,
          8,
          8,
          6,
          4,
          10,
          8,
          5,
          8,
          3,
          4,
          6,
          4,
          7,
          7,
          1,
          5,
          4,
          1,
          8,
          5,
          5,
          10,
          2,
          1,
          10,
          8,
          9,
          9,
          4,
          2,
          4,
          1,
          10,
          10,
          5,
          8,
          8,
          7,
          2,
          3,
          7,
          4,
          9,
          10,
          8,
          7,
          6,
          2,
          2,
          1,
          9,
          6,
          2,
          10,
          5,
          9,
          4,
          9,
          1,
          9,
          7,
          3,
          2,
          10,
          8,
          8,
          10,
          8,
          6,
          2,
          10,
          8,
          5,
          8,
          5,
          6,
          9,
          5,
          2,
          4,
          5,
          2,
          10,
          3,
          4,
          8,
          3,
          6,
          4,
          3,
          9,
          6,
          2,
          7,
          6,
          4,
          9,
          9,
          2,
          10,
          6,
          7,
          5,
          3,
          6,
          10,
          7,
          8,
          3,
          4,
          4,
          7,
          10,
          9,
          1,
          2,
          9,
          3,
          5,
          10,
          4,
          1,
          1,
          9,
          5,
          2,
          5,
          10,
          1,
          10,
          7
         ],
         "yaxis": "y"
        },
        {
         "alignmentgroup": "True",
         "bingroup": "x",
         "histfunc": "sum",
         "hovertemplate": "Gender=Male<br>Product line=%{x}<br>sum of Quantity=%{y}<extra></extra>",
         "legendgroup": "Male",
         "marker": {
          "color": "#EF553B",
          "pattern": {
           "shape": ""
          }
         },
         "name": "Male",
         "offsetgroup": "Male",
         "orientation": "v",
         "showlegend": true,
         "type": "histogram",
         "x": [
          "Home and lifestyle",
          "Health and beauty",
          "Sports and travel",
          "Electronic accessories",
          "Electronic accessories",
          "Food and beverages",
          "Sports and travel",
          "Food and beverages",
          "Electronic accessories",
          "Health and beauty",
          "Home and lifestyle",
          "Electronic accessories",
          "Sports and travel",
          "Fashion accessories",
          "Health and beauty",
          "Fashion accessories",
          "Sports and travel",
          "Sports and travel",
          "Health and beauty",
          "Sports and travel",
          "Home and lifestyle",
          "Home and lifestyle",
          "Health and beauty",
          "Health and beauty",
          "Electronic accessories",
          "Food and beverages",
          "Fashion accessories",
          "Home and lifestyle",
          "Home and lifestyle",
          "Health and beauty",
          "Electronic accessories",
          "Home and lifestyle",
          "Sports and travel",
          "Health and beauty",
          "Health and beauty",
          "Sports and travel",
          "Food and beverages",
          "Fashion accessories",
          "Home and lifestyle",
          "Fashion accessories",
          "Food and beverages",
          "Sports and travel",
          "Fashion accessories",
          "Food and beverages",
          "Sports and travel",
          "Health and beauty",
          "Health and beauty",
          "Electronic accessories",
          "Health and beauty",
          "Food and beverages",
          "Home and lifestyle",
          "Fashion accessories",
          "Fashion accessories",
          "Food and beverages",
          "Health and beauty",
          "Electronic accessories",
          "Fashion accessories",
          "Sports and travel",
          "Electronic accessories",
          "Home and lifestyle",
          "Fashion accessories",
          "Fashion accessories",
          "Home and lifestyle",
          "Sports and travel",
          "Sports and travel",
          "Home and lifestyle",
          "Electronic accessories",
          "Fashion accessories",
          "Sports and travel",
          "Sports and travel",
          "Health and beauty",
          "Health and beauty",
          "Home and lifestyle",
          "Health and beauty",
          "Sports and travel",
          "Fashion accessories",
          "Food and beverages",
          "Electronic accessories",
          "Home and lifestyle",
          "Health and beauty",
          "Sports and travel",
          "Sports and travel",
          "Food and beverages",
          "Sports and travel",
          "Food and beverages",
          "Health and beauty",
          "Home and lifestyle",
          "Fashion accessories",
          "Food and beverages",
          "Sports and travel",
          "Health and beauty",
          "Food and beverages",
          "Electronic accessories",
          "Electronic accessories",
          "Food and beverages",
          "Home and lifestyle",
          "Food and beverages",
          "Food and beverages",
          "Health and beauty",
          "Fashion accessories",
          "Food and beverages",
          "Sports and travel",
          "Health and beauty",
          "Food and beverages",
          "Home and lifestyle",
          "Home and lifestyle",
          "Home and lifestyle",
          "Electronic accessories",
          "Health and beauty",
          "Health and beauty",
          "Electronic accessories",
          "Health and beauty",
          "Home and lifestyle",
          "Electronic accessories",
          "Home and lifestyle",
          "Sports and travel",
          "Home and lifestyle",
          "Fashion accessories",
          "Electronic accessories",
          "Food and beverages",
          "Electronic accessories",
          "Food and beverages",
          "Health and beauty",
          "Electronic accessories",
          "Fashion accessories",
          "Health and beauty",
          "Health and beauty",
          "Fashion accessories",
          "Food and beverages",
          "Health and beauty",
          "Fashion accessories",
          "Home and lifestyle",
          "Home and lifestyle",
          "Home and lifestyle",
          "Fashion accessories",
          "Electronic accessories",
          "Food and beverages",
          "Food and beverages",
          "Fashion accessories",
          "Home and lifestyle",
          "Home and lifestyle",
          "Fashion accessories",
          "Electronic accessories",
          "Home and lifestyle",
          "Electronic accessories",
          "Electronic accessories",
          "Sports and travel",
          "Home and lifestyle",
          "Home and lifestyle",
          "Fashion accessories",
          "Fashion accessories",
          "Sports and travel",
          "Home and lifestyle",
          "Health and beauty",
          "Health and beauty",
          "Home and lifestyle",
          "Electronic accessories",
          "Electronic accessories",
          "Health and beauty",
          "Electronic accessories",
          "Home and lifestyle",
          "Home and lifestyle",
          "Fashion accessories",
          "Health and beauty",
          "Food and beverages",
          "Electronic accessories",
          "Sports and travel",
          "Fashion accessories",
          "Food and beverages",
          "Electronic accessories",
          "Health and beauty",
          "Health and beauty",
          "Home and lifestyle",
          "Sports and travel",
          "Food and beverages",
          "Food and beverages",
          "Health and beauty",
          "Electronic accessories",
          "Home and lifestyle",
          "Food and beverages",
          "Fashion accessories",
          "Food and beverages",
          "Sports and travel",
          "Fashion accessories",
          "Electronic accessories",
          "Sports and travel",
          "Electronic accessories",
          "Electronic accessories",
          "Electronic accessories",
          "Home and lifestyle",
          "Electronic accessories",
          "Sports and travel",
          "Food and beverages",
          "Food and beverages",
          "Home and lifestyle",
          "Home and lifestyle",
          "Electronic accessories",
          "Fashion accessories",
          "Sports and travel",
          "Fashion accessories",
          "Sports and travel",
          "Sports and travel",
          "Food and beverages",
          "Food and beverages",
          "Electronic accessories",
          "Home and lifestyle",
          "Electronic accessories",
          "Home and lifestyle",
          "Home and lifestyle",
          "Sports and travel",
          "Food and beverages",
          "Sports and travel",
          "Health and beauty",
          "Sports and travel",
          "Home and lifestyle",
          "Health and beauty",
          "Fashion accessories",
          "Fashion accessories",
          "Fashion accessories",
          "Health and beauty",
          "Sports and travel",
          "Fashion accessories",
          "Food and beverages",
          "Fashion accessories",
          "Sports and travel",
          "Sports and travel",
          "Home and lifestyle",
          "Food and beverages",
          "Food and beverages",
          "Fashion accessories",
          "Food and beverages",
          "Fashion accessories",
          "Electronic accessories",
          "Health and beauty",
          "Electronic accessories",
          "Electronic accessories",
          "Food and beverages",
          "Food and beverages",
          "Food and beverages",
          "Sports and travel",
          "Food and beverages",
          "Fashion accessories",
          "Health and beauty",
          "Health and beauty",
          "Electronic accessories",
          "Sports and travel",
          "Electronic accessories",
          "Food and beverages",
          "Sports and travel",
          "Home and lifestyle",
          "Fashion accessories",
          "Home and lifestyle",
          "Fashion accessories",
          "Sports and travel",
          "Sports and travel",
          "Home and lifestyle",
          "Sports and travel",
          "Electronic accessories",
          "Health and beauty",
          "Electronic accessories",
          "Sports and travel",
          "Health and beauty",
          "Home and lifestyle",
          "Home and lifestyle",
          "Sports and travel",
          "Health and beauty",
          "Food and beverages",
          "Fashion accessories",
          "Fashion accessories",
          "Sports and travel",
          "Health and beauty",
          "Fashion accessories",
          "Electronic accessories",
          "Home and lifestyle",
          "Home and lifestyle",
          "Home and lifestyle",
          "Health and beauty",
          "Electronic accessories",
          "Home and lifestyle",
          "Sports and travel",
          "Fashion accessories",
          "Electronic accessories",
          "Electronic accessories",
          "Home and lifestyle",
          "Food and beverages",
          "Electronic accessories",
          "Food and beverages",
          "Electronic accessories",
          "Fashion accessories",
          "Sports and travel",
          "Food and beverages",
          "Food and beverages",
          "Sports and travel",
          "Fashion accessories",
          "Food and beverages",
          "Food and beverages",
          "Health and beauty",
          "Food and beverages",
          "Sports and travel",
          "Health and beauty",
          "Fashion accessories",
          "Health and beauty",
          "Health and beauty",
          "Sports and travel",
          "Health and beauty",
          "Food and beverages",
          "Electronic accessories",
          "Food and beverages",
          "Home and lifestyle",
          "Fashion accessories",
          "Food and beverages",
          "Fashion accessories",
          "Sports and travel",
          "Food and beverages",
          "Sports and travel",
          "Electronic accessories",
          "Food and beverages",
          "Fashion accessories",
          "Sports and travel",
          "Health and beauty",
          "Home and lifestyle",
          "Sports and travel",
          "Electronic accessories",
          "Food and beverages",
          "Home and lifestyle",
          "Food and beverages",
          "Health and beauty",
          "Health and beauty",
          "Fashion accessories",
          "Electronic accessories",
          "Electronic accessories",
          "Home and lifestyle",
          "Health and beauty",
          "Fashion accessories",
          "Electronic accessories",
          "Electronic accessories",
          "Home and lifestyle",
          "Sports and travel",
          "Fashion accessories",
          "Fashion accessories",
          "Sports and travel",
          "Food and beverages",
          "Fashion accessories",
          "Food and beverages",
          "Health and beauty",
          "Fashion accessories",
          "Health and beauty",
          "Food and beverages",
          "Fashion accessories",
          "Home and lifestyle",
          "Sports and travel",
          "Food and beverages",
          "Health and beauty",
          "Home and lifestyle",
          "Electronic accessories",
          "Home and lifestyle",
          "Food and beverages",
          "Health and beauty",
          "Health and beauty",
          "Food and beverages",
          "Fashion accessories",
          "Sports and travel",
          "Food and beverages",
          "Fashion accessories",
          "Electronic accessories",
          "Fashion accessories",
          "Home and lifestyle",
          "Food and beverages",
          "Home and lifestyle",
          "Sports and travel",
          "Fashion accessories",
          "Health and beauty",
          "Fashion accessories",
          "Electronic accessories",
          "Food and beverages",
          "Health and beauty",
          "Electronic accessories",
          "Electronic accessories",
          "Home and lifestyle",
          "Home and lifestyle",
          "Food and beverages",
          "Home and lifestyle",
          "Fashion accessories",
          "Health and beauty",
          "Home and lifestyle",
          "Food and beverages",
          "Electronic accessories",
          "Health and beauty",
          "Sports and travel",
          "Food and beverages",
          "Health and beauty",
          "Sports and travel",
          "Sports and travel",
          "Electronic accessories",
          "Health and beauty",
          "Electronic accessories",
          "Electronic accessories",
          "Health and beauty",
          "Sports and travel",
          "Fashion accessories",
          "Health and beauty",
          "Electronic accessories",
          "Fashion accessories",
          "Health and beauty",
          "Home and lifestyle",
          "Sports and travel",
          "Fashion accessories",
          "Health and beauty",
          "Electronic accessories",
          "Food and beverages",
          "Health and beauty",
          "Food and beverages",
          "Electronic accessories",
          "Sports and travel",
          "Fashion accessories",
          "Electronic accessories",
          "Electronic accessories",
          "Health and beauty",
          "Health and beauty",
          "Fashion accessories",
          "Fashion accessories",
          "Sports and travel",
          "Electronic accessories",
          "Fashion accessories",
          "Electronic accessories",
          "Fashion accessories",
          "Electronic accessories",
          "Electronic accessories",
          "Fashion accessories",
          "Health and beauty",
          "Food and beverages",
          "Health and beauty",
          "Sports and travel",
          "Health and beauty",
          "Sports and travel",
          "Food and beverages",
          "Sports and travel",
          "Food and beverages",
          "Fashion accessories",
          "Sports and travel",
          "Home and lifestyle",
          "Home and lifestyle",
          "Fashion accessories",
          "Electronic accessories",
          "Sports and travel",
          "Sports and travel",
          "Food and beverages",
          "Sports and travel",
          "Electronic accessories",
          "Electronic accessories",
          "Health and beauty",
          "Fashion accessories",
          "Health and beauty",
          "Food and beverages",
          "Home and lifestyle",
          "Food and beverages",
          "Health and beauty",
          "Fashion accessories",
          "Sports and travel",
          "Home and lifestyle",
          "Sports and travel",
          "Sports and travel",
          "Home and lifestyle",
          "Health and beauty",
          "Home and lifestyle",
          "Food and beverages",
          "Fashion accessories",
          "Health and beauty",
          "Health and beauty",
          "Electronic accessories",
          "Fashion accessories",
          "Home and lifestyle",
          "Health and beauty",
          "Home and lifestyle",
          "Food and beverages",
          "Electronic accessories",
          "Fashion accessories",
          "Electronic accessories",
          "Electronic accessories",
          "Food and beverages",
          "Home and lifestyle",
          "Home and lifestyle",
          "Electronic accessories",
          "Home and lifestyle",
          "Fashion accessories",
          "Fashion accessories",
          "Food and beverages",
          "Food and beverages",
          "Health and beauty",
          "Health and beauty",
          "Electronic accessories",
          "Health and beauty",
          "Electronic accessories",
          "Health and beauty",
          "Electronic accessories",
          "Fashion accessories",
          "Health and beauty",
          "Food and beverages",
          "Home and lifestyle"
         ],
         "xaxis": "x",
         "y": [
          7,
          8,
          7,
          7,
          4,
          10,
          6,
          3,
          5,
          3,
          2,
          5,
          3,
          1,
          9,
          5,
          9,
          8,
          2,
          5,
          8,
          2,
          2,
          9,
          6,
          7,
          1,
          2,
          2,
          8,
          6,
          6,
          10,
          4,
          10,
          10,
          10,
          10,
          9,
          9,
          8,
          5,
          5,
          7,
          1,
          9,
          1,
          1,
          10,
          3,
          6,
          1,
          9,
          6,
          7,
          10,
          6,
          6,
          10,
          9,
          5,
          1,
          2,
          7,
          9,
          8,
          6,
          3,
          10,
          8,
          10,
          4,
          8,
          8,
          7,
          9,
          5,
          1,
          5,
          9,
          6,
          1,
          7,
          2,
          10,
          8,
          10,
          10,
          6,
          7,
          5,
          5,
          8,
          6,
          8,
          9,
          8,
          6,
          3,
          7,
          8,
          10,
          8,
          3,
          4,
          1,
          4,
          5,
          2,
          4,
          7,
          10,
          5,
          9,
          5,
          3,
          1,
          8,
          6,
          7,
          5,
          2,
          9,
          4,
          4,
          10,
          5,
          1,
          9,
          2,
          2,
          4,
          8,
          8,
          5,
          4,
          7,
          9,
          10,
          4,
          8,
          4,
          1,
          6,
          4,
          4,
          1,
          4,
          4,
          7,
          10,
          10,
          1,
          6,
          5,
          1,
          10,
          7,
          10,
          4,
          6,
          4,
          2,
          1,
          1,
          7,
          6,
          2,
          2,
          5,
          4,
          6,
          6,
          4,
          5,
          4,
          4,
          4,
          9,
          3,
          5,
          2,
          5,
          9,
          3,
          3,
          1,
          7,
          7,
          9,
          3,
          1,
          8,
          2,
          6,
          4,
          9,
          6,
          7,
          4,
          4,
          1,
          6,
          7,
          1,
          9,
          9,
          4,
          1,
          4,
          5,
          2,
          5,
          3,
          8,
          1,
          8,
          1,
          9,
          7,
          5,
          2,
          2,
          7,
          9,
          4,
          6,
          4,
          5,
          1,
          10,
          3,
          6,
          1,
          4,
          10,
          1,
          5,
          5,
          6,
          1,
          10,
          8,
          3,
          4,
          10,
          1,
          8,
          5,
          10,
          4,
          1,
          2,
          8,
          1,
          2,
          1,
          8,
          5,
          7,
          7,
          5,
          5,
          2,
          5,
          2,
          6,
          4,
          2,
          9,
          6,
          8,
          10,
          7,
          1,
          3,
          1,
          6,
          4,
          9,
          3,
          6,
          7,
          3,
          6,
          9,
          10,
          6,
          2,
          10,
          7,
          2,
          5,
          7,
          4,
          4,
          2,
          3,
          3,
          4,
          10,
          5,
          6,
          3,
          3,
          3,
          1,
          10,
          4,
          1,
          2,
          3,
          1,
          10,
          6,
          5,
          6,
          1,
          2,
          10,
          3,
          10,
          3,
          2,
          3,
          3,
          10,
          7,
          3,
          2,
          5,
          9,
          6,
          1,
          10,
          5,
          10,
          9,
          4,
          1,
          7,
          3,
          10,
          2,
          8,
          2,
          10,
          6,
          2,
          10,
          2,
          7,
          10,
          4,
          9,
          10,
          3,
          9,
          7,
          1,
          8,
          3,
          6,
          8,
          3,
          3,
          3,
          4,
          3,
          10,
          4,
          3,
          1,
          7,
          1,
          10,
          10,
          8,
          9,
          7,
          1,
          2,
          10,
          7,
          5,
          10,
          10,
          4,
          6,
          2,
          7,
          1,
          5,
          9,
          8,
          7,
          8,
          3,
          7,
          1,
          4,
          7,
          2,
          1,
          5,
          6,
          7,
          8,
          1,
          8,
          4,
          5,
          4,
          1,
          3,
          10,
          8,
          4,
          1,
          1,
          5,
          6,
          10,
          3,
          1,
          1,
          3,
          1,
          1,
          7,
          8,
          6,
          2,
          3,
          8,
          3,
          4,
          7,
          1,
          6,
          4,
          8,
          1,
          1,
          10,
          7,
          1,
          10,
          5,
          6,
          8,
          7,
          7,
          9,
          4,
          7,
          10,
          8,
          1,
          3,
          1,
          2,
          6,
          7,
          3,
          4,
          9,
          5,
          7,
          2,
          1,
          5,
          3,
          6,
          9,
          6,
          1,
          2,
          3,
          2,
          3,
          7,
          7,
          3,
          2,
          2,
          6,
          4,
          4,
          7,
          7,
          8,
          10,
          8,
          2,
          10,
          1,
          1,
          1
         ],
         "yaxis": "y"
        }
       ],
       "layout": {
        "barmode": "group",
        "legend": {
         "title": {
          "text": "Gender"
         },
         "tracegroupgap": 0
        },
        "template": {
         "data": {
          "bar": [
           {
            "error_x": {
             "color": "#2a3f5f"
            },
            "error_y": {
             "color": "#2a3f5f"
            },
            "marker": {
             "line": {
              "color": "#E5ECF6",
              "width": 0.5
             },
             "pattern": {
              "fillmode": "overlay",
              "size": 10,
              "solidity": 0.2
             }
            },
            "type": "bar"
           }
          ],
          "barpolar": [
           {
            "marker": {
             "line": {
              "color": "#E5ECF6",
              "width": 0.5
             },
             "pattern": {
              "fillmode": "overlay",
              "size": 10,
              "solidity": 0.2
             }
            },
            "type": "barpolar"
           }
          ],
          "carpet": [
           {
            "aaxis": {
             "endlinecolor": "#2a3f5f",
             "gridcolor": "white",
             "linecolor": "white",
             "minorgridcolor": "white",
             "startlinecolor": "#2a3f5f"
            },
            "baxis": {
             "endlinecolor": "#2a3f5f",
             "gridcolor": "white",
             "linecolor": "white",
             "minorgridcolor": "white",
             "startlinecolor": "#2a3f5f"
            },
            "type": "carpet"
           }
          ],
          "choropleth": [
           {
            "colorbar": {
             "outlinewidth": 0,
             "ticks": ""
            },
            "type": "choropleth"
           }
          ],
          "contour": [
           {
            "colorbar": {
             "outlinewidth": 0,
             "ticks": ""
            },
            "colorscale": [
             [
              0,
              "#0d0887"
             ],
             [
              0.1111111111111111,
              "#46039f"
             ],
             [
              0.2222222222222222,
              "#7201a8"
             ],
             [
              0.3333333333333333,
              "#9c179e"
             ],
             [
              0.4444444444444444,
              "#bd3786"
             ],
             [
              0.5555555555555556,
              "#d8576b"
             ],
             [
              0.6666666666666666,
              "#ed7953"
             ],
             [
              0.7777777777777778,
              "#fb9f3a"
             ],
             [
              0.8888888888888888,
              "#fdca26"
             ],
             [
              1,
              "#f0f921"
             ]
            ],
            "type": "contour"
           }
          ],
          "contourcarpet": [
           {
            "colorbar": {
             "outlinewidth": 0,
             "ticks": ""
            },
            "type": "contourcarpet"
           }
          ],
          "heatmap": [
           {
            "colorbar": {
             "outlinewidth": 0,
             "ticks": ""
            },
            "colorscale": [
             [
              0,
              "#0d0887"
             ],
             [
              0.1111111111111111,
              "#46039f"
             ],
             [
              0.2222222222222222,
              "#7201a8"
             ],
             [
              0.3333333333333333,
              "#9c179e"
             ],
             [
              0.4444444444444444,
              "#bd3786"
             ],
             [
              0.5555555555555556,
              "#d8576b"
             ],
             [
              0.6666666666666666,
              "#ed7953"
             ],
             [
              0.7777777777777778,
              "#fb9f3a"
             ],
             [
              0.8888888888888888,
              "#fdca26"
             ],
             [
              1,
              "#f0f921"
             ]
            ],
            "type": "heatmap"
           }
          ],
          "heatmapgl": [
           {
            "colorbar": {
             "outlinewidth": 0,
             "ticks": ""
            },
            "colorscale": [
             [
              0,
              "#0d0887"
             ],
             [
              0.1111111111111111,
              "#46039f"
             ],
             [
              0.2222222222222222,
              "#7201a8"
             ],
             [
              0.3333333333333333,
              "#9c179e"
             ],
             [
              0.4444444444444444,
              "#bd3786"
             ],
             [
              0.5555555555555556,
              "#d8576b"
             ],
             [
              0.6666666666666666,
              "#ed7953"
             ],
             [
              0.7777777777777778,
              "#fb9f3a"
             ],
             [
              0.8888888888888888,
              "#fdca26"
             ],
             [
              1,
              "#f0f921"
             ]
            ],
            "type": "heatmapgl"
           }
          ],
          "histogram": [
           {
            "marker": {
             "pattern": {
              "fillmode": "overlay",
              "size": 10,
              "solidity": 0.2
             }
            },
            "type": "histogram"
           }
          ],
          "histogram2d": [
           {
            "colorbar": {
             "outlinewidth": 0,
             "ticks": ""
            },
            "colorscale": [
             [
              0,
              "#0d0887"
             ],
             [
              0.1111111111111111,
              "#46039f"
             ],
             [
              0.2222222222222222,
              "#7201a8"
             ],
             [
              0.3333333333333333,
              "#9c179e"
             ],
             [
              0.4444444444444444,
              "#bd3786"
             ],
             [
              0.5555555555555556,
              "#d8576b"
             ],
             [
              0.6666666666666666,
              "#ed7953"
             ],
             [
              0.7777777777777778,
              "#fb9f3a"
             ],
             [
              0.8888888888888888,
              "#fdca26"
             ],
             [
              1,
              "#f0f921"
             ]
            ],
            "type": "histogram2d"
           }
          ],
          "histogram2dcontour": [
           {
            "colorbar": {
             "outlinewidth": 0,
             "ticks": ""
            },
            "colorscale": [
             [
              0,
              "#0d0887"
             ],
             [
              0.1111111111111111,
              "#46039f"
             ],
             [
              0.2222222222222222,
              "#7201a8"
             ],
             [
              0.3333333333333333,
              "#9c179e"
             ],
             [
              0.4444444444444444,
              "#bd3786"
             ],
             [
              0.5555555555555556,
              "#d8576b"
             ],
             [
              0.6666666666666666,
              "#ed7953"
             ],
             [
              0.7777777777777778,
              "#fb9f3a"
             ],
             [
              0.8888888888888888,
              "#fdca26"
             ],
             [
              1,
              "#f0f921"
             ]
            ],
            "type": "histogram2dcontour"
           }
          ],
          "mesh3d": [
           {
            "colorbar": {
             "outlinewidth": 0,
             "ticks": ""
            },
            "type": "mesh3d"
           }
          ],
          "parcoords": [
           {
            "line": {
             "colorbar": {
              "outlinewidth": 0,
              "ticks": ""
             }
            },
            "type": "parcoords"
           }
          ],
          "pie": [
           {
            "automargin": true,
            "type": "pie"
           }
          ],
          "scatter": [
           {
            "marker": {
             "colorbar": {
              "outlinewidth": 0,
              "ticks": ""
             }
            },
            "type": "scatter"
           }
          ],
          "scatter3d": [
           {
            "line": {
             "colorbar": {
              "outlinewidth": 0,
              "ticks": ""
             }
            },
            "marker": {
             "colorbar": {
              "outlinewidth": 0,
              "ticks": ""
             }
            },
            "type": "scatter3d"
           }
          ],
          "scattercarpet": [
           {
            "marker": {
             "colorbar": {
              "outlinewidth": 0,
              "ticks": ""
             }
            },
            "type": "scattercarpet"
           }
          ],
          "scattergeo": [
           {
            "marker": {
             "colorbar": {
              "outlinewidth": 0,
              "ticks": ""
             }
            },
            "type": "scattergeo"
           }
          ],
          "scattergl": [
           {
            "marker": {
             "colorbar": {
              "outlinewidth": 0,
              "ticks": ""
             }
            },
            "type": "scattergl"
           }
          ],
          "scattermapbox": [
           {
            "marker": {
             "colorbar": {
              "outlinewidth": 0,
              "ticks": ""
             }
            },
            "type": "scattermapbox"
           }
          ],
          "scatterpolar": [
           {
            "marker": {
             "colorbar": {
              "outlinewidth": 0,
              "ticks": ""
             }
            },
            "type": "scatterpolar"
           }
          ],
          "scatterpolargl": [
           {
            "marker": {
             "colorbar": {
              "outlinewidth": 0,
              "ticks": ""
             }
            },
            "type": "scatterpolargl"
           }
          ],
          "scatterternary": [
           {
            "marker": {
             "colorbar": {
              "outlinewidth": 0,
              "ticks": ""
             }
            },
            "type": "scatterternary"
           }
          ],
          "surface": [
           {
            "colorbar": {
             "outlinewidth": 0,
             "ticks": ""
            },
            "colorscale": [
             [
              0,
              "#0d0887"
             ],
             [
              0.1111111111111111,
              "#46039f"
             ],
             [
              0.2222222222222222,
              "#7201a8"
             ],
             [
              0.3333333333333333,
              "#9c179e"
             ],
             [
              0.4444444444444444,
              "#bd3786"
             ],
             [
              0.5555555555555556,
              "#d8576b"
             ],
             [
              0.6666666666666666,
              "#ed7953"
             ],
             [
              0.7777777777777778,
              "#fb9f3a"
             ],
             [
              0.8888888888888888,
              "#fdca26"
             ],
             [
              1,
              "#f0f921"
             ]
            ],
            "type": "surface"
           }
          ],
          "table": [
           {
            "cells": {
             "fill": {
              "color": "#EBF0F8"
             },
             "line": {
              "color": "white"
             }
            },
            "header": {
             "fill": {
              "color": "#C8D4E3"
             },
             "line": {
              "color": "white"
             }
            },
            "type": "table"
           }
          ]
         },
         "layout": {
          "annotationdefaults": {
           "arrowcolor": "#2a3f5f",
           "arrowhead": 0,
           "arrowwidth": 1
          },
          "autotypenumbers": "strict",
          "coloraxis": {
           "colorbar": {
            "outlinewidth": 0,
            "ticks": ""
           }
          },
          "colorscale": {
           "diverging": [
            [
             0,
             "#8e0152"
            ],
            [
             0.1,
             "#c51b7d"
            ],
            [
             0.2,
             "#de77ae"
            ],
            [
             0.3,
             "#f1b6da"
            ],
            [
             0.4,
             "#fde0ef"
            ],
            [
             0.5,
             "#f7f7f7"
            ],
            [
             0.6,
             "#e6f5d0"
            ],
            [
             0.7,
             "#b8e186"
            ],
            [
             0.8,
             "#7fbc41"
            ],
            [
             0.9,
             "#4d9221"
            ],
            [
             1,
             "#276419"
            ]
           ],
           "sequential": [
            [
             0,
             "#0d0887"
            ],
            [
             0.1111111111111111,
             "#46039f"
            ],
            [
             0.2222222222222222,
             "#7201a8"
            ],
            [
             0.3333333333333333,
             "#9c179e"
            ],
            [
             0.4444444444444444,
             "#bd3786"
            ],
            [
             0.5555555555555556,
             "#d8576b"
            ],
            [
             0.6666666666666666,
             "#ed7953"
            ],
            [
             0.7777777777777778,
             "#fb9f3a"
            ],
            [
             0.8888888888888888,
             "#fdca26"
            ],
            [
             1,
             "#f0f921"
            ]
           ],
           "sequentialminus": [
            [
             0,
             "#0d0887"
            ],
            [
             0.1111111111111111,
             "#46039f"
            ],
            [
             0.2222222222222222,
             "#7201a8"
            ],
            [
             0.3333333333333333,
             "#9c179e"
            ],
            [
             0.4444444444444444,
             "#bd3786"
            ],
            [
             0.5555555555555556,
             "#d8576b"
            ],
            [
             0.6666666666666666,
             "#ed7953"
            ],
            [
             0.7777777777777778,
             "#fb9f3a"
            ],
            [
             0.8888888888888888,
             "#fdca26"
            ],
            [
             1,
             "#f0f921"
            ]
           ]
          },
          "colorway": [
           "#636efa",
           "#EF553B",
           "#00cc96",
           "#ab63fa",
           "#FFA15A",
           "#19d3f3",
           "#FF6692",
           "#B6E880",
           "#FF97FF",
           "#FECB52"
          ],
          "font": {
           "color": "#2a3f5f"
          },
          "geo": {
           "bgcolor": "white",
           "lakecolor": "white",
           "landcolor": "#E5ECF6",
           "showlakes": true,
           "showland": true,
           "subunitcolor": "white"
          },
          "hoverlabel": {
           "align": "left"
          },
          "hovermode": "closest",
          "mapbox": {
           "style": "light"
          },
          "paper_bgcolor": "white",
          "plot_bgcolor": "#E5ECF6",
          "polar": {
           "angularaxis": {
            "gridcolor": "white",
            "linecolor": "white",
            "ticks": ""
           },
           "bgcolor": "#E5ECF6",
           "radialaxis": {
            "gridcolor": "white",
            "linecolor": "white",
            "ticks": ""
           }
          },
          "scene": {
           "xaxis": {
            "backgroundcolor": "#E5ECF6",
            "gridcolor": "white",
            "gridwidth": 2,
            "linecolor": "white",
            "showbackground": true,
            "ticks": "",
            "zerolinecolor": "white"
           },
           "yaxis": {
            "backgroundcolor": "#E5ECF6",
            "gridcolor": "white",
            "gridwidth": 2,
            "linecolor": "white",
            "showbackground": true,
            "ticks": "",
            "zerolinecolor": "white"
           },
           "zaxis": {
            "backgroundcolor": "#E5ECF6",
            "gridcolor": "white",
            "gridwidth": 2,
            "linecolor": "white",
            "showbackground": true,
            "ticks": "",
            "zerolinecolor": "white"
           }
          },
          "shapedefaults": {
           "line": {
            "color": "#2a3f5f"
           }
          },
          "ternary": {
           "aaxis": {
            "gridcolor": "white",
            "linecolor": "white",
            "ticks": ""
           },
           "baxis": {
            "gridcolor": "white",
            "linecolor": "white",
            "ticks": ""
           },
           "bgcolor": "#E5ECF6",
           "caxis": {
            "gridcolor": "white",
            "linecolor": "white",
            "ticks": ""
           }
          },
          "title": {
           "x": 0.05
          },
          "xaxis": {
           "automargin": true,
           "gridcolor": "white",
           "linecolor": "white",
           "ticks": "",
           "title": {
            "standoff": 15
           },
           "zerolinecolor": "white",
           "zerolinewidth": 2
          },
          "yaxis": {
           "automargin": true,
           "gridcolor": "white",
           "linecolor": "white",
           "ticks": "",
           "title": {
            "standoff": 15
           },
           "zerolinecolor": "white",
           "zerolinewidth": 2
          }
         }
        },
        "title": {
         "text": "Quantity of each sold product line divided by gender"
        },
        "xaxis": {
         "anchor": "y",
         "domain": [
          0,
          1
         ],
         "title": {
          "text": "Product line"
         }
        },
        "yaxis": {
         "anchor": "x",
         "domain": [
          0,
          1
         ],
         "title": {
          "text": "sum of Quantity"
         }
        }
       }
      }
     },
     "metadata": {},
     "output_type": "display_data"
    }
   ],
   "source": [
    "fig = px.histogram(df, x=\"Product line\", y=\"Quantity\", color=\"Gender\" , barmode=\"group\", barnorm=None, \n",
    "                    title=\"Quantity of each sold product line divided by gender\")\n",
    "fig.show()"
   ]
  },
  {
   "cell_type": "code",
   "execution_count": null,
   "id": "e97cce7d",
   "metadata": {},
   "outputs": [
    {
     "data": {
      "text/html": [
       "<div>\n",
       "<style scoped>\n",
       "    .dataframe tbody tr th:only-of-type {\n",
       "        vertical-align: middle;\n",
       "    }\n",
       "\n",
       "    .dataframe tbody tr th {\n",
       "        vertical-align: top;\n",
       "    }\n",
       "\n",
       "    .dataframe thead th {\n",
       "        text-align: right;\n",
       "    }\n",
       "</style>\n",
       "<table border=\"1\" class=\"dataframe\">\n",
       "  <thead>\n",
       "    <tr style=\"text-align: right;\">\n",
       "      <th></th>\n",
       "      <th>Unit price</th>\n",
       "      <th>Quantity</th>\n",
       "      <th>Tax 5%</th>\n",
       "      <th>Total</th>\n",
       "      <th>cogs</th>\n",
       "      <th>gross margin percentage</th>\n",
       "      <th>gross income</th>\n",
       "      <th>Rating</th>\n",
       "    </tr>\n",
       "  </thead>\n",
       "  <tbody>\n",
       "    <tr>\n",
       "      <th>count</th>\n",
       "      <td>1000.000000</td>\n",
       "      <td>1000.000000</td>\n",
       "      <td>1000.000000</td>\n",
       "      <td>1000.000000</td>\n",
       "      <td>1000.00000</td>\n",
       "      <td>1.000000e+03</td>\n",
       "      <td>1000.000000</td>\n",
       "      <td>1000.00000</td>\n",
       "    </tr>\n",
       "    <tr>\n",
       "      <th>mean</th>\n",
       "      <td>55.672130</td>\n",
       "      <td>5.510000</td>\n",
       "      <td>15.379369</td>\n",
       "      <td>322.966749</td>\n",
       "      <td>307.58738</td>\n",
       "      <td>4.761905e+00</td>\n",
       "      <td>15.379369</td>\n",
       "      <td>6.97270</td>\n",
       "    </tr>\n",
       "    <tr>\n",
       "      <th>std</th>\n",
       "      <td>26.494628</td>\n",
       "      <td>2.923431</td>\n",
       "      <td>11.708825</td>\n",
       "      <td>245.885335</td>\n",
       "      <td>234.17651</td>\n",
       "      <td>6.131498e-14</td>\n",
       "      <td>11.708825</td>\n",
       "      <td>1.71858</td>\n",
       "    </tr>\n",
       "    <tr>\n",
       "      <th>min</th>\n",
       "      <td>10.080000</td>\n",
       "      <td>1.000000</td>\n",
       "      <td>0.508500</td>\n",
       "      <td>10.678500</td>\n",
       "      <td>10.17000</td>\n",
       "      <td>4.761905e+00</td>\n",
       "      <td>0.508500</td>\n",
       "      <td>4.00000</td>\n",
       "    </tr>\n",
       "    <tr>\n",
       "      <th>25%</th>\n",
       "      <td>32.875000</td>\n",
       "      <td>3.000000</td>\n",
       "      <td>5.924875</td>\n",
       "      <td>124.422375</td>\n",
       "      <td>118.49750</td>\n",
       "      <td>4.761905e+00</td>\n",
       "      <td>5.924875</td>\n",
       "      <td>5.50000</td>\n",
       "    </tr>\n",
       "    <tr>\n",
       "      <th>50%</th>\n",
       "      <td>55.230000</td>\n",
       "      <td>5.000000</td>\n",
       "      <td>12.088000</td>\n",
       "      <td>253.848000</td>\n",
       "      <td>241.76000</td>\n",
       "      <td>4.761905e+00</td>\n",
       "      <td>12.088000</td>\n",
       "      <td>7.00000</td>\n",
       "    </tr>\n",
       "    <tr>\n",
       "      <th>75%</th>\n",
       "      <td>77.935000</td>\n",
       "      <td>8.000000</td>\n",
       "      <td>22.445250</td>\n",
       "      <td>471.350250</td>\n",
       "      <td>448.90500</td>\n",
       "      <td>4.761905e+00</td>\n",
       "      <td>22.445250</td>\n",
       "      <td>8.50000</td>\n",
       "    </tr>\n",
       "    <tr>\n",
       "      <th>max</th>\n",
       "      <td>99.960000</td>\n",
       "      <td>10.000000</td>\n",
       "      <td>49.650000</td>\n",
       "      <td>1042.650000</td>\n",
       "      <td>993.00000</td>\n",
       "      <td>4.761905e+00</td>\n",
       "      <td>49.650000</td>\n",
       "      <td>10.00000</td>\n",
       "    </tr>\n",
       "  </tbody>\n",
       "</table>\n",
       "</div>"
      ],
      "text/plain": [
       "        Unit price     Quantity       Tax 5%        Total        cogs  \\\n",
       "count  1000.000000  1000.000000  1000.000000  1000.000000  1000.00000   \n",
       "mean     55.672130     5.510000    15.379369   322.966749   307.58738   \n",
       "std      26.494628     2.923431    11.708825   245.885335   234.17651   \n",
       "min      10.080000     1.000000     0.508500    10.678500    10.17000   \n",
       "25%      32.875000     3.000000     5.924875   124.422375   118.49750   \n",
       "50%      55.230000     5.000000    12.088000   253.848000   241.76000   \n",
       "75%      77.935000     8.000000    22.445250   471.350250   448.90500   \n",
       "max      99.960000    10.000000    49.650000  1042.650000   993.00000   \n",
       "\n",
       "       gross margin percentage  gross income      Rating  \n",
       "count             1.000000e+03   1000.000000  1000.00000  \n",
       "mean              4.761905e+00     15.379369     6.97270  \n",
       "std               6.131498e-14     11.708825     1.71858  \n",
       "min               4.761905e+00      0.508500     4.00000  \n",
       "25%               4.761905e+00      5.924875     5.50000  \n",
       "50%               4.761905e+00     12.088000     7.00000  \n",
       "75%               4.761905e+00     22.445250     8.50000  \n",
       "max               4.761905e+00     49.650000    10.00000  "
      ]
     },
     "execution_count": 9,
     "metadata": {},
     "output_type": "execute_result"
    }
   ],
   "source": [
    "df.describe()"
   ]
  },
  {
   "cell_type": "markdown",
   "id": "b195ffad",
   "metadata": {},
   "source": [
    "Apakah Kota dengan product line berhubungan?\n",
    "H0: City and Product line is not related\n",
    "H1: City and Product line is related\n",
    "Jenis Hypothesis: Chi Square"
   ]
  },
  {
   "cell_type": "code",
   "execution_count": 371,
   "id": "5f317a8a",
   "metadata": {},
   "outputs": [
    {
     "data": {
      "text/html": [
       "<div>\n",
       "<style scoped>\n",
       "    .dataframe tbody tr th:only-of-type {\n",
       "        vertical-align: middle;\n",
       "    }\n",
       "\n",
       "    .dataframe tbody tr th {\n",
       "        vertical-align: top;\n",
       "    }\n",
       "\n",
       "    .dataframe thead th {\n",
       "        text-align: right;\n",
       "    }\n",
       "</style>\n",
       "<table border=\"1\" class=\"dataframe\">\n",
       "  <thead>\n",
       "    <tr style=\"text-align: right;\">\n",
       "      <th>Product line</th>\n",
       "      <th>Electronic accessories</th>\n",
       "      <th>Fashion accessories</th>\n",
       "      <th>Food and beverages</th>\n",
       "      <th>Health and beauty</th>\n",
       "      <th>Home and lifestyle</th>\n",
       "      <th>Sports and travel</th>\n",
       "    </tr>\n",
       "    <tr>\n",
       "      <th>City</th>\n",
       "      <th></th>\n",
       "      <th></th>\n",
       "      <th></th>\n",
       "      <th></th>\n",
       "      <th></th>\n",
       "      <th></th>\n",
       "    </tr>\n",
       "  </thead>\n",
       "  <tbody>\n",
       "    <tr>\n",
       "      <th>Mandalay</th>\n",
       "      <td>55</td>\n",
       "      <td>62</td>\n",
       "      <td>50</td>\n",
       "      <td>53</td>\n",
       "      <td>50</td>\n",
       "      <td>62</td>\n",
       "    </tr>\n",
       "    <tr>\n",
       "      <th>Naypyitaw</th>\n",
       "      <td>55</td>\n",
       "      <td>65</td>\n",
       "      <td>66</td>\n",
       "      <td>52</td>\n",
       "      <td>45</td>\n",
       "      <td>45</td>\n",
       "    </tr>\n",
       "    <tr>\n",
       "      <th>Yangon</th>\n",
       "      <td>60</td>\n",
       "      <td>51</td>\n",
       "      <td>58</td>\n",
       "      <td>47</td>\n",
       "      <td>65</td>\n",
       "      <td>59</td>\n",
       "    </tr>\n",
       "  </tbody>\n",
       "</table>\n",
       "</div>"
      ],
      "text/plain": [
       "Product line  Electronic accessories  Fashion accessories  Food and beverages  \\\n",
       "City                                                                            \n",
       "Mandalay                          55                   62                  50   \n",
       "Naypyitaw                         55                   65                  66   \n",
       "Yangon                            60                   51                  58   \n",
       "\n",
       "Product line  Health and beauty  Home and lifestyle  Sports and travel  \n",
       "City                                                                    \n",
       "Mandalay                     53                  50                 62  \n",
       "Naypyitaw                    52                  45                 45  \n",
       "Yangon                       47                  65                 59  "
      ]
     },
     "execution_count": 371,
     "metadata": {},
     "output_type": "execute_result"
    }
   ],
   "source": [
    "contingency_table=pd.crosstab(df[\"City\"],df[\"Product line\"])\n",
    "contingency_table"
   ]
  },
  {
   "cell_type": "code",
   "execution_count": 368,
   "id": "7c85da47",
   "metadata": {},
   "outputs": [
    {
     "name": "stdout",
     "output_type": "stream",
     "text": [
      "stat=11.559, p=0.316\n",
      "Probably independent\n"
     ]
    }
   ],
   "source": [
    "stat, p, dof, expected = stats.chi2_contingency(contingency_table)\n",
    "print('stat=%.3f, p=%.3f' % (stat, p))\n",
    "if p > 0.05:\n",
    "    print('Probably independent')\n",
    "else:\n",
    "    print('Probably dependent')"
   ]
  },
  {
   "cell_type": "code",
   "execution_count": 8,
   "id": "4c45b0b6",
   "metadata": {},
   "outputs": [
    {
     "data": {
      "application/vnd.plotly.v1+json": {
       "config": {
        "plotlyServerURL": "https://plot.ly"
       },
       "data": [
        {
         "alignmentgroup": "True",
         "bingroup": "x",
         "histfunc": "sum",
         "hovertemplate": "City=Yangon<br>Product line=%{x}<br>sum of Quantity=%{y}<extra></extra>",
         "legendgroup": "Yangon",
         "marker": {
          "color": "#636efa",
          "pattern": {
           "shape": ""
          }
         },
         "name": "Yangon",
         "offsetgroup": "Yangon",
         "orientation": "v",
         "showlegend": true,
         "type": "histogram",
         "x": [
          "Health and beauty",
          "Home and lifestyle",
          "Health and beauty",
          "Sports and travel",
          "Electronic accessories",
          "Health and beauty",
          "Electronic accessories",
          "Food and beverages",
          "Health and beauty",
          "Health and beauty",
          "Sports and travel",
          "Food and beverages",
          "Electronic accessories",
          "Sports and travel",
          "Home and lifestyle",
          "Fashion accessories",
          "Health and beauty",
          "Health and beauty",
          "Sports and travel",
          "Electronic accessories",
          "Food and beverages",
          "Home and lifestyle",
          "Health and beauty",
          "Home and lifestyle",
          "Sports and travel",
          "Health and beauty",
          "Sports and travel",
          "Health and beauty",
          "Home and lifestyle",
          "Fashion accessories",
          "Food and beverages",
          "Sports and travel",
          "Sports and travel",
          "Electronic accessories",
          "Food and beverages",
          "Food and beverages",
          "Electronic accessories",
          "Sports and travel",
          "Home and lifestyle",
          "Food and beverages",
          "Electronic accessories",
          "Home and lifestyle",
          "Sports and travel",
          "Sports and travel",
          "Electronic accessories",
          "Home and lifestyle",
          "Sports and travel",
          "Home and lifestyle",
          "Fashion accessories",
          "Health and beauty",
          "Fashion accessories",
          "Food and beverages",
          "Sports and travel",
          "Food and beverages",
          "Fashion accessories",
          "Food and beverages",
          "Sports and travel",
          "Health and beauty",
          "Home and lifestyle",
          "Food and beverages",
          "Food and beverages",
          "Sports and travel",
          "Sports and travel",
          "Home and lifestyle",
          "Electronic accessories",
          "Home and lifestyle",
          "Health and beauty",
          "Electronic accessories",
          "Home and lifestyle",
          "Electronic accessories",
          "Food and beverages",
          "Home and lifestyle",
          "Health and beauty",
          "Sports and travel",
          "Fashion accessories",
          "Food and beverages",
          "Health and beauty",
          "Home and lifestyle",
          "Home and lifestyle",
          "Fashion accessories",
          "Electronic accessories",
          "Home and lifestyle",
          "Home and lifestyle",
          "Electronic accessories",
          "Home and lifestyle",
          "Electronic accessories",
          "Electronic accessories",
          "Sports and travel",
          "Sports and travel",
          "Home and lifestyle",
          "Home and lifestyle",
          "Home and lifestyle",
          "Home and lifestyle",
          "Sports and travel",
          "Home and lifestyle",
          "Sports and travel",
          "Health and beauty",
          "Health and beauty",
          "Home and lifestyle",
          "Electronic accessories",
          "Food and beverages",
          "Home and lifestyle",
          "Home and lifestyle",
          "Electronic accessories",
          "Electronic accessories",
          "Sports and travel",
          "Home and lifestyle",
          "Electronic accessories",
          "Fashion accessories",
          "Food and beverages",
          "Health and beauty",
          "Health and beauty",
          "Fashion accessories",
          "Home and lifestyle",
          "Food and beverages",
          "Electronic accessories",
          "Food and beverages",
          "Fashion accessories",
          "Food and beverages",
          "Electronic accessories",
          "Fashion accessories",
          "Sports and travel",
          "Fashion accessories",
          "Electronic accessories",
          "Electronic accessories",
          "Electronic accessories",
          "Food and beverages",
          "Home and lifestyle",
          "Home and lifestyle",
          "Electronic accessories",
          "Home and lifestyle",
          "Fashion accessories",
          "Sports and travel",
          "Food and beverages",
          "Health and beauty",
          "Electronic accessories",
          "Sports and travel",
          "Health and beauty",
          "Health and beauty",
          "Food and beverages",
          "Sports and travel",
          "Food and beverages",
          "Home and lifestyle",
          "Health and beauty",
          "Sports and travel",
          "Home and lifestyle",
          "Electronic accessories",
          "Health and beauty",
          "Home and lifestyle",
          "Electronic accessories",
          "Home and lifestyle",
          "Home and lifestyle",
          "Sports and travel",
          "Food and beverages",
          "Health and beauty",
          "Electronic accessories",
          "Food and beverages",
          "Sports and travel",
          "Fashion accessories",
          "Electronic accessories",
          "Health and beauty",
          "Sports and travel",
          "Electronic accessories",
          "Sports and travel",
          "Fashion accessories",
          "Fashion accessories",
          "Sports and travel",
          "Electronic accessories",
          "Home and lifestyle",
          "Fashion accessories",
          "Electronic accessories",
          "Home and lifestyle",
          "Home and lifestyle",
          "Food and beverages",
          "Sports and travel",
          "Sports and travel",
          "Health and beauty",
          "Fashion accessories",
          "Home and lifestyle",
          "Home and lifestyle",
          "Fashion accessories",
          "Home and lifestyle",
          "Fashion accessories",
          "Sports and travel",
          "Electronic accessories",
          "Electronic accessories",
          "Food and beverages",
          "Home and lifestyle",
          "Electronic accessories",
          "Food and beverages",
          "Fashion accessories",
          "Food and beverages",
          "Sports and travel",
          "Health and beauty",
          "Health and beauty",
          "Health and beauty",
          "Food and beverages",
          "Sports and travel",
          "Health and beauty",
          "Sports and travel",
          "Sports and travel",
          "Food and beverages",
          "Home and lifestyle",
          "Fashion accessories",
          "Fashion accessories",
          "Electronic accessories",
          "Food and beverages",
          "Sports and travel",
          "Food and beverages",
          "Food and beverages",
          "Food and beverages",
          "Sports and travel",
          "Home and lifestyle",
          "Fashion accessories",
          "Sports and travel",
          "Electronic accessories",
          "Food and beverages",
          "Health and beauty",
          "Home and lifestyle",
          "Home and lifestyle",
          "Electronic accessories",
          "Fashion accessories",
          "Sports and travel",
          "Fashion accessories",
          "Fashion accessories",
          "Fashion accessories",
          "Electronic accessories",
          "Food and beverages",
          "Food and beverages",
          "Fashion accessories",
          "Home and lifestyle",
          "Food and beverages",
          "Health and beauty",
          "Home and lifestyle",
          "Sports and travel",
          "Electronic accessories",
          "Sports and travel",
          "Food and beverages",
          "Health and beauty",
          "Fashion accessories",
          "Electronic accessories",
          "Fashion accessories",
          "Fashion accessories",
          "Health and beauty",
          "Fashion accessories",
          "Home and lifestyle",
          "Sports and travel",
          "Home and lifestyle",
          "Food and beverages",
          "Electronic accessories",
          "Fashion accessories",
          "Home and lifestyle",
          "Food and beverages",
          "Food and beverages",
          "Fashion accessories",
          "Health and beauty",
          "Health and beauty",
          "Home and lifestyle",
          "Sports and travel",
          "Fashion accessories",
          "Electronic accessories",
          "Sports and travel",
          "Fashion accessories",
          "Electronic accessories",
          "Electronic accessories",
          "Sports and travel",
          "Fashion accessories",
          "Home and lifestyle",
          "Sports and travel",
          "Electronic accessories",
          "Electronic accessories",
          "Electronic accessories",
          "Electronic accessories",
          "Food and beverages",
          "Home and lifestyle",
          "Health and beauty",
          "Sports and travel",
          "Fashion accessories",
          "Electronic accessories",
          "Electronic accessories",
          "Health and beauty",
          "Fashion accessories",
          "Fashion accessories",
          "Fashion accessories",
          "Sports and travel",
          "Fashion accessories",
          "Electronic accessories",
          "Electronic accessories",
          "Fashion accessories",
          "Fashion accessories",
          "Fashion accessories",
          "Health and beauty",
          "Home and lifestyle",
          "Food and beverages",
          "Sports and travel",
          "Electronic accessories",
          "Sports and travel",
          "Food and beverages",
          "Sports and travel",
          "Home and lifestyle",
          "Electronic accessories",
          "Home and lifestyle",
          "Food and beverages",
          "Sports and travel",
          "Food and beverages",
          "Electronic accessories",
          "Sports and travel",
          "Food and beverages",
          "Health and beauty",
          "Food and beverages",
          "Food and beverages",
          "Home and lifestyle",
          "Fashion accessories",
          "Food and beverages",
          "Fashion accessories",
          "Health and beauty",
          "Food and beverages",
          "Sports and travel",
          "Health and beauty",
          "Food and beverages",
          "Home and lifestyle",
          "Health and beauty",
          "Health and beauty",
          "Electronic accessories",
          "Fashion accessories",
          "Food and beverages",
          "Electronic accessories",
          "Fashion accessories",
          "Home and lifestyle",
          "Home and lifestyle",
          "Health and beauty",
          "Home and lifestyle",
          "Food and beverages",
          "Health and beauty",
          "Sports and travel",
          "Food and beverages",
          "Electronic accessories",
          "Food and beverages",
          "Home and lifestyle",
          "Fashion accessories"
         ],
         "xaxis": "x",
         "y": [
          7,
          7,
          8,
          7,
          6,
          2,
          5,
          10,
          10,
          7,
          6,
          3,
          5,
          3,
          8,
          2,
          9,
          2,
          5,
          9,
          5,
          2,
          8,
          10,
          10,
          10,
          10,
          1,
          9,
          9,
          7,
          1,
          7,
          1,
          3,
          6,
          10,
          6,
          9,
          10,
          8,
          7,
          5,
          6,
          5,
          6,
          8,
          6,
          10,
          8,
          9,
          5,
          1,
          7,
          10,
          6,
          7,
          5,
          9,
          8,
          6,
          10,
          7,
          1,
          5,
          1,
          9,
          9,
          1,
          3,
          2,
          8,
          10,
          2,
          1,
          9,
          2,
          4,
          8,
          5,
          4,
          4,
          8,
          1,
          6,
          4,
          9,
          10,
          7,
          4,
          10,
          9,
          2,
          10,
          8,
          1,
          6,
          4,
          7,
          1,
          2,
          6,
          4,
          4,
          7,
          7,
          8,
          3,
          2,
          5,
          9,
          6,
          5,
          6,
          5,
          4,
          3,
          5,
          2,
          5,
          9,
          3,
          9,
          1,
          7,
          7,
          8,
          6,
          4,
          9,
          5,
          5,
          4,
          5,
          10,
          1,
          10,
          1,
          5,
          5,
          4,
          5,
          4,
          5,
          3,
          8,
          7,
          7,
          10,
          6,
          6,
          9,
          7,
          5,
          1,
          4,
          5,
          4,
          10,
          5,
          3,
          5,
          1,
          5,
          4,
          10,
          8,
          8,
          5,
          7,
          7,
          2,
          6,
          6,
          5,
          9,
          6,
          8,
          5,
          1,
          4,
          3,
          10,
          9,
          6,
          7,
          6,
          3,
          6,
          10,
          9,
          7,
          5,
          4,
          4,
          4,
          3,
          5,
          5,
          1,
          3,
          3,
          2,
          7,
          1,
          1,
          10,
          9,
          6,
          3,
          1,
          2,
          3,
          1,
          10,
          3,
          2,
          7,
          9,
          10,
          3,
          3,
          5,
          1,
          4,
          10,
          10,
          4,
          6,
          2,
          10,
          3,
          10,
          5,
          4,
          9,
          3,
          6,
          5,
          7,
          3,
          3,
          4,
          3,
          1,
          9,
          2,
          2,
          5,
          10,
          8,
          6,
          10,
          4,
          8,
          5,
          4,
          6,
          4,
          1,
          7,
          7,
          1,
          7,
          2,
          10,
          9,
          4,
          2,
          4,
          10,
          1,
          8,
          8,
          2,
          3,
          4,
          3,
          10,
          8,
          1,
          1,
          5,
          3,
          2,
          1,
          3,
          1,
          6,
          1,
          2,
          5,
          4,
          9,
          2,
          3,
          4,
          7,
          6,
          4,
          8,
          6,
          2,
          7,
          1,
          10,
          10,
          9,
          5,
          7,
          2,
          8,
          8,
          3,
          4,
          9,
          10,
          5,
          3,
          4,
          10,
          5,
          7,
          7,
          7,
          9,
          2,
          1,
          9,
          3,
          3,
          3,
          4,
          4,
          9,
          5,
          2,
          1,
          1,
          7
         ],
         "yaxis": "y"
        },
        {
         "alignmentgroup": "True",
         "bingroup": "x",
         "histfunc": "sum",
         "hovertemplate": "City=Naypyitaw<br>Product line=%{x}<br>sum of Quantity=%{y}<extra></extra>",
         "legendgroup": "Naypyitaw",
         "marker": {
          "color": "#EF553B",
          "pattern": {
           "shape": ""
          }
         },
         "name": "Naypyitaw",
         "offsetgroup": "Naypyitaw",
         "orientation": "v",
         "showlegend": true,
         "type": "histogram",
         "x": [
          "Electronic accessories",
          "Electronic accessories",
          "Home and lifestyle",
          "Electronic accessories",
          "Food and beverages",
          "Sports and travel",
          "Health and beauty",
          "Home and lifestyle",
          "Food and beverages",
          "Health and beauty",
          "Fashion accessories",
          "Food and beverages",
          "Fashion accessories",
          "Electronic accessories",
          "Electronic accessories",
          "Sports and travel",
          "Home and lifestyle",
          "Health and beauty",
          "Food and beverages",
          "Fashion accessories",
          "Electronic accessories",
          "Electronic accessories",
          "Fashion accessories",
          "Food and beverages",
          "Health and beauty",
          "Health and beauty",
          "Food and beverages",
          "Food and beverages",
          "Sports and travel",
          "Sports and travel",
          "Fashion accessories",
          "Home and lifestyle",
          "Sports and travel",
          "Health and beauty",
          "Electronic accessories",
          "Fashion accessories",
          "Fashion accessories",
          "Electronic accessories",
          "Fashion accessories",
          "Food and beverages",
          "Electronic accessories",
          "Health and beauty",
          "Home and lifestyle",
          "Fashion accessories",
          "Sports and travel",
          "Home and lifestyle",
          "Fashion accessories",
          "Food and beverages",
          "Health and beauty",
          "Fashion accessories",
          "Sports and travel",
          "Health and beauty",
          "Health and beauty",
          "Food and beverages",
          "Health and beauty",
          "Health and beauty",
          "Sports and travel",
          "Food and beverages",
          "Sports and travel",
          "Food and beverages",
          "Sports and travel",
          "Home and lifestyle",
          "Electronic accessories",
          "Fashion accessories",
          "Health and beauty",
          "Fashion accessories",
          "Food and beverages",
          "Health and beauty",
          "Home and lifestyle",
          "Food and beverages",
          "Fashion accessories",
          "Health and beauty",
          "Health and beauty",
          "Food and beverages",
          "Sports and travel",
          "Electronic accessories",
          "Electronic accessories",
          "Home and lifestyle",
          "Food and beverages",
          "Electronic accessories",
          "Fashion accessories",
          "Sports and travel",
          "Electronic accessories",
          "Health and beauty",
          "Fashion accessories",
          "Fashion accessories",
          "Fashion accessories",
          "Sports and travel",
          "Electronic accessories",
          "Fashion accessories",
          "Home and lifestyle",
          "Health and beauty",
          "Home and lifestyle",
          "Fashion accessories",
          "Fashion accessories",
          "Home and lifestyle",
          "Home and lifestyle",
          "Sports and travel",
          "Electronic accessories",
          "Electronic accessories",
          "Electronic accessories",
          "Home and lifestyle",
          "Fashion accessories",
          "Food and beverages",
          "Fashion accessories",
          "Electronic accessories",
          "Food and beverages",
          "Food and beverages",
          "Electronic accessories",
          "Health and beauty",
          "Health and beauty",
          "Food and beverages",
          "Health and beauty",
          "Food and beverages",
          "Sports and travel",
          "Electronic accessories",
          "Food and beverages",
          "Home and lifestyle",
          "Fashion accessories",
          "Electronic accessories",
          "Fashion accessories",
          "Sports and travel",
          "Food and beverages",
          "Food and beverages",
          "Food and beverages",
          "Fashion accessories",
          "Electronic accessories",
          "Sports and travel",
          "Home and lifestyle",
          "Fashion accessories",
          "Sports and travel",
          "Fashion accessories",
          "Electronic accessories",
          "Food and beverages",
          "Food and beverages",
          "Fashion accessories",
          "Fashion accessories",
          "Food and beverages",
          "Home and lifestyle",
          "Home and lifestyle",
          "Fashion accessories",
          "Fashion accessories",
          "Home and lifestyle",
          "Health and beauty",
          "Food and beverages",
          "Electronic accessories",
          "Fashion accessories",
          "Fashion accessories",
          "Food and beverages",
          "Sports and travel",
          "Sports and travel",
          "Food and beverages",
          "Electronic accessories",
          "Food and beverages",
          "Fashion accessories",
          "Food and beverages",
          "Fashion accessories",
          "Electronic accessories",
          "Food and beverages",
          "Food and beverages",
          "Sports and travel",
          "Food and beverages",
          "Sports and travel",
          "Health and beauty",
          "Food and beverages",
          "Electronic accessories",
          "Home and lifestyle",
          "Electronic accessories",
          "Food and beverages",
          "Electronic accessories",
          "Sports and travel",
          "Home and lifestyle",
          "Home and lifestyle",
          "Electronic accessories",
          "Food and beverages",
          "Fashion accessories",
          "Home and lifestyle",
          "Home and lifestyle",
          "Sports and travel",
          "Fashion accessories",
          "Home and lifestyle",
          "Sports and travel",
          "Home and lifestyle",
          "Health and beauty",
          "Food and beverages",
          "Home and lifestyle",
          "Food and beverages",
          "Health and beauty",
          "Electronic accessories",
          "Electronic accessories",
          "Food and beverages",
          "Food and beverages",
          "Sports and travel",
          "Sports and travel",
          "Food and beverages",
          "Food and beverages",
          "Fashion accessories",
          "Fashion accessories",
          "Health and beauty",
          "Home and lifestyle",
          "Sports and travel",
          "Fashion accessories",
          "Electronic accessories",
          "Fashion accessories",
          "Food and beverages",
          "Fashion accessories",
          "Food and beverages",
          "Food and beverages",
          "Sports and travel",
          "Electronic accessories",
          "Fashion accessories",
          "Electronic accessories",
          "Electronic accessories",
          "Food and beverages",
          "Electronic accessories",
          "Health and beauty",
          "Sports and travel",
          "Electronic accessories",
          "Electronic accessories",
          "Sports and travel",
          "Food and beverages",
          "Sports and travel",
          "Health and beauty",
          "Health and beauty",
          "Health and beauty",
          "Fashion accessories",
          "Sports and travel",
          "Sports and travel",
          "Food and beverages",
          "Fashion accessories",
          "Food and beverages",
          "Home and lifestyle",
          "Fashion accessories",
          "Food and beverages",
          "Fashion accessories",
          "Home and lifestyle",
          "Electronic accessories",
          "Health and beauty",
          "Fashion accessories",
          "Sports and travel",
          "Food and beverages",
          "Health and beauty",
          "Home and lifestyle",
          "Fashion accessories",
          "Health and beauty",
          "Home and lifestyle",
          "Electronic accessories",
          "Home and lifestyle",
          "Food and beverages",
          "Sports and travel",
          "Food and beverages",
          "Home and lifestyle",
          "Health and beauty",
          "Fashion accessories",
          "Fashion accessories",
          "Health and beauty",
          "Sports and travel",
          "Food and beverages",
          "Food and beverages",
          "Health and beauty",
          "Sports and travel",
          "Health and beauty",
          "Home and lifestyle",
          "Health and beauty",
          "Electronic accessories",
          "Health and beauty",
          "Health and beauty",
          "Health and beauty",
          "Home and lifestyle",
          "Home and lifestyle",
          "Electronic accessories",
          "Fashion accessories",
          "Fashion accessories",
          "Sports and travel",
          "Fashion accessories",
          "Sports and travel",
          "Electronic accessories",
          "Electronic accessories",
          "Sports and travel",
          "Food and beverages",
          "Sports and travel",
          "Food and beverages",
          "Health and beauty",
          "Home and lifestyle",
          "Health and beauty",
          "Health and beauty",
          "Food and beverages",
          "Fashion accessories",
          "Home and lifestyle",
          "Fashion accessories",
          "Fashion accessories",
          "Fashion accessories",
          "Health and beauty",
          "Fashion accessories",
          "Fashion accessories",
          "Food and beverages",
          "Health and beauty",
          "Electronic accessories",
          "Health and beauty",
          "Home and lifestyle",
          "Health and beauty",
          "Electronic accessories",
          "Electronic accessories",
          "Sports and travel",
          "Home and lifestyle",
          "Home and lifestyle",
          "Sports and travel",
          "Sports and travel",
          "Fashion accessories",
          "Health and beauty",
          "Home and lifestyle",
          "Health and beauty",
          "Food and beverages",
          "Fashion accessories",
          "Electronic accessories",
          "Home and lifestyle",
          "Food and beverages",
          "Food and beverages",
          "Home and lifestyle",
          "Fashion accessories",
          "Electronic accessories",
          "Fashion accessories",
          "Food and beverages",
          "Health and beauty",
          "Electronic accessories",
          "Electronic accessories",
          "Electronic accessories",
          "Health and beauty"
         ],
         "xaxis": "x",
         "y": [
          5,
          7,
          10,
          5,
          4,
          1,
          8,
          2,
          8,
          2,
          10,
          7,
          1,
          8,
          6,
          3,
          6,
          2,
          10,
          10,
          6,
          10,
          9,
          10,
          5,
          6,
          8,
          4,
          5,
          7,
          5,
          4,
          10,
          1,
          6,
          1,
          9,
          9,
          6,
          9,
          10,
          3,
          9,
          3,
          7,
          8,
          9,
          8,
          6,
          3,
          10,
          10,
          10,
          1,
          6,
          4,
          7,
          6,
          8,
          8,
          2,
          10,
          8,
          7,
          3,
          7,
          8,
          8,
          4,
          9,
          1,
          2,
          4,
          5,
          6,
          7,
          9,
          10,
          9,
          5,
          1,
          2,
          4,
          5,
          5,
          2,
          10,
          2,
          4,
          4,
          4,
          2,
          10,
          4,
          10,
          1,
          1,
          9,
          7,
          5,
          4,
          1,
          2,
          1,
          2,
          10,
          2,
          3,
          5,
          7,
          4,
          9,
          1,
          4,
          5,
          3,
          5,
          8,
          10,
          1,
          10,
          10,
          8,
          2,
          4,
          4,
          9,
          10,
          6,
          6,
          7,
          4,
          2,
          4,
          6,
          9,
          3,
          6,
          4,
          1,
          7,
          5,
          4,
          1,
          3,
          3,
          10,
          1,
          2,
          9,
          4,
          4,
          8,
          5,
          1,
          10,
          3,
          10,
          1,
          5,
          4,
          1,
          10,
          7,
          1,
          1,
          6,
          4,
          8,
          10,
          10,
          1,
          10,
          2,
          6,
          1,
          2,
          6,
          7,
          1,
          5,
          5,
          6,
          2,
          9,
          7,
          6,
          1,
          6,
          6,
          10,
          10,
          10,
          7,
          4,
          3,
          2,
          10,
          6,
          7,
          9,
          5,
          1,
          1,
          10,
          7,
          4,
          9,
          1,
          5,
          6,
          1,
          8,
          8,
          5,
          6,
          2,
          10,
          1,
          7,
          10,
          2,
          6,
          8,
          10,
          6,
          2,
          9,
          7,
          7,
          9,
          10,
          8,
          1,
          8,
          4,
          9,
          9,
          8,
          9,
          7,
          8,
          3,
          4,
          10,
          7,
          10,
          7,
          1,
          8,
          1,
          5,
          7,
          3,
          3,
          7,
          7,
          1,
          2,
          7,
          5,
          8,
          8,
          5,
          8,
          5,
          3,
          4,
          1,
          5,
          8,
          7,
          10,
          5,
          7,
          1,
          10,
          10,
          6,
          2,
          1,
          9,
          7,
          1,
          3,
          2,
          3,
          1,
          8,
          1,
          8,
          8,
          5,
          5,
          7,
          6,
          7,
          9,
          2,
          4,
          10,
          4,
          6,
          1,
          9,
          2,
          7,
          6,
          2,
          7,
          3,
          7,
          6,
          9,
          2,
          5,
          4,
          9,
          10,
          1,
          3,
          2,
          4,
          7,
          7,
          10,
          1,
          1
         ],
         "yaxis": "y"
        },
        {
         "alignmentgroup": "True",
         "bingroup": "x",
         "histfunc": "sum",
         "hovertemplate": "City=Mandalay<br>Product line=%{x}<br>sum of Quantity=%{y}<extra></extra>",
         "legendgroup": "Mandalay",
         "marker": {
          "color": "#00cc96",
          "pattern": {
           "shape": ""
          }
         },
         "name": "Mandalay",
         "offsetgroup": "Mandalay",
         "orientation": "v",
         "showlegend": true,
         "type": "histogram",
         "x": [
          "Food and beverages",
          "Fashion accessories",
          "Electronic accessories",
          "Sports and travel",
          "Home and lifestyle",
          "Health and beauty",
          "Home and lifestyle",
          "Fashion accessories",
          "Food and beverages",
          "Fashion accessories",
          "Sports and travel",
          "Sports and travel",
          "Home and lifestyle",
          "Home and lifestyle",
          "Sports and travel",
          "Electronic accessories",
          "Health and beauty",
          "Food and beverages",
          "Electronic accessories",
          "Fashion accessories",
          "Home and lifestyle",
          "Sports and travel",
          "Health and beauty",
          "Fashion accessories",
          "Food and beverages",
          "Food and beverages",
          "Health and beauty",
          "Health and beauty",
          "Health and beauty",
          "Home and lifestyle",
          "Health and beauty",
          "Sports and travel",
          "Fashion accessories",
          "Fashion accessories",
          "Fashion accessories",
          "Home and lifestyle",
          "Sports and travel",
          "Fashion accessories",
          "Sports and travel",
          "Fashion accessories",
          "Sports and travel",
          "Electronic accessories",
          "Sports and travel",
          "Home and lifestyle",
          "Fashion accessories",
          "Electronic accessories",
          "Home and lifestyle",
          "Health and beauty",
          "Sports and travel",
          "Food and beverages",
          "Health and beauty",
          "Food and beverages",
          "Electronic accessories",
          "Food and beverages",
          "Food and beverages",
          "Home and lifestyle",
          "Home and lifestyle",
          "Home and lifestyle",
          "Fashion accessories",
          "Home and lifestyle",
          "Electronic accessories",
          "Health and beauty",
          "Home and lifestyle",
          "Fashion accessories",
          "Electronic accessories",
          "Home and lifestyle",
          "Sports and travel",
          "Sports and travel",
          "Sports and travel",
          "Fashion accessories",
          "Food and beverages",
          "Electronic accessories",
          "Food and beverages",
          "Health and beauty",
          "Electronic accessories",
          "Fashion accessories",
          "Electronic accessories",
          "Health and beauty",
          "Fashion accessories",
          "Electronic accessories",
          "Home and lifestyle",
          "Electronic accessories",
          "Food and beverages",
          "Food and beverages",
          "Fashion accessories",
          "Fashion accessories",
          "Sports and travel",
          "Food and beverages",
          "Sports and travel",
          "Health and beauty",
          "Fashion accessories",
          "Health and beauty",
          "Food and beverages",
          "Electronic accessories",
          "Health and beauty",
          "Health and beauty",
          "Electronic accessories",
          "Sports and travel",
          "Sports and travel",
          "Health and beauty",
          "Home and lifestyle",
          "Sports and travel",
          "Food and beverages",
          "Electronic accessories",
          "Health and beauty",
          "Health and beauty",
          "Health and beauty",
          "Fashion accessories",
          "Home and lifestyle",
          "Food and beverages",
          "Electronic accessories",
          "Sports and travel",
          "Electronic accessories",
          "Fashion accessories",
          "Home and lifestyle",
          "Electronic accessories",
          "Food and beverages",
          "Sports and travel",
          "Food and beverages",
          "Fashion accessories",
          "Home and lifestyle",
          "Health and beauty",
          "Electronic accessories",
          "Fashion accessories",
          "Fashion accessories",
          "Health and beauty",
          "Sports and travel",
          "Health and beauty",
          "Health and beauty",
          "Fashion accessories",
          "Fashion accessories",
          "Food and beverages",
          "Sports and travel",
          "Fashion accessories",
          "Fashion accessories",
          "Fashion accessories",
          "Sports and travel",
          "Health and beauty",
          "Health and beauty",
          "Sports and travel",
          "Electronic accessories",
          "Electronic accessories",
          "Fashion accessories",
          "Food and beverages",
          "Electronic accessories",
          "Food and beverages",
          "Sports and travel",
          "Health and beauty",
          "Sports and travel",
          "Home and lifestyle",
          "Sports and travel",
          "Fashion accessories",
          "Home and lifestyle",
          "Fashion accessories",
          "Health and beauty",
          "Fashion accessories",
          "Sports and travel",
          "Sports and travel",
          "Sports and travel",
          "Sports and travel",
          "Sports and travel",
          "Sports and travel",
          "Food and beverages",
          "Health and beauty",
          "Sports and travel",
          "Health and beauty",
          "Electronic accessories",
          "Fashion accessories",
          "Fashion accessories",
          "Food and beverages",
          "Electronic accessories",
          "Fashion accessories",
          "Sports and travel",
          "Food and beverages",
          "Home and lifestyle",
          "Sports and travel",
          "Fashion accessories",
          "Fashion accessories",
          "Health and beauty",
          "Home and lifestyle",
          "Fashion accessories",
          "Electronic accessories",
          "Electronic accessories",
          "Fashion accessories",
          "Fashion accessories",
          "Home and lifestyle",
          "Sports and travel",
          "Food and beverages",
          "Fashion accessories",
          "Food and beverages",
          "Health and beauty",
          "Fashion accessories",
          "Sports and travel",
          "Sports and travel",
          "Health and beauty",
          "Sports and travel",
          "Home and lifestyle",
          "Food and beverages",
          "Fashion accessories",
          "Sports and travel",
          "Home and lifestyle",
          "Fashion accessories",
          "Fashion accessories",
          "Food and beverages",
          "Health and beauty",
          "Home and lifestyle",
          "Food and beverages",
          "Health and beauty",
          "Food and beverages",
          "Fashion accessories",
          "Food and beverages",
          "Electronic accessories",
          "Fashion accessories",
          "Electronic accessories",
          "Health and beauty",
          "Sports and travel",
          "Fashion accessories",
          "Sports and travel",
          "Fashion accessories",
          "Food and beverages",
          "Health and beauty",
          "Sports and travel",
          "Food and beverages",
          "Health and beauty",
          "Fashion accessories",
          "Sports and travel",
          "Electronic accessories",
          "Sports and travel",
          "Sports and travel",
          "Home and lifestyle",
          "Sports and travel",
          "Home and lifestyle",
          "Food and beverages",
          "Fashion accessories",
          "Health and beauty",
          "Home and lifestyle",
          "Health and beauty",
          "Electronic accessories",
          "Fashion accessories",
          "Fashion accessories",
          "Home and lifestyle",
          "Food and beverages",
          "Sports and travel",
          "Home and lifestyle",
          "Electronic accessories",
          "Food and beverages",
          "Electronic accessories",
          "Fashion accessories",
          "Home and lifestyle",
          "Fashion accessories",
          "Home and lifestyle",
          "Electronic accessories",
          "Food and beverages",
          "Electronic accessories",
          "Home and lifestyle",
          "Sports and travel",
          "Electronic accessories",
          "Sports and travel",
          "Food and beverages",
          "Sports and travel",
          "Electronic accessories",
          "Home and lifestyle",
          "Fashion accessories",
          "Health and beauty",
          "Sports and travel",
          "Electronic accessories",
          "Health and beauty",
          "Health and beauty",
          "Food and beverages",
          "Health and beauty",
          "Food and beverages",
          "Electronic accessories",
          "Sports and travel",
          "Health and beauty",
          "Health and beauty",
          "Sports and travel",
          "Home and lifestyle",
          "Sports and travel",
          "Electronic accessories",
          "Electronic accessories",
          "Fashion accessories",
          "Food and beverages",
          "Health and beauty",
          "Home and lifestyle",
          "Home and lifestyle",
          "Sports and travel",
          "Electronic accessories",
          "Electronic accessories",
          "Electronic accessories",
          "Food and beverages",
          "Sports and travel",
          "Electronic accessories",
          "Electronic accessories",
          "Electronic accessories",
          "Health and beauty",
          "Home and lifestyle",
          "Health and beauty",
          "Home and lifestyle",
          "Food and beverages",
          "Home and lifestyle",
          "Electronic accessories",
          "Home and lifestyle",
          "Electronic accessories",
          "Sports and travel",
          "Electronic accessories",
          "Sports and travel",
          "Home and lifestyle",
          "Home and lifestyle",
          "Fashion accessories",
          "Food and beverages",
          "Health and beauty",
          "Home and lifestyle",
          "Food and beverages",
          "Home and lifestyle",
          "Electronic accessories",
          "Food and beverages",
          "Electronic accessories",
          "Electronic accessories",
          "Food and beverages",
          "Home and lifestyle",
          "Electronic accessories",
          "Fashion accessories",
          "Food and beverages",
          "Electronic accessories",
          "Food and beverages",
          "Fashion accessories",
          "Health and beauty",
          "Health and beauty",
          "Health and beauty",
          "Sports and travel",
          "Fashion accessories",
          "Home and lifestyle"
         ],
         "xaxis": "x",
         "y": [
          3,
          4,
          4,
          6,
          2,
          3,
          2,
          1,
          5,
          5,
          9,
          8,
          8,
          1,
          6,
          4,
          9,
          9,
          6,
          4,
          2,
          9,
          4,
          6,
          3,
          3,
          6,
          9,
          10,
          6,
          7,
          2,
          7,
          5,
          1,
          2,
          9,
          8,
          9,
          7,
          4,
          6,
          10,
          8,
          4,
          1,
          5,
          9,
          6,
          10,
          8,
          5,
          6,
          8,
          3,
          8,
          4,
          3,
          2,
          4,
          4,
          10,
          5,
          3,
          9,
          5,
          3,
          7,
          5,
          8,
          3,
          6,
          7,
          9,
          6,
          2,
          3,
          9,
          4,
          5,
          8,
          3,
          7,
          9,
          4,
          4,
          1,
          10,
          5,
          6,
          7,
          5,
          7,
          10,
          10,
          1,
          8,
          6,
          4,
          4,
          9,
          6,
          9,
          3,
          7,
          7,
          10,
          7,
          9,
          4,
          3,
          1,
          7,
          2,
          9,
          4,
          5,
          1,
          7,
          10,
          9,
          6,
          9,
          5,
          4,
          10,
          2,
          1,
          2,
          8,
          9,
          3,
          5,
          2,
          7,
          1,
          8,
          1,
          1,
          1,
          6,
          6,
          5,
          9,
          10,
          10,
          6,
          8,
          10,
          10,
          4,
          10,
          9,
          2,
          8,
          2,
          8,
          1,
          1,
          2,
          1,
          3,
          6,
          5,
          7,
          5,
          3,
          4,
          2,
          10,
          10,
          1,
          4,
          1,
          4,
          5,
          3,
          9,
          9,
          3,
          2,
          9,
          8,
          2,
          7,
          5,
          10,
          2,
          7,
          4,
          2,
          4,
          3,
          3,
          3,
          6,
          4,
          2,
          3,
          6,
          7,
          10,
          1,
          2,
          10,
          3,
          3,
          10,
          5,
          3,
          3,
          2,
          1,
          5,
          6,
          9,
          4,
          3,
          6,
          3,
          4,
          2,
          2,
          3,
          2,
          7,
          1,
          1,
          6,
          2,
          2,
          4,
          3,
          10,
          9,
          9,
          7,
          4,
          6,
          7,
          3,
          4,
          10,
          7,
          7,
          1,
          8,
          10,
          9,
          4,
          5,
          8,
          10,
          10,
          8,
          6,
          4,
          4,
          5,
          1,
          9,
          10,
          2,
          1,
          6,
          9,
          1,
          8,
          8,
          4,
          5,
          4,
          7,
          9,
          4,
          8,
          7,
          6,
          1,
          10,
          9,
          8,
          6,
          9,
          7,
          8,
          10,
          1,
          8,
          10,
          10,
          8,
          5,
          6,
          8,
          4,
          5,
          10,
          3,
          3,
          3,
          6,
          4,
          1,
          9,
          2,
          6,
          6,
          1,
          8,
          3,
          3,
          4,
          6,
          6,
          2,
          2,
          5,
          10,
          7,
          7,
          2,
          6,
          1,
          1,
          5,
          2,
          8,
          8,
          10,
          10,
          10
         ],
         "yaxis": "y"
        }
       ],
       "layout": {
        "barmode": "group",
        "legend": {
         "title": {
          "text": "City"
         },
         "tracegroupgap": 0
        },
        "margin": {
         "t": 60
        },
        "template": {
         "data": {
          "bar": [
           {
            "error_x": {
             "color": "#2a3f5f"
            },
            "error_y": {
             "color": "#2a3f5f"
            },
            "marker": {
             "line": {
              "color": "#E5ECF6",
              "width": 0.5
             },
             "pattern": {
              "fillmode": "overlay",
              "size": 10,
              "solidity": 0.2
             }
            },
            "type": "bar"
           }
          ],
          "barpolar": [
           {
            "marker": {
             "line": {
              "color": "#E5ECF6",
              "width": 0.5
             },
             "pattern": {
              "fillmode": "overlay",
              "size": 10,
              "solidity": 0.2
             }
            },
            "type": "barpolar"
           }
          ],
          "carpet": [
           {
            "aaxis": {
             "endlinecolor": "#2a3f5f",
             "gridcolor": "white",
             "linecolor": "white",
             "minorgridcolor": "white",
             "startlinecolor": "#2a3f5f"
            },
            "baxis": {
             "endlinecolor": "#2a3f5f",
             "gridcolor": "white",
             "linecolor": "white",
             "minorgridcolor": "white",
             "startlinecolor": "#2a3f5f"
            },
            "type": "carpet"
           }
          ],
          "choropleth": [
           {
            "colorbar": {
             "outlinewidth": 0,
             "ticks": ""
            },
            "type": "choropleth"
           }
          ],
          "contour": [
           {
            "colorbar": {
             "outlinewidth": 0,
             "ticks": ""
            },
            "colorscale": [
             [
              0,
              "#0d0887"
             ],
             [
              0.1111111111111111,
              "#46039f"
             ],
             [
              0.2222222222222222,
              "#7201a8"
             ],
             [
              0.3333333333333333,
              "#9c179e"
             ],
             [
              0.4444444444444444,
              "#bd3786"
             ],
             [
              0.5555555555555556,
              "#d8576b"
             ],
             [
              0.6666666666666666,
              "#ed7953"
             ],
             [
              0.7777777777777778,
              "#fb9f3a"
             ],
             [
              0.8888888888888888,
              "#fdca26"
             ],
             [
              1,
              "#f0f921"
             ]
            ],
            "type": "contour"
           }
          ],
          "contourcarpet": [
           {
            "colorbar": {
             "outlinewidth": 0,
             "ticks": ""
            },
            "type": "contourcarpet"
           }
          ],
          "heatmap": [
           {
            "colorbar": {
             "outlinewidth": 0,
             "ticks": ""
            },
            "colorscale": [
             [
              0,
              "#0d0887"
             ],
             [
              0.1111111111111111,
              "#46039f"
             ],
             [
              0.2222222222222222,
              "#7201a8"
             ],
             [
              0.3333333333333333,
              "#9c179e"
             ],
             [
              0.4444444444444444,
              "#bd3786"
             ],
             [
              0.5555555555555556,
              "#d8576b"
             ],
             [
              0.6666666666666666,
              "#ed7953"
             ],
             [
              0.7777777777777778,
              "#fb9f3a"
             ],
             [
              0.8888888888888888,
              "#fdca26"
             ],
             [
              1,
              "#f0f921"
             ]
            ],
            "type": "heatmap"
           }
          ],
          "heatmapgl": [
           {
            "colorbar": {
             "outlinewidth": 0,
             "ticks": ""
            },
            "colorscale": [
             [
              0,
              "#0d0887"
             ],
             [
              0.1111111111111111,
              "#46039f"
             ],
             [
              0.2222222222222222,
              "#7201a8"
             ],
             [
              0.3333333333333333,
              "#9c179e"
             ],
             [
              0.4444444444444444,
              "#bd3786"
             ],
             [
              0.5555555555555556,
              "#d8576b"
             ],
             [
              0.6666666666666666,
              "#ed7953"
             ],
             [
              0.7777777777777778,
              "#fb9f3a"
             ],
             [
              0.8888888888888888,
              "#fdca26"
             ],
             [
              1,
              "#f0f921"
             ]
            ],
            "type": "heatmapgl"
           }
          ],
          "histogram": [
           {
            "marker": {
             "pattern": {
              "fillmode": "overlay",
              "size": 10,
              "solidity": 0.2
             }
            },
            "type": "histogram"
           }
          ],
          "histogram2d": [
           {
            "colorbar": {
             "outlinewidth": 0,
             "ticks": ""
            },
            "colorscale": [
             [
              0,
              "#0d0887"
             ],
             [
              0.1111111111111111,
              "#46039f"
             ],
             [
              0.2222222222222222,
              "#7201a8"
             ],
             [
              0.3333333333333333,
              "#9c179e"
             ],
             [
              0.4444444444444444,
              "#bd3786"
             ],
             [
              0.5555555555555556,
              "#d8576b"
             ],
             [
              0.6666666666666666,
              "#ed7953"
             ],
             [
              0.7777777777777778,
              "#fb9f3a"
             ],
             [
              0.8888888888888888,
              "#fdca26"
             ],
             [
              1,
              "#f0f921"
             ]
            ],
            "type": "histogram2d"
           }
          ],
          "histogram2dcontour": [
           {
            "colorbar": {
             "outlinewidth": 0,
             "ticks": ""
            },
            "colorscale": [
             [
              0,
              "#0d0887"
             ],
             [
              0.1111111111111111,
              "#46039f"
             ],
             [
              0.2222222222222222,
              "#7201a8"
             ],
             [
              0.3333333333333333,
              "#9c179e"
             ],
             [
              0.4444444444444444,
              "#bd3786"
             ],
             [
              0.5555555555555556,
              "#d8576b"
             ],
             [
              0.6666666666666666,
              "#ed7953"
             ],
             [
              0.7777777777777778,
              "#fb9f3a"
             ],
             [
              0.8888888888888888,
              "#fdca26"
             ],
             [
              1,
              "#f0f921"
             ]
            ],
            "type": "histogram2dcontour"
           }
          ],
          "mesh3d": [
           {
            "colorbar": {
             "outlinewidth": 0,
             "ticks": ""
            },
            "type": "mesh3d"
           }
          ],
          "parcoords": [
           {
            "line": {
             "colorbar": {
              "outlinewidth": 0,
              "ticks": ""
             }
            },
            "type": "parcoords"
           }
          ],
          "pie": [
           {
            "automargin": true,
            "type": "pie"
           }
          ],
          "scatter": [
           {
            "marker": {
             "colorbar": {
              "outlinewidth": 0,
              "ticks": ""
             }
            },
            "type": "scatter"
           }
          ],
          "scatter3d": [
           {
            "line": {
             "colorbar": {
              "outlinewidth": 0,
              "ticks": ""
             }
            },
            "marker": {
             "colorbar": {
              "outlinewidth": 0,
              "ticks": ""
             }
            },
            "type": "scatter3d"
           }
          ],
          "scattercarpet": [
           {
            "marker": {
             "colorbar": {
              "outlinewidth": 0,
              "ticks": ""
             }
            },
            "type": "scattercarpet"
           }
          ],
          "scattergeo": [
           {
            "marker": {
             "colorbar": {
              "outlinewidth": 0,
              "ticks": ""
             }
            },
            "type": "scattergeo"
           }
          ],
          "scattergl": [
           {
            "marker": {
             "colorbar": {
              "outlinewidth": 0,
              "ticks": ""
             }
            },
            "type": "scattergl"
           }
          ],
          "scattermapbox": [
           {
            "marker": {
             "colorbar": {
              "outlinewidth": 0,
              "ticks": ""
             }
            },
            "type": "scattermapbox"
           }
          ],
          "scatterpolar": [
           {
            "marker": {
             "colorbar": {
              "outlinewidth": 0,
              "ticks": ""
             }
            },
            "type": "scatterpolar"
           }
          ],
          "scatterpolargl": [
           {
            "marker": {
             "colorbar": {
              "outlinewidth": 0,
              "ticks": ""
             }
            },
            "type": "scatterpolargl"
           }
          ],
          "scatterternary": [
           {
            "marker": {
             "colorbar": {
              "outlinewidth": 0,
              "ticks": ""
             }
            },
            "type": "scatterternary"
           }
          ],
          "surface": [
           {
            "colorbar": {
             "outlinewidth": 0,
             "ticks": ""
            },
            "colorscale": [
             [
              0,
              "#0d0887"
             ],
             [
              0.1111111111111111,
              "#46039f"
             ],
             [
              0.2222222222222222,
              "#7201a8"
             ],
             [
              0.3333333333333333,
              "#9c179e"
             ],
             [
              0.4444444444444444,
              "#bd3786"
             ],
             [
              0.5555555555555556,
              "#d8576b"
             ],
             [
              0.6666666666666666,
              "#ed7953"
             ],
             [
              0.7777777777777778,
              "#fb9f3a"
             ],
             [
              0.8888888888888888,
              "#fdca26"
             ],
             [
              1,
              "#f0f921"
             ]
            ],
            "type": "surface"
           }
          ],
          "table": [
           {
            "cells": {
             "fill": {
              "color": "#EBF0F8"
             },
             "line": {
              "color": "white"
             }
            },
            "header": {
             "fill": {
              "color": "#C8D4E3"
             },
             "line": {
              "color": "white"
             }
            },
            "type": "table"
           }
          ]
         },
         "layout": {
          "annotationdefaults": {
           "arrowcolor": "#2a3f5f",
           "arrowhead": 0,
           "arrowwidth": 1
          },
          "autotypenumbers": "strict",
          "coloraxis": {
           "colorbar": {
            "outlinewidth": 0,
            "ticks": ""
           }
          },
          "colorscale": {
           "diverging": [
            [
             0,
             "#8e0152"
            ],
            [
             0.1,
             "#c51b7d"
            ],
            [
             0.2,
             "#de77ae"
            ],
            [
             0.3,
             "#f1b6da"
            ],
            [
             0.4,
             "#fde0ef"
            ],
            [
             0.5,
             "#f7f7f7"
            ],
            [
             0.6,
             "#e6f5d0"
            ],
            [
             0.7,
             "#b8e186"
            ],
            [
             0.8,
             "#7fbc41"
            ],
            [
             0.9,
             "#4d9221"
            ],
            [
             1,
             "#276419"
            ]
           ],
           "sequential": [
            [
             0,
             "#0d0887"
            ],
            [
             0.1111111111111111,
             "#46039f"
            ],
            [
             0.2222222222222222,
             "#7201a8"
            ],
            [
             0.3333333333333333,
             "#9c179e"
            ],
            [
             0.4444444444444444,
             "#bd3786"
            ],
            [
             0.5555555555555556,
             "#d8576b"
            ],
            [
             0.6666666666666666,
             "#ed7953"
            ],
            [
             0.7777777777777778,
             "#fb9f3a"
            ],
            [
             0.8888888888888888,
             "#fdca26"
            ],
            [
             1,
             "#f0f921"
            ]
           ],
           "sequentialminus": [
            [
             0,
             "#0d0887"
            ],
            [
             0.1111111111111111,
             "#46039f"
            ],
            [
             0.2222222222222222,
             "#7201a8"
            ],
            [
             0.3333333333333333,
             "#9c179e"
            ],
            [
             0.4444444444444444,
             "#bd3786"
            ],
            [
             0.5555555555555556,
             "#d8576b"
            ],
            [
             0.6666666666666666,
             "#ed7953"
            ],
            [
             0.7777777777777778,
             "#fb9f3a"
            ],
            [
             0.8888888888888888,
             "#fdca26"
            ],
            [
             1,
             "#f0f921"
            ]
           ]
          },
          "colorway": [
           "#636efa",
           "#EF553B",
           "#00cc96",
           "#ab63fa",
           "#FFA15A",
           "#19d3f3",
           "#FF6692",
           "#B6E880",
           "#FF97FF",
           "#FECB52"
          ],
          "font": {
           "color": "#2a3f5f"
          },
          "geo": {
           "bgcolor": "white",
           "lakecolor": "white",
           "landcolor": "#E5ECF6",
           "showlakes": true,
           "showland": true,
           "subunitcolor": "white"
          },
          "hoverlabel": {
           "align": "left"
          },
          "hovermode": "closest",
          "mapbox": {
           "style": "light"
          },
          "paper_bgcolor": "white",
          "plot_bgcolor": "#E5ECF6",
          "polar": {
           "angularaxis": {
            "gridcolor": "white",
            "linecolor": "white",
            "ticks": ""
           },
           "bgcolor": "#E5ECF6",
           "radialaxis": {
            "gridcolor": "white",
            "linecolor": "white",
            "ticks": ""
           }
          },
          "scene": {
           "xaxis": {
            "backgroundcolor": "#E5ECF6",
            "gridcolor": "white",
            "gridwidth": 2,
            "linecolor": "white",
            "showbackground": true,
            "ticks": "",
            "zerolinecolor": "white"
           },
           "yaxis": {
            "backgroundcolor": "#E5ECF6",
            "gridcolor": "white",
            "gridwidth": 2,
            "linecolor": "white",
            "showbackground": true,
            "ticks": "",
            "zerolinecolor": "white"
           },
           "zaxis": {
            "backgroundcolor": "#E5ECF6",
            "gridcolor": "white",
            "gridwidth": 2,
            "linecolor": "white",
            "showbackground": true,
            "ticks": "",
            "zerolinecolor": "white"
           }
          },
          "shapedefaults": {
           "line": {
            "color": "#2a3f5f"
           }
          },
          "ternary": {
           "aaxis": {
            "gridcolor": "white",
            "linecolor": "white",
            "ticks": ""
           },
           "baxis": {
            "gridcolor": "white",
            "linecolor": "white",
            "ticks": ""
           },
           "bgcolor": "#E5ECF6",
           "caxis": {
            "gridcolor": "white",
            "linecolor": "white",
            "ticks": ""
           }
          },
          "title": {
           "x": 0.05
          },
          "xaxis": {
           "automargin": true,
           "gridcolor": "white",
           "linecolor": "white",
           "ticks": "",
           "title": {
            "standoff": 15
           },
           "zerolinecolor": "white",
           "zerolinewidth": 2
          },
          "yaxis": {
           "automargin": true,
           "gridcolor": "white",
           "linecolor": "white",
           "ticks": "",
           "title": {
            "standoff": 15
           },
           "zerolinecolor": "white",
           "zerolinewidth": 2
          }
         }
        },
        "xaxis": {
         "anchor": "y",
         "domain": [
          0,
          1
         ],
         "title": {
          "text": "Product line"
         }
        },
        "yaxis": {
         "anchor": "x",
         "domain": [
          0,
          1
         ],
         "title": {
          "text": "sum of Quantity"
         }
        }
       }
      }
     },
     "metadata": {},
     "output_type": "display_data"
    }
   ],
   "source": [
    "px.histogram(df, x=df[\"Product line\"], y=\"Quantity\", color=df[\"City\"], barmode=\"group\")"
   ]
  }
 ],
 "metadata": {
  "kernelspec": {
   "display_name": "Python 3 (ipykernel)",
   "language": "python",
   "name": "python3"
  },
  "language_info": {
   "codemirror_mode": {
    "name": "ipython",
    "version": 3
   },
   "file_extension": ".py",
   "mimetype": "text/x-python",
   "name": "python",
   "nbconvert_exporter": "python",
   "pygments_lexer": "ipython3",
   "version": "3.9.7"
  }
 },
 "nbformat": 4,
 "nbformat_minor": 5
}
